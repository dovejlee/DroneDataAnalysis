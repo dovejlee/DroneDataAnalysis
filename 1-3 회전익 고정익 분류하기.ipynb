{
 "cells": [
  {
   "cell_type": "markdown",
   "metadata": {
    "id": "a9uqIhOFRhdw"
   },
   "source": [
    "회전익 고정익 구분하기 (머신러닝)"
   ]
  },
  {
   "cell_type": "code",
   "execution_count": 1,
   "metadata": {
    "id": "7qI-27yJZFLy"
   },
   "outputs": [],
   "source": [
    "import pandas as pd\n",
    "import numpy as np\n",
    "import matplotlib.pyplot as plt\n",
    "from sklearn.neighbors import KNeighborsClassifier"
   ]
  },
  {
   "cell_type": "code",
   "execution_count": 3,
   "metadata": {},
   "outputs": [],
   "source": [
    "FixedWing_df = pd.read_csv(\"FixedWing.csv\")\n",
    "MultiCopter_df = pd.read_csv(\"RotaryWing.csv\")"
   ]
  },
  {
   "cell_type": "code",
   "execution_count": 4,
   "metadata": {},
   "outputs": [
    {
     "data": {
      "text/plain": [
       "Index(['Company', 'Name', 'Length', 'Width', 'Weight'], dtype='object')"
      ]
     },
     "execution_count": 4,
     "metadata": {},
     "output_type": "execute_result"
    }
   ],
   "source": [
    "FixedWing_df.columns"
   ]
  },
  {
   "cell_type": "code",
   "execution_count": 5,
   "metadata": {},
   "outputs": [
    {
     "data": {
      "text/plain": [
       "Index(['Company', 'Name', 'Length', 'Width', 'Height', 'Weight'], dtype='object')"
      ]
     },
     "execution_count": 5,
     "metadata": {},
     "output_type": "execute_result"
    }
   ],
   "source": [
    "MultiCopter_df.columns"
   ]
  },
  {
   "cell_type": "code",
   "execution_count": 6,
   "metadata": {},
   "outputs": [
    {
     "data": {
      "text/html": [
       "<div>\n",
       "<style scoped>\n",
       "    .dataframe tbody tr th:only-of-type {\n",
       "        vertical-align: middle;\n",
       "    }\n",
       "\n",
       "    .dataframe tbody tr th {\n",
       "        vertical-align: top;\n",
       "    }\n",
       "\n",
       "    .dataframe thead th {\n",
       "        text-align: right;\n",
       "    }\n",
       "</style>\n",
       "<table border=\"1\" class=\"dataframe\">\n",
       "  <thead>\n",
       "    <tr style=\"text-align: right;\">\n",
       "      <th></th>\n",
       "      <th>Company</th>\n",
       "      <th>Name</th>\n",
       "      <th>Length</th>\n",
       "      <th>Width</th>\n",
       "      <th>Weight</th>\n",
       "    </tr>\n",
       "  </thead>\n",
       "  <tbody>\n",
       "    <tr>\n",
       "      <th>0</th>\n",
       "      <td>XK</td>\n",
       "      <td>A100 SU27</td>\n",
       "      <td>420</td>\n",
       "      <td>340</td>\n",
       "      <td>65</td>\n",
       "    </tr>\n",
       "    <tr>\n",
       "      <th>1</th>\n",
       "      <td>Samco</td>\n",
       "      <td>DUODRONE</td>\n",
       "      <td>1400</td>\n",
       "      <td>2200</td>\n",
       "      <td>3200</td>\n",
       "    </tr>\n",
       "    <tr>\n",
       "      <th>2</th>\n",
       "      <td>Uconsystem</td>\n",
       "      <td>RemoM-002</td>\n",
       "      <td>1440</td>\n",
       "      <td>1800</td>\n",
       "      <td>3500</td>\n",
       "    </tr>\n",
       "    <tr>\n",
       "      <th>3</th>\n",
       "      <td>Suewon Unmanned Tech</td>\n",
       "      <td>SCANNER</td>\n",
       "      <td>1200</td>\n",
       "      <td>2600</td>\n",
       "      <td>5000</td>\n",
       "    </tr>\n",
       "    <tr>\n",
       "      <th>4</th>\n",
       "      <td>KEVA Drone</td>\n",
       "      <td>KD-2 MAPPER</td>\n",
       "      <td>1100</td>\n",
       "      <td>1800</td>\n",
       "      <td>2000</td>\n",
       "    </tr>\n",
       "    <tr>\n",
       "      <th>5</th>\n",
       "      <td>Volantex</td>\n",
       "      <td>ASW28</td>\n",
       "      <td>1132</td>\n",
       "      <td>2540</td>\n",
       "      <td>1050</td>\n",
       "    </tr>\n",
       "    <tr>\n",
       "      <th>6</th>\n",
       "      <td>Suewon Unmanned Tech</td>\n",
       "      <td>VAM-400X</td>\n",
       "      <td>1000</td>\n",
       "      <td>1400</td>\n",
       "      <td>6000</td>\n",
       "    </tr>\n",
       "    <tr>\n",
       "      <th>7</th>\n",
       "      <td>FINEKOWAC</td>\n",
       "      <td>Canister Style</td>\n",
       "      <td>1500</td>\n",
       "      <td>1500</td>\n",
       "      <td>15000</td>\n",
       "    </tr>\n",
       "    <tr>\n",
       "      <th>8</th>\n",
       "      <td>Parrot</td>\n",
       "      <td>DISCO</td>\n",
       "      <td>580</td>\n",
       "      <td>1150</td>\n",
       "      <td>750</td>\n",
       "    </tr>\n",
       "    <tr>\n",
       "      <th>9</th>\n",
       "      <td>Samco</td>\n",
       "      <td>DUODRONE - VA</td>\n",
       "      <td>2600</td>\n",
       "      <td>1400</td>\n",
       "      <td>10000</td>\n",
       "    </tr>\n",
       "    <tr>\n",
       "      <th>10</th>\n",
       "      <td>Samco</td>\n",
       "      <td>DUODRONE-EN</td>\n",
       "      <td>3200</td>\n",
       "      <td>2000</td>\n",
       "      <td>21500</td>\n",
       "    </tr>\n",
       "    <tr>\n",
       "      <th>11</th>\n",
       "      <td>Samco</td>\n",
       "      <td>DUODRONE-WB</td>\n",
       "      <td>1200</td>\n",
       "      <td>3000</td>\n",
       "      <td>9000</td>\n",
       "    </tr>\n",
       "    <tr>\n",
       "      <th>12</th>\n",
       "      <td>Beliver</td>\n",
       "      <td>1960mm UAV</td>\n",
       "      <td>1070</td>\n",
       "      <td>1960</td>\n",
       "      <td>4200</td>\n",
       "    </tr>\n",
       "    <tr>\n",
       "      <th>13</th>\n",
       "      <td>Skywalker</td>\n",
       "      <td>1830mm FPV Plane</td>\n",
       "      <td>1270</td>\n",
       "      <td>1830</td>\n",
       "      <td>2750</td>\n",
       "    </tr>\n",
       "    <tr>\n",
       "      <th>14</th>\n",
       "      <td>ACCESS WE</td>\n",
       "      <td>Neptune V270</td>\n",
       "      <td>1460</td>\n",
       "      <td>2750</td>\n",
       "      <td>17000</td>\n",
       "    </tr>\n",
       "    <tr>\n",
       "      <th>15</th>\n",
       "      <td>MFE</td>\n",
       "      <td>Freedman</td>\n",
       "      <td>1070</td>\n",
       "      <td>2100</td>\n",
       "      <td>5000</td>\n",
       "    </tr>\n",
       "    <tr>\n",
       "      <th>16</th>\n",
       "      <td>World Model</td>\n",
       "      <td>Cherokee2</td>\n",
       "      <td>1637</td>\n",
       "      <td>3320</td>\n",
       "      <td>3780</td>\n",
       "    </tr>\n",
       "    <tr>\n",
       "      <th>17</th>\n",
       "      <td>X-UAV</td>\n",
       "      <td>Talon</td>\n",
       "      <td>1100</td>\n",
       "      <td>1718</td>\n",
       "      <td>2750</td>\n",
       "    </tr>\n",
       "    <tr>\n",
       "      <th>18</th>\n",
       "      <td>SonicModell</td>\n",
       "      <td>Mini Skyhunter V2</td>\n",
       "      <td>855</td>\n",
       "      <td>1238</td>\n",
       "      <td>830</td>\n",
       "    </tr>\n",
       "    <tr>\n",
       "      <th>19</th>\n",
       "      <td>Dyman</td>\n",
       "      <td>P-51D Mustang</td>\n",
       "      <td>1045</td>\n",
       "      <td>1200</td>\n",
       "      <td>1100</td>\n",
       "    </tr>\n",
       "    <tr>\n",
       "      <th>20</th>\n",
       "      <td>Phoenix</td>\n",
       "      <td>Stinson EP</td>\n",
       "      <td>990</td>\n",
       "      <td>1310</td>\n",
       "      <td>1700</td>\n",
       "    </tr>\n",
       "    <tr>\n",
       "      <th>21</th>\n",
       "      <td>Skywing</td>\n",
       "      <td>Sky rock F3A</td>\n",
       "      <td>1030</td>\n",
       "      <td>1000</td>\n",
       "      <td>760</td>\n",
       "    </tr>\n",
       "    <tr>\n",
       "      <th>22</th>\n",
       "      <td>Dyman</td>\n",
       "      <td>Seawind</td>\n",
       "      <td>1045</td>\n",
       "      <td>1220</td>\n",
       "      <td>1250</td>\n",
       "    </tr>\n",
       "    <tr>\n",
       "      <th>23</th>\n",
       "      <td>World Model</td>\n",
       "      <td>Qutrageous Racing</td>\n",
       "      <td>980</td>\n",
       "      <td>1320</td>\n",
       "      <td>1540</td>\n",
       "    </tr>\n",
       "    <tr>\n",
       "      <th>24</th>\n",
       "      <td>World Model</td>\n",
       "      <td>The Big Wings</td>\n",
       "      <td>1075</td>\n",
       "      <td>3035</td>\n",
       "      <td>7100</td>\n",
       "    </tr>\n",
       "    <tr>\n",
       "      <th>25</th>\n",
       "      <td>ZETA</td>\n",
       "      <td>Z-84 EPO</td>\n",
       "      <td>405</td>\n",
       "      <td>845</td>\n",
       "      <td>300</td>\n",
       "    </tr>\n",
       "    <tr>\n",
       "      <th>26</th>\n",
       "      <td>Skywalker</td>\n",
       "      <td>falcon</td>\n",
       "      <td>620</td>\n",
       "      <td>1340</td>\n",
       "      <td>650</td>\n",
       "    </tr>\n",
       "    <tr>\n",
       "      <th>27</th>\n",
       "      <td>Ranger</td>\n",
       "      <td>EX 757-3</td>\n",
       "      <td>1170</td>\n",
       "      <td>1980</td>\n",
       "      <td>1500</td>\n",
       "    </tr>\n",
       "  </tbody>\n",
       "</table>\n",
       "</div>"
      ],
      "text/plain": [
       "                 Company               Name  Length  Width  Weight\n",
       "0                     XK          A100 SU27     420    340      65\n",
       "1                  Samco           DUODRONE    1400   2200    3200\n",
       "2             Uconsystem          RemoM-002    1440   1800    3500\n",
       "3   Suewon Unmanned Tech            SCANNER    1200   2600    5000\n",
       "4             KEVA Drone        KD-2 MAPPER    1100   1800    2000\n",
       "5               Volantex              ASW28    1132   2540    1050\n",
       "6   Suewon Unmanned Tech           VAM-400X    1000   1400    6000\n",
       "7              FINEKOWAC     Canister Style    1500   1500   15000\n",
       "8                 Parrot              DISCO     580   1150     750\n",
       "9                  Samco      DUODRONE - VA    2600   1400   10000\n",
       "10                 Samco        DUODRONE-EN    3200   2000   21500\n",
       "11                 Samco        DUODRONE-WB    1200   3000    9000\n",
       "12               Beliver         1960mm UAV    1070   1960    4200\n",
       "13             Skywalker   1830mm FPV Plane    1270   1830    2750\n",
       "14             ACCESS WE       Neptune V270    1460   2750   17000\n",
       "15                   MFE           Freedman    1070   2100    5000\n",
       "16           World Model          Cherokee2    1637   3320    3780\n",
       "17                 X-UAV              Talon    1100   1718    2750\n",
       "18           SonicModell  Mini Skyhunter V2     855   1238     830\n",
       "19                 Dyman      P-51D Mustang    1045   1200    1100\n",
       "20               Phoenix         Stinson EP     990   1310    1700\n",
       "21               Skywing       Sky rock F3A    1030   1000     760\n",
       "22                 Dyman            Seawind    1045   1220    1250\n",
       "23           World Model  Qutrageous Racing     980   1320    1540\n",
       "24           World Model      The Big Wings    1075   3035    7100\n",
       "25                  ZETA           Z-84 EPO     405    845     300\n",
       "26             Skywalker             falcon     620   1340     650\n",
       "27                Ranger           EX 757-3    1170   1980    1500"
      ]
     },
     "execution_count": 6,
     "metadata": {},
     "output_type": "execute_result"
    }
   ],
   "source": [
    "FixedWing_df"
   ]
  },
  {
   "cell_type": "code",
   "execution_count": 7,
   "metadata": {},
   "outputs": [
    {
     "data": {
      "text/html": [
       "<div>\n",
       "<style scoped>\n",
       "    .dataframe tbody tr th:only-of-type {\n",
       "        vertical-align: middle;\n",
       "    }\n",
       "\n",
       "    .dataframe tbody tr th {\n",
       "        vertical-align: top;\n",
       "    }\n",
       "\n",
       "    .dataframe thead th {\n",
       "        text-align: right;\n",
       "    }\n",
       "</style>\n",
       "<table border=\"1\" class=\"dataframe\">\n",
       "  <thead>\n",
       "    <tr style=\"text-align: right;\">\n",
       "      <th></th>\n",
       "      <th>Company</th>\n",
       "      <th>Name</th>\n",
       "      <th>Length</th>\n",
       "      <th>Width</th>\n",
       "      <th>Height</th>\n",
       "      <th>Weight</th>\n",
       "    </tr>\n",
       "  </thead>\n",
       "  <tbody>\n",
       "    <tr>\n",
       "      <th>0</th>\n",
       "      <td>DJI</td>\n",
       "      <td>MAVIC 2 ZOOM</td>\n",
       "      <td>322.0</td>\n",
       "      <td>242.0</td>\n",
       "      <td>84.0</td>\n",
       "      <td>905</td>\n",
       "    </tr>\n",
       "    <tr>\n",
       "      <th>1</th>\n",
       "      <td>DJI</td>\n",
       "      <td>MAVIC 2 PRO</td>\n",
       "      <td>322.0</td>\n",
       "      <td>242.0</td>\n",
       "      <td>84.0</td>\n",
       "      <td>907</td>\n",
       "    </tr>\n",
       "    <tr>\n",
       "      <th>2</th>\n",
       "      <td>DJI</td>\n",
       "      <td>PHANTOM 4 PRO</td>\n",
       "      <td>289.5</td>\n",
       "      <td>289.5</td>\n",
       "      <td>196.0</td>\n",
       "      <td>1375</td>\n",
       "    </tr>\n",
       "    <tr>\n",
       "      <th>3</th>\n",
       "      <td>DJI</td>\n",
       "      <td>SPARK</td>\n",
       "      <td>143.0</td>\n",
       "      <td>143.0</td>\n",
       "      <td>55.0</td>\n",
       "      <td>300</td>\n",
       "    </tr>\n",
       "    <tr>\n",
       "      <th>4</th>\n",
       "      <td>DJI</td>\n",
       "      <td>INSPIRE 2</td>\n",
       "      <td>427.0</td>\n",
       "      <td>317.0</td>\n",
       "      <td>425.0</td>\n",
       "      <td>3440</td>\n",
       "    </tr>\n",
       "    <tr>\n",
       "      <th>5</th>\n",
       "      <td>DJI</td>\n",
       "      <td>MG-1P</td>\n",
       "      <td>1460.0</td>\n",
       "      <td>1460.0</td>\n",
       "      <td>616.0</td>\n",
       "      <td>9700</td>\n",
       "    </tr>\n",
       "    <tr>\n",
       "      <th>6</th>\n",
       "      <td>KaKBeir</td>\n",
       "      <td>SG700D</td>\n",
       "      <td>400.0</td>\n",
       "      <td>300.0</td>\n",
       "      <td>60.0</td>\n",
       "      <td>147</td>\n",
       "    </tr>\n",
       "    <tr>\n",
       "      <th>7</th>\n",
       "      <td>CERES</td>\n",
       "      <td>10s</td>\n",
       "      <td>1940.0</td>\n",
       "      <td>1680.0</td>\n",
       "      <td>460.0</td>\n",
       "      <td>14900</td>\n",
       "    </tr>\n",
       "    <tr>\n",
       "      <th>8</th>\n",
       "      <td>CERES</td>\n",
       "      <td>16H</td>\n",
       "      <td>1860.0</td>\n",
       "      <td>1860.0</td>\n",
       "      <td>600.0</td>\n",
       "      <td>17100</td>\n",
       "    </tr>\n",
       "    <tr>\n",
       "      <th>9</th>\n",
       "      <td>CERES</td>\n",
       "      <td>CERES3 Lite</td>\n",
       "      <td>365.0</td>\n",
       "      <td>365.0</td>\n",
       "      <td>110.0</td>\n",
       "      <td>992</td>\n",
       "    </tr>\n",
       "    <tr>\n",
       "      <th>10</th>\n",
       "      <td>EFT</td>\n",
       "      <td>G420</td>\n",
       "      <td>1974.0</td>\n",
       "      <td>2665.0</td>\n",
       "      <td>868.0</td>\n",
       "      <td>18320</td>\n",
       "    </tr>\n",
       "    <tr>\n",
       "      <th>11</th>\n",
       "      <td>intosky</td>\n",
       "      <td>PREX9-T18</td>\n",
       "      <td>1590.0</td>\n",
       "      <td>1370.0</td>\n",
       "      <td>570.0</td>\n",
       "      <td>18500</td>\n",
       "    </tr>\n",
       "    <tr>\n",
       "      <th>12</th>\n",
       "      <td>Raptor</td>\n",
       "      <td>T Quad 25E</td>\n",
       "      <td>730.0</td>\n",
       "      <td>600.0</td>\n",
       "      <td>330.0</td>\n",
       "      <td>1434</td>\n",
       "    </tr>\n",
       "    <tr>\n",
       "      <th>13</th>\n",
       "      <td>KoreanAir</td>\n",
       "      <td>Inspection Drone</td>\n",
       "      <td>1002.0</td>\n",
       "      <td>1002.0</td>\n",
       "      <td>404.0</td>\n",
       "      <td>5500</td>\n",
       "    </tr>\n",
       "    <tr>\n",
       "      <th>14</th>\n",
       "      <td>Xiaomi</td>\n",
       "      <td>FIMI X8 SE</td>\n",
       "      <td>204.0</td>\n",
       "      <td>106.0</td>\n",
       "      <td>72.6</td>\n",
       "      <td>790</td>\n",
       "    </tr>\n",
       "    <tr>\n",
       "      <th>15</th>\n",
       "      <td>XK</td>\n",
       "      <td>X380</td>\n",
       "      <td>305.0</td>\n",
       "      <td>305.0</td>\n",
       "      <td>210.0</td>\n",
       "      <td>945</td>\n",
       "    </tr>\n",
       "    <tr>\n",
       "      <th>16</th>\n",
       "      <td>DJI</td>\n",
       "      <td>mini2</td>\n",
       "      <td>159.0</td>\n",
       "      <td>203.0</td>\n",
       "      <td>56.0</td>\n",
       "      <td>249</td>\n",
       "    </tr>\n",
       "    <tr>\n",
       "      <th>17</th>\n",
       "      <td>EFT</td>\n",
       "      <td>EFT610</td>\n",
       "      <td>1800.0</td>\n",
       "      <td>1800.0</td>\n",
       "      <td>480.0</td>\n",
       "      <td>13800</td>\n",
       "    </tr>\n",
       "    <tr>\n",
       "      <th>18</th>\n",
       "      <td>infinity works</td>\n",
       "      <td>P6CR</td>\n",
       "      <td>860.0</td>\n",
       "      <td>760.0</td>\n",
       "      <td>650.0</td>\n",
       "      <td>9700</td>\n",
       "    </tr>\n",
       "    <tr>\n",
       "      <th>19</th>\n",
       "      <td>infinity works</td>\n",
       "      <td>P6</td>\n",
       "      <td>1140.0</td>\n",
       "      <td>1000.0</td>\n",
       "      <td>650.0</td>\n",
       "      <td>9400</td>\n",
       "    </tr>\n",
       "    <tr>\n",
       "      <th>20</th>\n",
       "      <td>infinity works</td>\n",
       "      <td>P4A</td>\n",
       "      <td>1225.0</td>\n",
       "      <td>880.0</td>\n",
       "      <td>580.0</td>\n",
       "      <td>15000</td>\n",
       "    </tr>\n",
       "    <tr>\n",
       "      <th>21</th>\n",
       "      <td>infinity works</td>\n",
       "      <td>P4X</td>\n",
       "      <td>350.0</td>\n",
       "      <td>250.0</td>\n",
       "      <td>150.0</td>\n",
       "      <td>1400</td>\n",
       "    </tr>\n",
       "    <tr>\n",
       "      <th>22</th>\n",
       "      <td>soomvi</td>\n",
       "      <td>V-100</td>\n",
       "      <td>1000.0</td>\n",
       "      <td>482.6</td>\n",
       "      <td>770.0</td>\n",
       "      <td>13100</td>\n",
       "    </tr>\n",
       "    <tr>\n",
       "      <th>23</th>\n",
       "      <td>xdrone</td>\n",
       "      <td>XD-X8S</td>\n",
       "      <td>1100.0</td>\n",
       "      <td>1100.0</td>\n",
       "      <td>860.0</td>\n",
       "      <td>13500</td>\n",
       "    </tr>\n",
       "    <tr>\n",
       "      <th>24</th>\n",
       "      <td>Uconsystem</td>\n",
       "      <td>Remocopter-800</td>\n",
       "      <td>643.0</td>\n",
       "      <td>643.0</td>\n",
       "      <td>255.0</td>\n",
       "      <td>5250</td>\n",
       "    </tr>\n",
       "    <tr>\n",
       "      <th>25</th>\n",
       "      <td>Uconsystem</td>\n",
       "      <td>Remocopter-900</td>\n",
       "      <td>535.0</td>\n",
       "      <td>535.0</td>\n",
       "      <td>150.0</td>\n",
       "      <td>7600</td>\n",
       "    </tr>\n",
       "    <tr>\n",
       "      <th>26</th>\n",
       "      <td>Huins</td>\n",
       "      <td>Blueye-1K</td>\n",
       "      <td>330.0</td>\n",
       "      <td>300.0</td>\n",
       "      <td>600.0</td>\n",
       "      <td>1200</td>\n",
       "    </tr>\n",
       "    <tr>\n",
       "      <th>27</th>\n",
       "      <td>ARWroks</td>\n",
       "      <td>DAMO AR-X8</td>\n",
       "      <td>1000.0</td>\n",
       "      <td>1000.0</td>\n",
       "      <td>600.0</td>\n",
       "      <td>10200</td>\n",
       "    </tr>\n",
       "    <tr>\n",
       "      <th>28</th>\n",
       "      <td>drogen</td>\n",
       "      <td>LOBIT 300GT</td>\n",
       "      <td>360.0</td>\n",
       "      <td>268.0</td>\n",
       "      <td>100.0</td>\n",
       "      <td>850</td>\n",
       "    </tr>\n",
       "    <tr>\n",
       "      <th>29</th>\n",
       "      <td>Enord</td>\n",
       "      <td>Kdrone-A20</td>\n",
       "      <td>2123.0</td>\n",
       "      <td>2123.0</td>\n",
       "      <td>688.0</td>\n",
       "      <td>18800</td>\n",
       "    </tr>\n",
       "  </tbody>\n",
       "</table>\n",
       "</div>"
      ],
      "text/plain": [
       "           Company              Name  Length   Width  Height  Weight\n",
       "0              DJI      MAVIC 2 ZOOM   322.0   242.0    84.0     905\n",
       "1              DJI       MAVIC 2 PRO   322.0   242.0    84.0     907\n",
       "2              DJI     PHANTOM 4 PRO   289.5   289.5   196.0    1375\n",
       "3              DJI             SPARK   143.0   143.0    55.0     300\n",
       "4              DJI         INSPIRE 2   427.0   317.0   425.0    3440\n",
       "5              DJI             MG-1P  1460.0  1460.0   616.0    9700\n",
       "6          KaKBeir            SG700D   400.0   300.0    60.0     147\n",
       "7            CERES               10s  1940.0  1680.0   460.0   14900\n",
       "8            CERES               16H  1860.0  1860.0   600.0   17100\n",
       "9            CERES       CERES3 Lite   365.0   365.0   110.0     992\n",
       "10             EFT              G420  1974.0  2665.0   868.0   18320\n",
       "11         intosky         PREX9-T18  1590.0  1370.0   570.0   18500\n",
       "12          Raptor        T Quad 25E   730.0   600.0   330.0    1434\n",
       "13       KoreanAir  Inspection Drone  1002.0  1002.0   404.0    5500\n",
       "14          Xiaomi        FIMI X8 SE   204.0   106.0    72.6     790\n",
       "15              XK              X380   305.0   305.0   210.0     945\n",
       "16             DJI             mini2   159.0   203.0    56.0     249\n",
       "17             EFT            EFT610  1800.0  1800.0   480.0   13800\n",
       "18  infinity works              P6CR   860.0   760.0   650.0    9700\n",
       "19  infinity works                P6  1140.0  1000.0   650.0    9400\n",
       "20  infinity works               P4A  1225.0   880.0   580.0   15000\n",
       "21  infinity works               P4X   350.0   250.0   150.0    1400\n",
       "22          soomvi             V-100  1000.0   482.6   770.0   13100\n",
       "23          xdrone            XD-X8S  1100.0  1100.0   860.0   13500\n",
       "24      Uconsystem    Remocopter-800   643.0   643.0   255.0    5250\n",
       "25      Uconsystem    Remocopter-900   535.0   535.0   150.0    7600\n",
       "26           Huins         Blueye-1K   330.0   300.0   600.0    1200\n",
       "27         ARWroks        DAMO AR-X8  1000.0  1000.0   600.0   10200\n",
       "28          drogen       LOBIT 300GT   360.0   268.0   100.0     850\n",
       "29           Enord        Kdrone-A20  2123.0  2123.0   688.0   18800"
      ]
     },
     "execution_count": 7,
     "metadata": {},
     "output_type": "execute_result"
    }
   ],
   "source": [
    "MultiCopter_df"
   ]
  },
  {
   "cell_type": "code",
   "execution_count": 8,
   "metadata": {},
   "outputs": [],
   "source": [
    "FixedWingLength = FixedWing_df.loc[:,\"Length\"].to_list()\n",
    "FixedWingWeight = FixedWing_df.loc[:, \"Weight\"].to_list()\n",
    "MultiCopterLength = MultiCopter_df.loc[:, \"Length\"].to_list()\n",
    "MultiCopterWeight = MultiCopter_df.loc[:, \"Weight\"].to_list()"
   ]
  },
  {
   "cell_type": "code",
   "execution_count": 9,
   "metadata": {},
   "outputs": [
    {
     "data": {
      "text/plain": [
       "list"
      ]
     },
     "execution_count": 9,
     "metadata": {},
     "output_type": "execute_result"
    }
   ],
   "source": [
    "type(FixedWingLength)"
   ]
  },
  {
   "cell_type": "code",
   "execution_count": 10,
   "metadata": {},
   "outputs": [
    {
     "data": {
      "text/plain": [
       "[322.0,\n",
       " 322.0,\n",
       " 289.5,\n",
       " 143.0,\n",
       " 427.0,\n",
       " 1460.0,\n",
       " 400.0,\n",
       " 1940.0,\n",
       " 1860.0,\n",
       " 365.0,\n",
       " 1974.0,\n",
       " 1590.0,\n",
       " 730.0,\n",
       " 1002.0,\n",
       " 204.0,\n",
       " 305.0,\n",
       " 159.0,\n",
       " 1800.0,\n",
       " 860.0,\n",
       " 1140.0,\n",
       " 1225.0,\n",
       " 350.0,\n",
       " 1000.0,\n",
       " 1100.0,\n",
       " 643.0,\n",
       " 535.0,\n",
       " 330.0,\n",
       " 1000.0,\n",
       " 360.0,\n",
       " 2123.0]"
      ]
     },
     "execution_count": 10,
     "metadata": {},
     "output_type": "execute_result"
    }
   ],
   "source": [
    "MultiCopterLength"
   ]
  },
  {
   "cell_type": "code",
   "execution_count": 11,
   "metadata": {},
   "outputs": [
    {
     "data": {
      "text/plain": [
       "[420,\n",
       " 1400,\n",
       " 1440,\n",
       " 1200,\n",
       " 1100,\n",
       " 1132,\n",
       " 1000,\n",
       " 1500,\n",
       " 580,\n",
       " 2600,\n",
       " 3200,\n",
       " 1200,\n",
       " 1070,\n",
       " 1270,\n",
       " 1460,\n",
       " 1070,\n",
       " 1637,\n",
       " 1100,\n",
       " 855,\n",
       " 1045,\n",
       " 990,\n",
       " 1030,\n",
       " 1045,\n",
       " 980,\n",
       " 1075,\n",
       " 405,\n",
       " 620,\n",
       " 1170]"
      ]
     },
     "execution_count": 11,
     "metadata": {},
     "output_type": "execute_result"
    }
   ],
   "source": [
    "FixedWingLength"
   ]
  },
  {
   "cell_type": "code",
   "execution_count": 12,
   "metadata": {
    "colab": {
     "base_uri": "https://localhost:8080/",
     "height": 279
    },
    "id": "WhHc0VixV1vO",
    "outputId": "26740a42-61bf-487f-bd94-beb32fb4f17f"
   },
   "outputs": [
    {
     "data": {
      "image/png": "[encoded data removed]",
      "text/plain": [
       "<Figure size 432x288 with 1 Axes>"
      ]
     },
     "metadata": {
      "needs_background": "light"
     },
     "output_type": "display_data"
    }
   ],
   "source": [
    "plt.scatter(MultiCopterLength, MultiCopterWeight, color ='red')\n",
    "plt.scatter(FixedWingLength, FixedWingWeight, color= 'blue')\n",
    "plt.title('Compare MultiCopter (red) and FixedWing (blue)')\n",
    "plt.xlabel('length')\n",
    "plt.ylabel('weigth')\n",
    "plt.show()"
   ]
  },
  {
   "cell_type": "code",
   "execution_count": 13,
   "metadata": {
    "id": "abXkCmDvZcN5"
   },
   "outputs": [],
   "source": [
    "length = MultiCopterLength + FixedWingLength\n",
    "weight = MultiCopterWeight + FixedWingWeight "
   ]
  },
  {
   "cell_type": "code",
   "execution_count": 14,
   "metadata": {},
   "outputs": [
    {
     "data": {
      "text/plain": [
       "[322.0,\n",
       " 322.0,\n",
       " 289.5,\n",
       " 143.0,\n",
       " 427.0,\n",
       " 1460.0,\n",
       " 400.0,\n",
       " 1940.0,\n",
       " 1860.0,\n",
       " 365.0,\n",
       " 1974.0,\n",
       " 1590.0,\n",
       " 730.0,\n",
       " 1002.0,\n",
       " 204.0,\n",
       " 305.0,\n",
       " 159.0,\n",
       " 1800.0,\n",
       " 860.0,\n",
       " 1140.0,\n",
       " 1225.0,\n",
       " 350.0,\n",
       " 1000.0,\n",
       " 1100.0,\n",
       " 643.0,\n",
       " 535.0,\n",
       " 330.0,\n",
       " 1000.0,\n",
       " 360.0,\n",
       " 2123.0,\n",
       " 420,\n",
       " 1400,\n",
       " 1440,\n",
       " 1200,\n",
       " 1100,\n",
       " 1132,\n",
       " 1000,\n",
       " 1500,\n",
       " 580,\n",
       " 2600,\n",
       " 3200,\n",
       " 1200,\n",
       " 1070,\n",
       " 1270,\n",
       " 1460,\n",
       " 1070,\n",
       " 1637,\n",
       " 1100,\n",
       " 855,\n",
       " 1045,\n",
       " 990,\n",
       " 1030,\n",
       " 1045,\n",
       " 980,\n",
       " 1075,\n",
       " 405,\n",
       " 620,\n",
       " 1170]"
      ]
     },
     "execution_count": 14,
     "metadata": {},
     "output_type": "execute_result"
    }
   ],
   "source": [
    "length"
   ]
  },
  {
   "cell_type": "code",
   "execution_count": 15,
   "metadata": {},
   "outputs": [
    {
     "data": {
      "text/plain": [
       "[905,\n",
       " 907,\n",
       " 1375,\n",
       " 300,\n",
       " 3440,\n",
       " 9700,\n",
       " 147,\n",
       " 14900,\n",
       " 17100,\n",
       " 992,\n",
       " 18320,\n",
       " 18500,\n",
       " 1434,\n",
       " 5500,\n",
       " 790,\n",
       " 945,\n",
       " 249,\n",
       " 13800,\n",
       " 9700,\n",
       " 9400,\n",
       " 15000,\n",
       " 1400,\n",
       " 13100,\n",
       " 13500,\n",
       " 5250,\n",
       " 7600,\n",
       " 1200,\n",
       " 10200,\n",
       " 850,\n",
       " 18800,\n",
       " 65,\n",
       " 3200,\n",
       " 3500,\n",
       " 5000,\n",
       " 2000,\n",
       " 1050,\n",
       " 6000,\n",
       " 15000,\n",
       " 750,\n",
       " 10000,\n",
       " 21500,\n",
       " 9000,\n",
       " 4200,\n",
       " 2750,\n",
       " 17000,\n",
       " 5000,\n",
       " 3780,\n",
       " 2750,\n",
       " 830,\n",
       " 1100,\n",
       " 1700,\n",
       " 760,\n",
       " 1250,\n",
       " 1540,\n",
       " 7100,\n",
       " 300,\n",
       " 650,\n",
       " 1500]"
      ]
     },
     "execution_count": 15,
     "metadata": {},
     "output_type": "execute_result"
    }
   ],
   "source": [
    "weight"
   ]
  },
  {
   "cell_type": "code",
   "execution_count": 16,
   "metadata": {
    "id": "fAjGh38efzop"
   },
   "outputs": [],
   "source": [
    "drone_data = [[ l, w,] for l, w in zip(length, weight)]"
   ]
  },
  {
   "cell_type": "code",
   "execution_count": 17,
   "metadata": {},
   "outputs": [
    {
     "data": {
      "text/plain": [
       "[[322.0, 905],\n",
       " [322.0, 907],\n",
       " [289.5, 1375],\n",
       " [143.0, 300],\n",
       " [427.0, 3440],\n",
       " [1460.0, 9700],\n",
       " [400.0, 147],\n",
       " [1940.0, 14900],\n",
       " [1860.0, 17100],\n",
       " [365.0, 992],\n",
       " [1974.0, 18320],\n",
       " [1590.0, 18500],\n",
       " [730.0, 1434],\n",
       " [1002.0, 5500],\n",
       " [204.0, 790],\n",
       " [305.0, 945],\n",
       " [159.0, 249],\n",
       " [1800.0, 13800],\n",
       " [860.0, 9700],\n",
       " [1140.0, 9400],\n",
       " [1225.0, 15000],\n",
       " [350.0, 1400],\n",
       " [1000.0, 13100],\n",
       " [1100.0, 13500],\n",
       " [643.0, 5250],\n",
       " [535.0, 7600],\n",
       " [330.0, 1200],\n",
       " [1000.0, 10200],\n",
       " [360.0, 850],\n",
       " [2123.0, 18800],\n",
       " [420, 65],\n",
       " [1400, 3200],\n",
       " [1440, 3500],\n",
       " [1200, 5000],\n",
       " [1100, 2000],\n",
       " [1132, 1050],\n",
       " [1000, 6000],\n",
       " [1500, 15000],\n",
       " [580, 750],\n",
       " [2600, 10000],\n",
       " [3200, 21500],\n",
       " [1200, 9000],\n",
       " [1070, 4200],\n",
       " [1270, 2750],\n",
       " [1460, 17000],\n",
       " [1070, 5000],\n",
       " [1637, 3780],\n",
       " [1100, 2750],\n",
       " [855, 830],\n",
       " [1045, 1100],\n",
       " [990, 1700],\n",
       " [1030, 760],\n",
       " [1045, 1250],\n",
       " [980, 1540],\n",
       " [1075, 7100],\n",
       " [405, 300],\n",
       " [620, 650],\n",
       " [1170, 1500]]"
      ]
     },
     "execution_count": 17,
     "metadata": {},
     "output_type": "execute_result"
    }
   ],
   "source": [
    "drone_data"
   ]
  },
  {
   "cell_type": "code",
   "execution_count": 18,
   "metadata": {
    "id": "W4NqrFGuf9FV"
   },
   "outputs": [],
   "source": [
    "drone_target = [1] * 30 + [0] * 28"
   ]
  },
  {
   "cell_type": "code",
   "execution_count": 19,
   "metadata": {
    "colab": {
     "base_uri": "https://localhost:8080/"
    },
    "id": "5d4xkBGfgf55",
    "outputId": "0cf81833-6dd2-4a00-ada3-900876c0dde9"
   },
   "outputs": [
    {
     "name": "stdout",
     "output_type": "stream",
     "text": [
      "[1, 1, 1, 1, 1, 1, 1, 1, 1, 1, 1, 1, 1, 1, 1, 1, 1, 1, 1, 1, 1, 1, 1, 1, 1, 1, 1, 1, 1, 1, 0, 0, 0, 0, 0, 0, 0, 0, 0, 0, 0, 0, 0, 0, 0, 0, 0, 0, 0, 0, 0, 0, 0, 0, 0, 0, 0, 0]\n"
     ]
    }
   ],
   "source": [
    "print(drone_target)"
   ]
  },
  {
   "cell_type": "code",
   "execution_count": 20,
   "metadata": {
    "id": "xKAw5hSrgpQU"
   },
   "outputs": [],
   "source": [
    "kn = KNeighborsClassifier()"
   ]
  },
  {
   "cell_type": "code",
   "execution_count": 21,
   "metadata": {
    "colab": {
     "base_uri": "https://localhost:8080/"
    },
    "id": "nD4viBzuh8GB",
    "outputId": "0ad3bb7c-073c-45a9-deb1-984e71577b22"
   },
   "outputs": [
    {
     "name": "stdout",
     "output_type": "stream",
     "text": [
      "[[322.0, 905], [322.0, 907], [289.5, 1375], [143.0, 300], [427.0, 3440], [1460.0, 9700], [400.0, 147], [1940.0, 14900], [1860.0, 17100], [365.0, 992], [1974.0, 18320], [1590.0, 18500], [730.0, 1434], [1002.0, 5500], [204.0, 790], [305.0, 945], [159.0, 249], [1800.0, 13800], [860.0, 9700], [1140.0, 9400], [1225.0, 15000], [350.0, 1400], [1000.0, 13100], [1100.0, 13500], [643.0, 5250], [535.0, 7600], [330.0, 1200], [1000.0, 10200], [360.0, 850], [2123.0, 18800], [420, 65], [1400, 3200], [1440, 3500], [1200, 5000], [1100, 2000], [1132, 1050], [1000, 6000], [1500, 15000], [580, 750], [2600, 10000], [3200, 21500], [1200, 9000], [1070, 4200], [1270, 2750], [1460, 17000], [1070, 5000], [1637, 3780], [1100, 2750], [855, 830], [1045, 1100], [990, 1700], [1030, 760], [1045, 1250], [980, 1540], [1075, 7100], [405, 300], [620, 650], [1170, 1500]]\n"
     ]
    }
   ],
   "source": [
    "print(drone_data)"
   ]
  },
  {
   "cell_type": "code",
   "execution_count": 22,
   "metadata": {},
   "outputs": [
    {
     "data": {
      "text/plain": [
       "KNeighborsClassifier()"
      ]
     },
     "execution_count": 22,
     "metadata": {},
     "output_type": "execute_result"
    }
   ],
   "source": [
    "##학습 시키기\n",
    "kn.fit(drone_data, drone_target)"
   ]
  },
  {
   "cell_type": "code",
   "execution_count": 23,
   "metadata": {
    "id": "FUHsh4Yzhglu"
   },
   "outputs": [
    {
     "data": {
      "text/plain": [
       "0.7758620689655172"
      ]
     },
     "execution_count": 23,
     "metadata": {},
     "output_type": "execute_result"
    }
   ],
   "source": [
    "#평가\n",
    "kn.score(drone_data, drone_target)"
   ]
  },
  {
   "cell_type": "code",
   "execution_count": 24,
   "metadata": {},
   "outputs": [
    {
     "data": {
      "image/png": "[encoded data removed]",
      "text/plain": [
       "<Figure size 432x288 with 1 Axes>"
      ]
     },
     "metadata": {
      "needs_background": "light"
     },
     "output_type": "display_data"
    }
   ],
   "source": [
    "plt.scatter(MultiCopterLength, MultiCopterWeight)\n",
    "plt.scatter(FixedWingLength, FixedWingWeight)\n",
    "plt.scatter(1000,10000, marker='^')\n",
    "plt.xlabel('length')\n",
    "plt.ylabel('weigth')\n",
    "plt.show()"
   ]
  },
  {
   "cell_type": "code",
   "execution_count": 25,
   "metadata": {},
   "outputs": [
    {
     "data": {
      "text/plain": [
       "array([1])"
      ]
     },
     "execution_count": 25,
     "metadata": {},
     "output_type": "execute_result"
    }
   ],
   "source": [
    "kn.predict([[1000, 10000]])"
   ]
  },
  {
   "cell_type": "code",
   "execution_count": 26,
   "metadata": {},
   "outputs": [],
   "source": [
    "# 1000이고 무게는 10000인 것은 고정익으로예측함"
   ]
  },
  {
   "cell_type": "code",
   "execution_count": 27,
   "metadata": {},
   "outputs": [
    {
     "data": {
      "image/png": "[encoded data removed]",
      "text/plain": [
       "<Figure size 432x288 with 1 Axes>"
      ]
     },
     "metadata": {
      "needs_background": "light"
     },
     "output_type": "display_data"
    }
   ],
   "source": [
    "plt.scatter(MultiCopterLength, MultiCopterWeight)\n",
    "plt.scatter(FixedWingLength, FixedWingWeight)\n",
    "plt.scatter(1500, 15000, marker='^')\n",
    "plt.xlabel('length')\n",
    "plt.ylabel('weigth')\n",
    "plt.show()"
   ]
  },
  {
   "cell_type": "code",
   "execution_count": 28,
   "metadata": {},
   "outputs": [
    {
     "data": {
      "text/plain": [
       "array([1])"
      ]
     },
     "execution_count": 28,
     "metadata": {},
     "output_type": "execute_result"
    }
   ],
   "source": [
    "kn.predict([[1000,15000]])"
   ]
  },
  {
   "cell_type": "code",
   "execution_count": 29,
   "metadata": {},
   "outputs": [],
   "source": [
    "kn10 = KNeighborsClassifier(n_neighbors=10)"
   ]
  },
  {
   "cell_type": "code",
   "execution_count": 30,
   "metadata": {},
   "outputs": [
    {
     "data": {
      "text/plain": [
       "KNeighborsClassifier(n_neighbors=10)"
      ]
     },
     "execution_count": 30,
     "metadata": {},
     "output_type": "execute_result"
    }
   ],
   "source": [
    "kn10.fit(drone_data, drone_target)"
   ]
  },
  {
   "cell_type": "code",
   "execution_count": 31,
   "metadata": {},
   "outputs": [
    {
     "data": {
      "text/plain": [
       "0.7931034482758621"
      ]
     },
     "execution_count": 31,
     "metadata": {},
     "output_type": "execute_result"
    }
   ],
   "source": [
    "kn10.score(drone_data, drone_target)"
   ]
  },
  {
   "cell_type": "code",
   "execution_count": 32,
   "metadata": {},
   "outputs": [
    {
     "data": {
      "text/plain": [
       "KNeighborsClassifier(n_neighbors=3)"
      ]
     },
     "execution_count": 32,
     "metadata": {},
     "output_type": "execute_result"
    }
   ],
   "source": [
    "kn3=KNeighborsClassifier(n_neighbors=3)\n",
    "kn3.fit(drone_data, drone_target)"
   ]
  },
  {
   "cell_type": "code",
   "execution_count": 33,
   "metadata": {},
   "outputs": [
    {
     "data": {
      "text/plain": [
       "0.8275862068965517"
      ]
     },
     "execution_count": 33,
     "metadata": {},
     "output_type": "execute_result"
    }
   ],
   "source": [
    "kn3.score(drone_data, drone_target)"
   ]
  },
  {
   "cell_type": "code",
   "execution_count": 34,
   "metadata": {},
   "outputs": [
    {
     "data": {
      "text/plain": [
       "KNeighborsClassifier(n_neighbors=4)"
      ]
     },
     "execution_count": 34,
     "metadata": {},
     "output_type": "execute_result"
    }
   ],
   "source": [
    "kn4=KNeighborsClassifier(n_neighbors=4)\n",
    "kn4.fit(drone_data, drone_target)"
   ]
  },
  {
   "cell_type": "code",
   "execution_count": 35,
   "metadata": {},
   "outputs": [
    {
     "data": {
      "text/plain": [
       "0.8103448275862069"
      ]
     },
     "execution_count": 35,
     "metadata": {},
     "output_type": "execute_result"
    }
   ],
   "source": [
    "kn4.score(drone_data, drone_target)"
   ]
  },
  {
   "cell_type": "code",
   "execution_count": 36,
   "metadata": {},
   "outputs": [
    {
     "data": {
      "text/plain": [
       "KNeighborsClassifier(n_neighbors=2)"
      ]
     },
     "execution_count": 36,
     "metadata": {},
     "output_type": "execute_result"
    }
   ],
   "source": [
    "kn2=KNeighborsClassifier(n_neighbors=2)\n",
    "kn2.fit(drone_data, drone_target)"
   ]
  },
  {
   "cell_type": "code",
   "execution_count": 37,
   "metadata": {},
   "outputs": [
    {
     "data": {
      "text/plain": [
       "0.8620689655172413"
      ]
     },
     "execution_count": 37,
     "metadata": {},
     "output_type": "execute_result"
    }
   ],
   "source": [
    "kn2.score(drone_data, drone_target)"
   ]
  },
  {
   "cell_type": "markdown",
   "metadata": {},
   "source": [
    "# 수상한 드론을 회전익과 고정익이라고 다르게 예측함kn 2,  3, 4 , 5 "
   ]
  },
  {
   "cell_type": "code",
   "execution_count": 38,
   "metadata": {},
   "outputs": [
    {
     "data": {
      "text/plain": [
       "array([0])"
      ]
     },
     "execution_count": 38,
     "metadata": {},
     "output_type": "execute_result"
    }
   ],
   "source": [
    "kn2.predict([[1500,150000]])"
   ]
  },
  {
   "cell_type": "code",
   "execution_count": 39,
   "metadata": {},
   "outputs": [
    {
     "data": {
      "text/plain": [
       "array([1])"
      ]
     },
     "execution_count": 39,
     "metadata": {},
     "output_type": "execute_result"
    }
   ],
   "source": [
    "kn3.predict([[1500,150000]])"
   ]
  },
  {
   "cell_type": "code",
   "execution_count": 40,
   "metadata": {},
   "outputs": [
    {
     "data": {
      "text/plain": [
       "array([1])"
      ]
     },
     "execution_count": 40,
     "metadata": {},
     "output_type": "execute_result"
    }
   ],
   "source": [
    "kn4.predict([[1500,150000]])"
   ]
  },
  {
   "cell_type": "code",
   "execution_count": null,
   "metadata": {},
   "outputs": [],
   "source": []
  }
 ],
 "metadata": {
  "colab": {
   "collapsed_sections": [],
   "name": "bream_smelt.ipynb",
   "provenance": []
  },
  "kernelspec": {
   "display_name": "Python 3 (ipykernel)",
   "language": "python",
   "name": "python3"
  },
  "language_info": {
   "codemirror_mode": {
    "name": "ipython",
    "version": 3
   },
   "file_extension": ".py",
   "mimetype": "text/x-python",
   "name": "python",
   "nbconvert_exporter": "python",
   "pygments_lexer": "ipython3",
   "version": "3.9.7"
  }
 },
 "nbformat": 4,
 "nbformat_minor": 1
}
