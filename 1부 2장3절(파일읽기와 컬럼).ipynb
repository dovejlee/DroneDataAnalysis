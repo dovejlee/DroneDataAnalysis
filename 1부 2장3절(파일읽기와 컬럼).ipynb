{
 "cells": [
  {
   "cell_type": "code",
   "execution_count": 1,
   "metadata": {},
   "outputs": [],
   "source": [
    "# 데이타 분석을 위한 파다스 입문 3-3절 참조"
   ]
  },
  {
   "cell_type": "code",
   "execution_count": 2,
   "metadata": {},
   "outputs": [],
   "source": [
    "import pandas as pd"
   ]
  },
  {
   "cell_type": "code",
   "execution_count": 3,
   "metadata": {},
   "outputs": [],
   "source": [
    "Mavic2_df=pd.read_csv('2018_04_19_Mavic2.csv')"
   ]
  },
  {
   "cell_type": "code",
   "execution_count": 4,
   "metadata": {},
   "outputs": [
    {
     "name": "stdout",
     "output_type": "stream",
     "text": [
      "   Id  Time(seconds) Time(text)   Latitude   Longitude FlightMode  \\\n",
      "0   1            0.7    0m 0.7s  36.500569  126.337392      P-GPS   \n",
      "1   2            0.8    0m 0.8s  36.500569  126.337392      P-GPS   \n",
      "2   3            0.9    0m 0.9s  36.500569  126.337392      P-GPS   \n",
      "3   4            1.0      0m 1s  36.500569  126.337392      P-GPS   \n",
      "4   5            1.1    0m 1.1s  36.500569  126.337392      P-GPS   \n",
      "\n",
      "  Altitude(feet)  Altitude(meters)  HSpeed(mph)  HSpeed(m/s)  ...  RcAileron  \\\n",
      "0              0               0.0          0.0          0.0  ...       1024   \n",
      "1              0               0.0          0.0          0.0  ...       1024   \n",
      "2              0               0.0          0.0          0.0  ...       1024   \n",
      "3              0               0.0          0.0          0.0  ...       1024   \n",
      "4              0               0.0          0.0          0.0  ...       1024   \n",
      "\n",
      "   RcElevator RcGyro  RcRudder  RcThrottle  NonGpsError  GoHomeStatus  AppTip  \\\n",
      "0        1024   1024      1024        1024          NaN           NaN     NaN   \n",
      "1        1024   1024      1024        1024          NaN           NaN     NaN   \n",
      "2        1024   1024      1024        1024          NaN           NaN     NaN   \n",
      "3        1024   1024      1024        1024          NaN           NaN     NaN   \n",
      "4        1024   1024      1024        1024          NaN           NaN     NaN   \n",
      "\n",
      "   AppWarning  AppMessage  \n",
      "0         NaN         NaN  \n",
      "1         NaN         NaN  \n",
      "2         NaN         NaN  \n",
      "3         NaN         NaN  \n",
      "4         NaN         NaN  \n",
      "\n",
      "[5 rows x 42 columns]\n"
     ]
    }
   ],
   "source": [
    "print(Mavic2_df.head()) "
   ]
  },
  {
   "cell_type": "code",
   "execution_count": 5,
   "metadata": {},
   "outputs": [
    {
     "name": "stdout",
     "output_type": "stream",
     "text": [
      "        Id  Time(seconds) Time(text)   Latitude   Longitude FlightMode  \\\n",
      "5421  5422          600.5   10m 0.5s  36.500582  126.337459      P-GPS   \n",
      "5422  5423          600.6   10m 0.6s  36.500582  126.337459      P-GPS   \n",
      "5423  5424          600.7   10m 0.7s  36.500582  126.337459      P-GPS   \n",
      "5424  5425          600.8   10m 0.8s  36.500582  126.337459      P-GPS   \n",
      "5425  5426          600.9   10m 0.9s  36.500582  126.337459      P-GPS   \n",
      "\n",
      "     Altitude(feet)  Altitude(meters)  HSpeed(mph)  HSpeed(m/s)  ...  \\\n",
      "5421           -1.6              -0.5          0.0          0.0  ...   \n",
      "5422           -1.6              -0.5          0.0          0.0  ...   \n",
      "5423           -1.6              -0.5          0.0          0.0  ...   \n",
      "5424           -1.6              -0.5          0.0          0.0  ...   \n",
      "5425              0               0.0          0.0          0.0  ...   \n",
      "\n",
      "      RcAileron  RcElevator RcGyro  RcRudder  RcThrottle  NonGpsError  \\\n",
      "5421       1024         364   1024      1024         891          NaN   \n",
      "5422       1024         364   1024      1024         891          NaN   \n",
      "5423       1024         364   1024      1024         891          NaN   \n",
      "5424       1024         364   1024      1024         891          NaN   \n",
      "5425       1024         364   1024      1024         891          NaN   \n",
      "\n",
      "      GoHomeStatus  AppTip  AppWarning  AppMessage  \n",
      "5421           NaN     NaN         NaN         NaN  \n",
      "5422           NaN     NaN         NaN         NaN  \n",
      "5423           NaN     NaN         NaN         NaN  \n",
      "5424           NaN     NaN         NaN         NaN  \n",
      "5425           NaN     NaN         NaN         NaN  \n",
      "\n",
      "[5 rows x 42 columns]\n"
     ]
    }
   ],
   "source": [
    "print(Mavic2_df.tail())"
   ]
  },
  {
   "cell_type": "code",
   "execution_count": 6,
   "metadata": {},
   "outputs": [
    {
     "data": {
      "text/plain": [
       "0       P-GPS\n",
       "1       P-GPS\n",
       "2       P-GPS\n",
       "3       P-GPS\n",
       "4       P-GPS\n",
       "        ...  \n",
       "5421    P-GPS\n",
       "5422    P-GPS\n",
       "5423    P-GPS\n",
       "5424    P-GPS\n",
       "5425    P-GPS\n",
       "Name: FlightMode, Length: 5426, dtype: object"
      ]
     },
     "execution_count": 6,
     "metadata": {},
     "output_type": "execute_result"
    }
   ],
   "source": [
    "Mavic2_df['FlightMode']"
   ]
  },
  {
   "cell_type": "code",
   "execution_count": 7,
   "metadata": {},
   "outputs": [
    {
     "data": {
      "text/plain": [
       "0       36.500569\n",
       "1       36.500569\n",
       "2       36.500569\n",
       "3       36.500569\n",
       "4       36.500569\n",
       "          ...    \n",
       "5421    36.500582\n",
       "5422    36.500582\n",
       "5423    36.500582\n",
       "5424    36.500582\n",
       "5425    36.500582\n",
       "Name: Latitude, Length: 5426, dtype: float64"
      ]
     },
     "execution_count": 7,
     "metadata": {},
     "output_type": "execute_result"
    }
   ],
   "source": [
    "Mavic2_df['Latitude']"
   ]
  },
  {
   "cell_type": "code",
   "execution_count": 8,
   "metadata": {},
   "outputs": [
    {
     "data": {
      "text/plain": [
       "0         0.7\n",
       "1         0.8\n",
       "2         0.9\n",
       "3         1.0\n",
       "4         1.1\n",
       "        ...  \n",
       "5421    600.5\n",
       "5422    600.6\n",
       "5423    600.7\n",
       "5424    600.8\n",
       "5425    600.9\n",
       "Name: Time(seconds), Length: 5426, dtype: float64"
      ]
     },
     "execution_count": 8,
     "metadata": {},
     "output_type": "execute_result"
    }
   ],
   "source": [
    "Mavic2_df['Time(seconds)']"
   ]
  },
  {
   "cell_type": "code",
   "execution_count": 9,
   "metadata": {},
   "outputs": [
    {
     "data": {
      "text/plain": [
       "0       0.0\n",
       "1       0.0\n",
       "2       0.1\n",
       "3       0.1\n",
       "4       0.1\n",
       "       ... \n",
       "5421    0.7\n",
       "5422    0.8\n",
       "5423    0.8\n",
       "5424    0.8\n",
       "5425    0.8\n",
       "Name: Pitch, Length: 5426, dtype: float64"
      ]
     },
     "execution_count": 9,
     "metadata": {},
     "output_type": "execute_result"
    }
   ],
   "source": [
    "Mavic2_df['Pitch']"
   ]
  },
  {
   "cell_type": "code",
   "execution_count": 10,
   "metadata": {},
   "outputs": [
    {
     "data": {
      "text/plain": [
       "0       0.7\n",
       "1       0.7\n",
       "2       0.7\n",
       "3       0.7\n",
       "4       0.7\n",
       "       ... \n",
       "5421    1.7\n",
       "5422    1.7\n",
       "5423    1.7\n",
       "5424    1.7\n",
       "5425    1.7\n",
       "Name: Roll, Length: 5426, dtype: float64"
      ]
     },
     "execution_count": 10,
     "metadata": {},
     "output_type": "execute_result"
    }
   ],
   "source": [
    "Mavic2_df['Roll']"
   ]
  },
  {
   "cell_type": "code",
   "execution_count": 11,
   "metadata": {},
   "outputs": [
    {
     "data": {
      "text/plain": [
       "0      -142.9\n",
       "1      -142.8\n",
       "2      -142.9\n",
       "3      -142.8\n",
       "4      -142.8\n",
       "        ...  \n",
       "5421   -158.6\n",
       "5422   -158.6\n",
       "5423   -158.6\n",
       "5424   -158.5\n",
       "5425   -158.5\n",
       "Name: Yaw, Length: 5426, dtype: float64"
      ]
     },
     "execution_count": 11,
     "metadata": {},
     "output_type": "execute_result"
    }
   ],
   "source": [
    "Mavic2_df['Yaw']"
   ]
  },
  {
   "cell_type": "code",
   "execution_count": 12,
   "metadata": {},
   "outputs": [
    {
     "data": {
      "text/plain": [
       "0       97\n",
       "1       97\n",
       "2       97\n",
       "3       97\n",
       "4       97\n",
       "        ..\n",
       "5421    50\n",
       "5422    50\n",
       "5423    50\n",
       "5424    50\n",
       "5425    50\n",
       "Name: BatteryPower(%), Length: 5426, dtype: int64"
      ]
     },
     "execution_count": 12,
     "metadata": {},
     "output_type": "execute_result"
    }
   ],
   "source": [
    "Mavic2_df['BatteryPower(%)']"
   ]
  },
  {
   "cell_type": "code",
   "execution_count": 13,
   "metadata": {},
   "outputs": [
    {
     "data": {
      "text/plain": [
       "0        0m 0.7s\n",
       "1        0m 0.8s\n",
       "2        0m 0.9s\n",
       "3          0m 1s\n",
       "4        0m 1.1s\n",
       "          ...   \n",
       "5421    10m 0.5s\n",
       "5422    10m 0.6s\n",
       "5423    10m 0.7s\n",
       "5424    10m 0.8s\n",
       "5425    10m 0.9s\n",
       "Name: Time(text), Length: 5426, dtype: object"
      ]
     },
     "execution_count": 13,
     "metadata": {},
     "output_type": "execute_result"
    }
   ],
   "source": [
    "Mavic2_df['Time(text)']"
   ]
  },
  {
   "cell_type": "code",
   "execution_count": 14,
   "metadata": {},
   "outputs": [
    {
     "data": {
      "text/plain": [
       "Id                           int64\n",
       "Time(seconds)              float64\n",
       "Time(text)                  object\n",
       "Latitude                   float64\n",
       "Longitude                  float64\n",
       "FlightMode                  object\n",
       "Altitude(feet)              object\n",
       "Altitude(meters)           float64\n",
       "HSpeed(mph)                float64\n",
       "HSpeed(m/s)                float64\n",
       "GpsSpeed(mph)              float64\n",
       "GpsSpeed(m/s)              float64\n",
       "HomeDistance(feet)          object\n",
       "HomeDistance(meters)       float64\n",
       "HomeLatitude               float64\n",
       "HomeLongitude              float64\n",
       "GpsCount                     int64\n",
       "GpsLevel                     int64\n",
       "BatteryPower(%)              int64\n",
       "BatteryVoltage             float64\n",
       "BatteryVoltageDeviation    float64\n",
       "BatteryCell1Voltage        float64\n",
       "BatteryCell2Voltage        float64\n",
       "BatteryCell3Voltage        float64\n",
       "BatteryCell4Voltage        float64\n",
       "VelocityX                  float64\n",
       "VelocityY                  float64\n",
       "VelocityZ                  float64\n",
       "Pitch                      float64\n",
       "Roll                       float64\n",
       "Yaw                        float64\n",
       "Yaw(360)                   float64\n",
       "RcAileron                    int64\n",
       "RcElevator                   int64\n",
       "RcGyro                       int64\n",
       "RcRudder                     int64\n",
       "RcThrottle                   int64\n",
       "NonGpsError                float64\n",
       "GoHomeStatus               float64\n",
       "AppTip                     float64\n",
       "AppWarning                  object\n",
       "AppMessage                 float64\n",
       "dtype: object"
      ]
     },
     "execution_count": 14,
     "metadata": {},
     "output_type": "execute_result"
    }
   ],
   "source": [
    "Mavic2_df.dtypes"
   ]
  }
 ],
 "metadata": {
  "kernelspec": {
   "display_name": "Python 3 (ipykernel)",
   "language": "python",
   "name": "python3"
  },
  "language_info": {
   "codemirror_mode": {
    "name": "ipython",
    "version": 3
   },
   "file_extension": ".py",
   "mimetype": "text/x-python",
   "name": "python",
   "nbconvert_exporter": "python",
   "pygments_lexer": "ipython3",
   "version": "3.9.7"
  }
 },
 "nbformat": 4,
 "nbformat_minor": 4
}
