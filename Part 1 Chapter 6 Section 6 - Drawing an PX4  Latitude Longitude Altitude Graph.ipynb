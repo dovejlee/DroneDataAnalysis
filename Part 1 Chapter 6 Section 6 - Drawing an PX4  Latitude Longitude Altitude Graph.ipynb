{
 "cells": [
  {
   "cell_type": "markdown",
   "metadata": {},
   "source": [
    "Why You Should Visualize Your Data </br>\n",
    "PX4 Flight Diagram Drawing"
   ]
  },
  {
   "cell_type": "code",
   "execution_count": 1,
   "metadata": {},
   "outputs": [],
   "source": [
    "import pandas as pd\n",
    "import numpy as np\n",
    "from datetime import datetime\n",
    "from collections import OrderedDict\n",
    "%matplotlib inline\n",
    "import matplotlib.pyplot as plt"
   ]
  },
  {
   "cell_type": "code",
   "execution_count": 2,
   "metadata": {},
   "outputs": [],
   "source": [
    "pd.options.display.float_format = '{:.8f}'.format"
   ]
  },
  {
   "cell_type": "code",
   "execution_count": 3,
   "metadata": {},
   "outputs": [],
   "source": [
    "PX4_df=pd.read_csv('data/07_51_52_vehicle_gps_position_0.csv')\n",
    "PX4_df = pd.DataFrame.from_dict(OrderedDict(PX4_df))"
   ]
  },
  {
   "cell_type": "code",
   "execution_count": 4,
   "metadata": {},
   "outputs": [
    {
     "data": {
      "text/html": [
       "<div>\n",
       "<style scoped>\n",
       "    .dataframe tbody tr th:only-of-type {\n",
       "        vertical-align: middle;\n",
       "    }\n",
       "\n",
       "    .dataframe tbody tr th {\n",
       "        vertical-align: top;\n",
       "    }\n",
       "\n",
       "    .dataframe thead th {\n",
       "        text-align: right;\n",
       "    }\n",
       "</style>\n",
       "<table border=\"1\" class=\"dataframe\">\n",
       "  <thead>\n",
       "    <tr style=\"text-align: right;\">\n",
       "      <th></th>\n",
       "      <th>timestamp</th>\n",
       "      <th>time_utc_usec</th>\n",
       "      <th>lat</th>\n",
       "      <th>lon</th>\n",
       "      <th>alt</th>\n",
       "      <th>alt_ellipsoid</th>\n",
       "      <th>s_variance_m_s</th>\n",
       "      <th>c_variance_rad</th>\n",
       "      <th>eph</th>\n",
       "      <th>epv</th>\n",
       "      <th>...</th>\n",
       "      <th>vel_n_m_s</th>\n",
       "      <th>vel_e_m_s</th>\n",
       "      <th>vel_d_m_s</th>\n",
       "      <th>cog_rad</th>\n",
       "      <th>timestamp_time_relative</th>\n",
       "      <th>heading</th>\n",
       "      <th>heading_offset</th>\n",
       "      <th>fix_type</th>\n",
       "      <th>vel_ned_valid</th>\n",
       "      <th>satellites_used</th>\n",
       "    </tr>\n",
       "  </thead>\n",
       "  <tbody>\n",
       "    <tr>\n",
       "      <th>0</th>\n",
       "      <td>80608126</td>\n",
       "      <td>1571644312000101</td>\n",
       "      <td>366538193</td>\n",
       "      <td>1262967037</td>\n",
       "      <td>-1739</td>\n",
       "      <td>15825</td>\n",
       "      <td>0.28700000</td>\n",
       "      <td>0.55287160</td>\n",
       "      <td>0.94400007</td>\n",
       "      <td>1.38100000</td>\n",
       "      <td>...</td>\n",
       "      <td>0.00800000</td>\n",
       "      <td>-0.05900000</td>\n",
       "      <td>-0.06300000</td>\n",
       "      <td>5.55220840</td>\n",
       "      <td>0</td>\n",
       "      <td>NaN</td>\n",
       "      <td>0.00000000</td>\n",
       "      <td>3</td>\n",
       "      <td>1</td>\n",
       "      <td>19</td>\n",
       "    </tr>\n",
       "    <tr>\n",
       "      <th>1</th>\n",
       "      <td>80845385</td>\n",
       "      <td>1571644312200101</td>\n",
       "      <td>366538191</td>\n",
       "      <td>1262967038</td>\n",
       "      <td>-1720</td>\n",
       "      <td>15843</td>\n",
       "      <td>0.29900002</td>\n",
       "      <td>0.55288640</td>\n",
       "      <td>0.94400007</td>\n",
       "      <td>1.38100000</td>\n",
       "      <td>...</td>\n",
       "      <td>-0.00500000</td>\n",
       "      <td>-0.00700000</td>\n",
       "      <td>-0.02900000</td>\n",
       "      <td>5.55220840</td>\n",
       "      <td>0</td>\n",
       "      <td>NaN</td>\n",
       "      <td>0.00000000</td>\n",
       "      <td>3</td>\n",
       "      <td>1</td>\n",
       "      <td>19</td>\n",
       "    </tr>\n",
       "    <tr>\n",
       "      <th>2</th>\n",
       "      <td>81006060</td>\n",
       "      <td>1571644312400101</td>\n",
       "      <td>366538189</td>\n",
       "      <td>1262967040</td>\n",
       "      <td>-1720</td>\n",
       "      <td>15844</td>\n",
       "      <td>0.23700002</td>\n",
       "      <td>0.55289830</td>\n",
       "      <td>0.94400007</td>\n",
       "      <td>1.38100000</td>\n",
       "      <td>...</td>\n",
       "      <td>0.03800000</td>\n",
       "      <td>0.02300000</td>\n",
       "      <td>-0.04700000</td>\n",
       "      <td>5.55220840</td>\n",
       "      <td>0</td>\n",
       "      <td>NaN</td>\n",
       "      <td>0.00000000</td>\n",
       "      <td>3</td>\n",
       "      <td>1</td>\n",
       "      <td>19</td>\n",
       "    </tr>\n",
       "    <tr>\n",
       "      <th>3</th>\n",
       "      <td>81206333</td>\n",
       "      <td>1571644312600101</td>\n",
       "      <td>366538188</td>\n",
       "      <td>1262967043</td>\n",
       "      <td>-1689</td>\n",
       "      <td>15875</td>\n",
       "      <td>0.29100000</td>\n",
       "      <td>0.55291280</td>\n",
       "      <td>0.94400007</td>\n",
       "      <td>1.38200010</td>\n",
       "      <td>...</td>\n",
       "      <td>-0.00500000</td>\n",
       "      <td>0.00600000</td>\n",
       "      <td>-0.08000001</td>\n",
       "      <td>5.55220840</td>\n",
       "      <td>0</td>\n",
       "      <td>NaN</td>\n",
       "      <td>0.00000000</td>\n",
       "      <td>3</td>\n",
       "      <td>1</td>\n",
       "      <td>19</td>\n",
       "    </tr>\n",
       "    <tr>\n",
       "      <th>4</th>\n",
       "      <td>81404993</td>\n",
       "      <td>1571644312800101</td>\n",
       "      <td>366538186</td>\n",
       "      <td>1262967046</td>\n",
       "      <td>-1690</td>\n",
       "      <td>15874</td>\n",
       "      <td>0.23300001</td>\n",
       "      <td>0.55292430</td>\n",
       "      <td>0.94400007</td>\n",
       "      <td>1.38200010</td>\n",
       "      <td>...</td>\n",
       "      <td>-0.00500000</td>\n",
       "      <td>0.08500000</td>\n",
       "      <td>-0.03800000</td>\n",
       "      <td>5.55220840</td>\n",
       "      <td>0</td>\n",
       "      <td>NaN</td>\n",
       "      <td>0.00000000</td>\n",
       "      <td>3</td>\n",
       "      <td>1</td>\n",
       "      <td>19</td>\n",
       "    </tr>\n",
       "    <tr>\n",
       "      <th>...</th>\n",
       "      <td>...</td>\n",
       "      <td>...</td>\n",
       "      <td>...</td>\n",
       "      <td>...</td>\n",
       "      <td>...</td>\n",
       "      <td>...</td>\n",
       "      <td>...</td>\n",
       "      <td>...</td>\n",
       "      <td>...</td>\n",
       "      <td>...</td>\n",
       "      <td>...</td>\n",
       "      <td>...</td>\n",
       "      <td>...</td>\n",
       "      <td>...</td>\n",
       "      <td>...</td>\n",
       "      <td>...</td>\n",
       "      <td>...</td>\n",
       "      <td>...</td>\n",
       "      <td>...</td>\n",
       "      <td>...</td>\n",
       "      <td>...</td>\n",
       "    </tr>\n",
       "    <tr>\n",
       "      <th>3462</th>\n",
       "      <td>776029003</td>\n",
       "      <td>1571645007400000</td>\n",
       "      <td>366538007</td>\n",
       "      <td>1262966954</td>\n",
       "      <td>-891</td>\n",
       "      <td>16673</td>\n",
       "      <td>0.17900000</td>\n",
       "      <td>0.70021486</td>\n",
       "      <td>0.87300000</td>\n",
       "      <td>1.46100010</td>\n",
       "      <td>...</td>\n",
       "      <td>0.02900000</td>\n",
       "      <td>-0.08400001</td>\n",
       "      <td>-0.00800000</td>\n",
       "      <td>2.42445830</td>\n",
       "      <td>0</td>\n",
       "      <td>NaN</td>\n",
       "      <td>0.00000000</td>\n",
       "      <td>4</td>\n",
       "      <td>1</td>\n",
       "      <td>20</td>\n",
       "    </tr>\n",
       "    <tr>\n",
       "      <th>3463</th>\n",
       "      <td>776227012</td>\n",
       "      <td>1571645007600000</td>\n",
       "      <td>366538007</td>\n",
       "      <td>1262966954</td>\n",
       "      <td>-876</td>\n",
       "      <td>16688</td>\n",
       "      <td>0.30300000</td>\n",
       "      <td>0.70022670</td>\n",
       "      <td>0.87300000</td>\n",
       "      <td>1.46000000</td>\n",
       "      <td>...</td>\n",
       "      <td>-0.01100000</td>\n",
       "      <td>0.01800000</td>\n",
       "      <td>-0.08500000</td>\n",
       "      <td>2.42445830</td>\n",
       "      <td>0</td>\n",
       "      <td>NaN</td>\n",
       "      <td>0.00000000</td>\n",
       "      <td>4</td>\n",
       "      <td>1</td>\n",
       "      <td>20</td>\n",
       "    </tr>\n",
       "    <tr>\n",
       "      <th>3464</th>\n",
       "      <td>776423006</td>\n",
       "      <td>1571645007800000</td>\n",
       "      <td>366538007</td>\n",
       "      <td>1262966955</td>\n",
       "      <td>-863</td>\n",
       "      <td>16701</td>\n",
       "      <td>0.28000000</td>\n",
       "      <td>0.70023775</td>\n",
       "      <td>0.87200004</td>\n",
       "      <td>1.45900010</td>\n",
       "      <td>...</td>\n",
       "      <td>-0.06500000</td>\n",
       "      <td>0.02900000</td>\n",
       "      <td>-0.06400000</td>\n",
       "      <td>2.42445830</td>\n",
       "      <td>0</td>\n",
       "      <td>NaN</td>\n",
       "      <td>0.00000000</td>\n",
       "      <td>4</td>\n",
       "      <td>1</td>\n",
       "      <td>19</td>\n",
       "    </tr>\n",
       "    <tr>\n",
       "      <th>3465</th>\n",
       "      <td>776624118</td>\n",
       "      <td>1571645008000000</td>\n",
       "      <td>366538006</td>\n",
       "      <td>1262966955</td>\n",
       "      <td>-814</td>\n",
       "      <td>16750</td>\n",
       "      <td>0.21900001</td>\n",
       "      <td>0.70024610</td>\n",
       "      <td>0.87100005</td>\n",
       "      <td>1.45800010</td>\n",
       "      <td>...</td>\n",
       "      <td>-0.02100000</td>\n",
       "      <td>-0.00800000</td>\n",
       "      <td>-0.00300000</td>\n",
       "      <td>2.42445830</td>\n",
       "      <td>0</td>\n",
       "      <td>NaN</td>\n",
       "      <td>0.00000000</td>\n",
       "      <td>4</td>\n",
       "      <td>1</td>\n",
       "      <td>19</td>\n",
       "    </tr>\n",
       "    <tr>\n",
       "      <th>3466</th>\n",
       "      <td>776824168</td>\n",
       "      <td>1571645008199999</td>\n",
       "      <td>366538005</td>\n",
       "      <td>1262966956</td>\n",
       "      <td>-778</td>\n",
       "      <td>16786</td>\n",
       "      <td>0.29300000</td>\n",
       "      <td>0.70025766</td>\n",
       "      <td>0.87000006</td>\n",
       "      <td>1.45800010</td>\n",
       "      <td>...</td>\n",
       "      <td>-0.04100000</td>\n",
       "      <td>0.00500000</td>\n",
       "      <td>-0.04200000</td>\n",
       "      <td>2.42445830</td>\n",
       "      <td>0</td>\n",
       "      <td>NaN</td>\n",
       "      <td>0.00000000</td>\n",
       "      <td>4</td>\n",
       "      <td>1</td>\n",
       "      <td>19</td>\n",
       "    </tr>\n",
       "  </tbody>\n",
       "</table>\n",
       "<p>3467 rows × 25 columns</p>\n",
       "</div>"
      ],
      "text/plain": [
       "      timestamp     time_utc_usec        lat         lon   alt  alt_ellipsoid  \\\n",
       "0      80608126  1571644312000101  366538193  1262967037 -1739          15825   \n",
       "1      80845385  1571644312200101  366538191  1262967038 -1720          15843   \n",
       "2      81006060  1571644312400101  366538189  1262967040 -1720          15844   \n",
       "3      81206333  1571644312600101  366538188  1262967043 -1689          15875   \n",
       "4      81404993  1571644312800101  366538186  1262967046 -1690          15874   \n",
       "...         ...               ...        ...         ...   ...            ...   \n",
       "3462  776029003  1571645007400000  366538007  1262966954  -891          16673   \n",
       "3463  776227012  1571645007600000  366538007  1262966954  -876          16688   \n",
       "3464  776423006  1571645007800000  366538007  1262966955  -863          16701   \n",
       "3465  776624118  1571645008000000  366538006  1262966955  -814          16750   \n",
       "3466  776824168  1571645008199999  366538005  1262966956  -778          16786   \n",
       "\n",
       "      s_variance_m_s  c_variance_rad        eph        epv  ...   vel_n_m_s  \\\n",
       "0         0.28700000      0.55287160 0.94400007 1.38100000  ...  0.00800000   \n",
       "1         0.29900002      0.55288640 0.94400007 1.38100000  ... -0.00500000   \n",
       "2         0.23700002      0.55289830 0.94400007 1.38100000  ...  0.03800000   \n",
       "3         0.29100000      0.55291280 0.94400007 1.38200010  ... -0.00500000   \n",
       "4         0.23300001      0.55292430 0.94400007 1.38200010  ... -0.00500000   \n",
       "...              ...             ...        ...        ...  ...         ...   \n",
       "3462      0.17900000      0.70021486 0.87300000 1.46100010  ...  0.02900000   \n",
       "3463      0.30300000      0.70022670 0.87300000 1.46000000  ... -0.01100000   \n",
       "3464      0.28000000      0.70023775 0.87200004 1.45900010  ... -0.06500000   \n",
       "3465      0.21900001      0.70024610 0.87100005 1.45800010  ... -0.02100000   \n",
       "3466      0.29300000      0.70025766 0.87000006 1.45800010  ... -0.04100000   \n",
       "\n",
       "       vel_e_m_s   vel_d_m_s    cog_rad  timestamp_time_relative  heading  \\\n",
       "0    -0.05900000 -0.06300000 5.55220840                        0      NaN   \n",
       "1    -0.00700000 -0.02900000 5.55220840                        0      NaN   \n",
       "2     0.02300000 -0.04700000 5.55220840                        0      NaN   \n",
       "3     0.00600000 -0.08000001 5.55220840                        0      NaN   \n",
       "4     0.08500000 -0.03800000 5.55220840                        0      NaN   \n",
       "...          ...         ...        ...                      ...      ...   \n",
       "3462 -0.08400001 -0.00800000 2.42445830                        0      NaN   \n",
       "3463  0.01800000 -0.08500000 2.42445830                        0      NaN   \n",
       "3464  0.02900000 -0.06400000 2.42445830                        0      NaN   \n",
       "3465 -0.00800000 -0.00300000 2.42445830                        0      NaN   \n",
       "3466  0.00500000 -0.04200000 2.42445830                        0      NaN   \n",
       "\n",
       "      heading_offset  fix_type  vel_ned_valid  satellites_used  \n",
       "0         0.00000000         3              1               19  \n",
       "1         0.00000000         3              1               19  \n",
       "2         0.00000000         3              1               19  \n",
       "3         0.00000000         3              1               19  \n",
       "4         0.00000000         3              1               19  \n",
       "...              ...       ...            ...              ...  \n",
       "3462      0.00000000         4              1               20  \n",
       "3463      0.00000000         4              1               20  \n",
       "3464      0.00000000         4              1               19  \n",
       "3465      0.00000000         4              1               19  \n",
       "3466      0.00000000         4              1               19  \n",
       "\n",
       "[3467 rows x 25 columns]"
      ]
     },
     "execution_count": 4,
     "metadata": {},
     "output_type": "execute_result"
    }
   ],
   "source": [
    "PX4_df"
   ]
  },
  {
   "cell_type": "code",
   "execution_count": 5,
   "metadata": {},
   "outputs": [
    {
     "data": {
      "text/plain": [
       "pandas.core.series.Series"
      ]
     },
     "execution_count": 5,
     "metadata": {},
     "output_type": "execute_result"
    }
   ],
   "source": [
    "type(PX4_df['time_utc_usec'])"
   ]
  },
  {
   "cell_type": "code",
   "execution_count": 6,
   "metadata": {},
   "outputs": [
    {
     "name": "stdout",
     "output_type": "stream",
     "text": [
      "int64\n"
     ]
    }
   ],
   "source": [
    "print(PX4_df['time_utc_usec'].dtype)"
   ]
  },
  {
   "cell_type": "code",
   "execution_count": 7,
   "metadata": {},
   "outputs": [
    {
     "data": {
      "text/plain": [
       "RangeIndex(start=0, stop=3467, step=1)"
      ]
     },
     "execution_count": 7,
     "metadata": {},
     "output_type": "execute_result"
    }
   ],
   "source": [
    "PX4_df.index"
   ]
  },
  {
   "cell_type": "code",
   "execution_count": 8,
   "metadata": {
    "scrolled": true
   },
   "outputs": [
    {
     "data": {
      "text/plain": [
       "Index(['timestamp', 'time_utc_usec', 'lat', 'lon', 'alt', 'alt_ellipsoid',\n",
       "       's_variance_m_s', 'c_variance_rad', 'eph', 'epv', 'hdop', 'vdop',\n",
       "       'noise_per_ms', 'jamming_indicator', 'vel_m_s', 'vel_n_m_s',\n",
       "       'vel_e_m_s', 'vel_d_m_s', 'cog_rad', 'timestamp_time_relative',\n",
       "       'heading', 'heading_offset', 'fix_type', 'vel_ned_valid',\n",
       "       'satellites_used'],\n",
       "      dtype='object')"
      ]
     },
     "execution_count": 8,
     "metadata": {},
     "output_type": "execute_result"
    }
   ],
   "source": [
    "PX4_df.columns"
   ]
  },
  {
   "cell_type": "code",
   "execution_count": 9,
   "metadata": {},
   "outputs": [
    {
     "data": {
      "text/plain": [
       "0       366538193\n",
       "1       366538191\n",
       "2       366538189\n",
       "3       366538188\n",
       "4       366538186\n",
       "          ...    \n",
       "3462    366538007\n",
       "3463    366538007\n",
       "3464    366538007\n",
       "3465    366538006\n",
       "3466    366538005\n",
       "Name: lat, Length: 3467, dtype: int64"
      ]
     },
     "execution_count": 9,
     "metadata": {},
     "output_type": "execute_result"
    }
   ],
   "source": [
    "PX4_df['lat']"
   ]
  },
  {
   "cell_type": "code",
   "execution_count": 10,
   "metadata": {},
   "outputs": [],
   "source": [
    "PX4_df['lat'] = PX4_df['lat']/10000000"
   ]
  },
  {
   "cell_type": "code",
   "execution_count": 11,
   "metadata": {},
   "outputs": [
    {
     "data": {
      "text/plain": [
       "0      36.65381930\n",
       "1      36.65381910\n",
       "2      36.65381890\n",
       "3      36.65381880\n",
       "4      36.65381860\n",
       "           ...    \n",
       "3462   36.65380070\n",
       "3463   36.65380070\n",
       "3464   36.65380070\n",
       "3465   36.65380060\n",
       "3466   36.65380050\n",
       "Name: lat, Length: 3467, dtype: float64"
      ]
     },
     "execution_count": 11,
     "metadata": {},
     "output_type": "execute_result"
    }
   ],
   "source": [
    "PX4_df['lat']"
   ]
  },
  {
   "cell_type": "code",
   "execution_count": 12,
   "metadata": {},
   "outputs": [],
   "source": [
    "PX4_df['lon'] = PX4_df['lon']/10000000"
   ]
  },
  {
   "cell_type": "code",
   "execution_count": 13,
   "metadata": {},
   "outputs": [
    {
     "data": {
      "text/plain": [
       "0      126.29670370\n",
       "1      126.29670380\n",
       "2      126.29670400\n",
       "3      126.29670430\n",
       "4      126.29670460\n",
       "           ...     \n",
       "3462   126.29669540\n",
       "3463   126.29669540\n",
       "3464   126.29669550\n",
       "3465   126.29669550\n",
       "3466   126.29669560\n",
       "Name: lon, Length: 3467, dtype: float64"
      ]
     },
     "execution_count": 13,
     "metadata": {},
     "output_type": "execute_result"
    }
   ],
   "source": [
    "PX4_df['lon']"
   ]
  },
  {
   "cell_type": "code",
   "execution_count": 14,
   "metadata": {},
   "outputs": [],
   "source": [
    "PX4_df['time_utc']=pd.to_datetime(PX4_df['time_utc_usec'], unit = 'us', origin ='unix')"
   ]
  },
  {
   "cell_type": "code",
   "execution_count": 15,
   "metadata": {},
   "outputs": [
    {
     "data": {
      "text/plain": [
       "0       1571644312000101\n",
       "1       1571644312200101\n",
       "2       1571644312400101\n",
       "3       1571644312600101\n",
       "4       1571644312800101\n",
       "              ...       \n",
       "3462    1571645007400000\n",
       "3463    1571645007600000\n",
       "3464    1571645007800000\n",
       "3465    1571645008000000\n",
       "3466    1571645008199999\n",
       "Name: time_utc_usec, Length: 3467, dtype: int64"
      ]
     },
     "execution_count": 15,
     "metadata": {},
     "output_type": "execute_result"
    }
   ],
   "source": [
    "PX4_df['time_utc_usec']"
   ]
  },
  {
   "cell_type": "code",
   "execution_count": 16,
   "metadata": {},
   "outputs": [
    {
     "data": {
      "text/plain": [
       "0      2019-10-21 07:51:52.000101\n",
       "1      2019-10-21 07:51:52.200101\n",
       "2      2019-10-21 07:51:52.400101\n",
       "3      2019-10-21 07:51:52.600101\n",
       "4      2019-10-21 07:51:52.800101\n",
       "                  ...            \n",
       "3462   2019-10-21 08:03:27.400000\n",
       "3463   2019-10-21 08:03:27.600000\n",
       "3464   2019-10-21 08:03:27.800000\n",
       "3465   2019-10-21 08:03:28.000000\n",
       "3466   2019-10-21 08:03:28.199999\n",
       "Name: time_utc, Length: 3467, dtype: datetime64[ns]"
      ]
     },
     "execution_count": 16,
     "metadata": {},
     "output_type": "execute_result"
    }
   ],
   "source": [
    "PX4_df['time_utc']"
   ]
  },
  {
   "cell_type": "code",
   "execution_count": 17,
   "metadata": {},
   "outputs": [],
   "source": [
    "PX4DateSet=list(zip(PX4_df['time_utc'], PX4_df['lat'], PX4_df['lon'], PX4_df['alt']))\n",
    "\n",
    "df=pd.DataFrame(data=PX4DateSet, columns=['time_utc', \n",
    "                                            'Lat', \n",
    "                                            'Long', \n",
    "                                            'Alt'])"
   ]
  },
  {
   "cell_type": "code",
   "execution_count": 18,
   "metadata": {},
   "outputs": [],
   "source": [
    "df.to_csv('data/2019_10_21_PX4_07_51_52_vehicle_gps_position_0.csv')"
   ]
  },
  {
   "cell_type": "code",
   "execution_count": 19,
   "metadata": {},
   "outputs": [
    {
     "data": {
      "image/png": "[encoded data removed]",
      "text/plain": [
       "<Figure size 432x288 with 1 Axes>"
      ]
     },
     "metadata": {
      "needs_background": "light"
     },
     "output_type": "display_data"
    }
   ],
   "source": [
    "# 데이타 프레임을 Series로 바꾸고.. numpy 제외 하고 그리기..\n",
    "fig = plt.figure() \n",
    "axes = fig.add_subplot(1, 1, 1)\n",
    "axes.set_title('latitude')\n",
    "axes.set_xlabel('Time') \n",
    "axes.set_ylabel('latitude')\n",
    "# \n",
    "\n",
    "#data = pd.DataFrame(['GPS:Time'],['Motor:Volts:Rfront:volts'])\n",
    "plt.plot(df['time_utc'], df['Lat'])\n",
    "plt.show()"
   ]
  },
  {
   "cell_type": "code",
   "execution_count": 20,
   "metadata": {},
   "outputs": [
    {
     "data": {
      "image/png": "[encoded data removed]",
      "text/plain": [
       "<Figure size 432x288 with 1 Axes>"
      ]
     },
     "metadata": {
      "needs_background": "light"
     },
     "output_type": "display_data"
    }
   ],
   "source": [
    "fig = plt.figure() \n",
    "axes = fig.add_subplot(1, 1, 1)\n",
    "axes.set_title('longitude')\n",
    "axes.set_xlabel('Time') \n",
    "axes.set_ylabel('longitude')\n",
    "# \n",
    "\n",
    "#data = pd.DataFrame(['GPS:Time'],['Motor:Volts:Rfront:volts'])\n",
    "plt.plot(df['time_utc'], df['Long'])\n",
    "plt.show()"
   ]
  },
  {
   "cell_type": "code",
   "execution_count": 21,
   "metadata": {},
   "outputs": [
    {
     "data": {
      "image/png": "[encoded data removed]",
      "text/plain": [
       "<Figure size 432x288 with 1 Axes>"
      ]
     },
     "metadata": {
      "needs_background": "light"
     },
     "output_type": "display_data"
    }
   ],
   "source": [
    "fig = plt.figure() \n",
    "axes = fig.add_subplot(1, 1, 1)\n",
    "axes.set_title('MSL latitude')\n",
    "axes.set_xlabel('Time') \n",
    "axes.set_ylabel('altitude')\n",
    "# \n",
    "\n",
    "plt.plot(df['time_utc'], df['Alt'])\n",
    "plt.show()"
   ]
  }
 ],
 "metadata": {
  "kernelspec": {
   "display_name": "Python 3 (ipykernel)",
   "language": "python",
   "name": "python3"
  },
  "language_info": {
   "codemirror_mode": {
    "name": "ipython",
    "version": 3
   },
   "file_extension": ".py",
   "mimetype": "text/x-python",
   "name": "python",
   "nbconvert_exporter": "python",
   "pygments_lexer": "ipython3",
   "version": "3.9.12"
  }
 },
 "nbformat": 4,
 "nbformat_minor": 4
}
