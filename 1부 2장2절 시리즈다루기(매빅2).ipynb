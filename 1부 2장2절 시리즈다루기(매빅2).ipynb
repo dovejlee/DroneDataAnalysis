{
 "cells": [
  {
   "cell_type": "code",
   "execution_count": 1,
   "metadata": {},
   "outputs": [],
   "source": [
    "# 데이타 분석을 위한 파다스 입문 3-2절 참조\n",
    "# 2-2절 시리즈 다루기... 추가.."
   ]
  },
  {
   "cell_type": "code",
   "execution_count": 2,
   "metadata": {},
   "outputs": [],
   "source": [
    "import pandas as pd"
   ]
  },
  {
   "cell_type": "code",
   "execution_count": 3,
   "metadata": {},
   "outputs": [],
   "source": [
    "pd.options.display.float_format = '{:.8f}'.format"
   ]
  },
  {
   "cell_type": "code",
   "execution_count": 4,
   "metadata": {},
   "outputs": [
    {
     "name": "stdout",
     "output_type": "stream",
     "text": [
      "        Time(seconds)  HomeDistance(meters)    Latitude    Longitude  \\\n",
      "1800ms     1.80000000            0.10000000 36.50056862 126.33739260   \n",
      "1900ms     1.90000000            0.10000000 36.50056863 126.33739260   \n",
      "2000ms     2.00000000            0.10000000 36.50056862 126.33739260   \n",
      "2100ms     2.10000000            0.10000000 36.50056860 126.33739260   \n",
      "\n",
      "            FlightMode      Pitch       Roll           Yaw  BatteryPower(%)  \\\n",
      "1800ms           P-GPS 0.30000000 0.80000000 -142.90000000               97   \n",
      "1900ms           P-GPS 0.30000000 0.80000000 -142.90000000               97   \n",
      "2000ms  Manual Takeoff 0.10000000 0.80000000 -142.90000000               97   \n",
      "2100ms  Manual Takeoff 0.10000000 0.80000000 -142.90000000               97   \n",
      "\n",
      "        BatteryVoltage  \n",
      "1800ms     16.75500000  \n",
      "1900ms     16.75500000  \n",
      "2000ms     16.75500000  \n",
      "2100ms     16.75500000  \n"
     ]
    }
   ],
   "source": [
    "Mavic2_df= pd.DataFrame({\n",
    "    'Time(seconds)' : [ 1.8, 1.9, 2.0, 2.1],\n",
    "    'HomeDistance(meters)' : [0.1, 0.1, 0.1, 0.1],\n",
    "    'Latitude' : [36.50056862, 36.50056863, 36.50056862, 36.5005686],\n",
    "    'Longitude' : [126.3373926, 126.3373926, 126.3373926,126.3373926],\n",
    "    'FlightMode' : ['P-GPS','P-GPS', 'Manual Takeoff', 'Manual Takeoff'],\n",
    "    'BatteryPower(%)' : [97, 97, 97, 97],\n",
    "    'BatteryVoltage' : [16.755, 16.755, 16.755, 16.755],\n",
    "    'Pitch' : [0.3, 0.3, 0.1, 0.1],\n",
    "    'Roll' : [0.8, 0.8, 0.8, 0.8],\n",
    "    'Yaw' : [-142.9, -142.9, -142.9, -142.9]\n",
    "    },\n",
    "   index = ['1800ms', '1900ms', '2000ms', '2100ms'],\n",
    "    columns = ['Time(seconds)', 'HomeDistance(meters)', 'Latitude', 'Longitude', \n",
    "               'FlightMode', 'Pitch', 'Roll', 'Yaw', 'BatteryPower(%)', 'BatteryVoltage']\n",
    "\n",
    ")\n",
    "print(Mavic2_df)"
   ]
  },
  {
   "cell_type": "code",
   "execution_count": 5,
   "metadata": {},
   "outputs": [
    {
     "name": "stdout",
     "output_type": "stream",
     "text": [
      "<class 'pandas.core.series.Series'>\n"
     ]
    }
   ],
   "source": [
    "one_point_eight_row = Mavic2_df.loc['1800ms']\n",
    "print(type(one_point_eight_row))"
   ]
  },
  {
   "cell_type": "code",
   "execution_count": 6,
   "metadata": {},
   "outputs": [
    {
     "name": "stdout",
     "output_type": "stream",
     "text": [
      "Time(seconds)             1.80000000\n",
      "HomeDistance(meters)      0.10000000\n",
      "Latitude                 36.50056862\n",
      "Longitude               126.33739260\n",
      "FlightMode                     P-GPS\n",
      "Pitch                     0.30000000\n",
      "Roll                      0.80000000\n",
      "Yaw                    -142.90000000\n",
      "BatteryPower(%)                   97\n",
      "BatteryVoltage           16.75500000\n",
      "Name: 1800ms, dtype: object\n"
     ]
    }
   ],
   "source": [
    "print(one_point_eight_row)"
   ]
  },
  {
   "cell_type": "code",
   "execution_count": 7,
   "metadata": {},
   "outputs": [
    {
     "name": "stdout",
     "output_type": "stream",
     "text": [
      "Index(['Time(seconds)', 'HomeDistance(meters)', 'Latitude', 'Longitude',\n",
      "       'FlightMode', 'Pitch', 'Roll', 'Yaw', 'BatteryPower(%)',\n",
      "       'BatteryVoltage'],\n",
      "      dtype='object')\n"
     ]
    }
   ],
   "source": [
    "print(one_point_eight_row.index)"
   ]
  },
  {
   "cell_type": "code",
   "execution_count": 8,
   "metadata": {},
   "outputs": [
    {
     "name": "stdout",
     "output_type": "stream",
     "text": [
      "Time(seconds)\n"
     ]
    }
   ],
   "source": [
    "print(one_point_eight_row.index[0])"
   ]
  },
  {
   "cell_type": "code",
   "execution_count": 9,
   "metadata": {},
   "outputs": [
    {
     "name": "stdout",
     "output_type": "stream",
     "text": [
      "FlightMode\n"
     ]
    }
   ],
   "source": [
    "print(one_point_eight_row.index[4])"
   ]
  },
  {
   "cell_type": "code",
   "execution_count": 10,
   "metadata": {},
   "outputs": [
    {
     "name": "stdout",
     "output_type": "stream",
     "text": [
      "BatteryVoltage\n"
     ]
    }
   ],
   "source": [
    "print(one_point_eight_row.index[-1])"
   ]
  },
  {
   "cell_type": "code",
   "execution_count": 11,
   "metadata": {},
   "outputs": [
    {
     "name": "stdout",
     "output_type": "stream",
     "text": [
      "[1.8 0.1 36.50056862 126.3373926 'P-GPS' 0.3 0.8 -142.9 97 16.755]\n"
     ]
    }
   ],
   "source": [
    "print(one_point_eight_row.values)"
   ]
  },
  {
   "cell_type": "code",
   "execution_count": 12,
   "metadata": {},
   "outputs": [
    {
     "name": "stdout",
     "output_type": "stream",
     "text": [
      "<bound method Series.keys of Time(seconds)             1.80000000\n",
      "HomeDistance(meters)      0.10000000\n",
      "Latitude                 36.50056862\n",
      "Longitude               126.33739260\n",
      "FlightMode                     P-GPS\n",
      "Pitch                     0.30000000\n",
      "Roll                      0.80000000\n",
      "Yaw                    -142.90000000\n",
      "BatteryPower(%)                   97\n",
      "BatteryVoltage           16.75500000\n",
      "Name: 1800ms, dtype: object>\n"
     ]
    }
   ],
   "source": [
    "print(one_point_eight_row.keys)"
   ]
  },
  {
   "cell_type": "code",
   "execution_count": 13,
   "metadata": {},
   "outputs": [
    {
     "name": "stdout",
     "output_type": "stream",
     "text": [
      "Time(seconds)\n"
     ]
    }
   ],
   "source": [
    "print(one_point_eight_row.keys()[0])"
   ]
  },
  {
   "cell_type": "code",
   "execution_count": 14,
   "metadata": {},
   "outputs": [
    {
     "name": "stdout",
     "output_type": "stream",
     "text": [
      "FlightMode\n"
     ]
    }
   ],
   "source": [
    "print(one_point_eight_row.keys()[4])"
   ]
  },
  {
   "cell_type": "code",
   "execution_count": 15,
   "metadata": {},
   "outputs": [
    {
     "name": "stdout",
     "output_type": "stream",
     "text": [
      "BatteryVoltage\n"
     ]
    }
   ],
   "source": [
    "print(one_point_eight_row.keys()[-1])"
   ]
  },
  {
   "cell_type": "code",
   "execution_count": 16,
   "metadata": {},
   "outputs": [],
   "source": [
    "lat = Mavic2_df['Latitude']"
   ]
  },
  {
   "cell_type": "code",
   "execution_count": 17,
   "metadata": {},
   "outputs": [
    {
     "name": "stdout",
     "output_type": "stream",
     "text": [
      "1800ms   36.50056862\n",
      "1900ms   36.50056863\n",
      "2000ms   36.50056862\n",
      "2100ms   36.50056860\n",
      "Name: Latitude, dtype: float64\n"
     ]
    }
   ],
   "source": [
    "print(lat)"
   ]
  },
  {
   "cell_type": "code",
   "execution_count": 18,
   "metadata": {},
   "outputs": [],
   "source": [
    "long= Mavic2_df['Longitude']"
   ]
  },
  {
   "cell_type": "code",
   "execution_count": 19,
   "metadata": {},
   "outputs": [
    {
     "name": "stdout",
     "output_type": "stream",
     "text": [
      "1800ms   126.33739260\n",
      "1900ms   126.33739260\n",
      "2000ms   126.33739260\n",
      "2100ms   126.33739260\n",
      "Name: Longitude, dtype: float64\n"
     ]
    }
   ],
   "source": [
    "print(long)"
   ]
  },
  {
   "cell_type": "code",
   "execution_count": 20,
   "metadata": {},
   "outputs": [
    {
     "name": "stdout",
     "output_type": "stream",
     "text": [
      "36.5005686\n"
     ]
    }
   ],
   "source": [
    "print(lat.min())"
   ]
  },
  {
   "cell_type": "code",
   "execution_count": 21,
   "metadata": {},
   "outputs": [
    {
     "name": "stdout",
     "output_type": "stream",
     "text": [
      "36.50056863\n"
     ]
    }
   ],
   "source": [
    "print(lat.max())"
   ]
  },
  {
   "cell_type": "code",
   "execution_count": 22,
   "metadata": {},
   "outputs": [
    {
     "name": "stdout",
     "output_type": "stream",
     "text": [
      "36.5005686175\n"
     ]
    }
   ],
   "source": [
    "print(lat.mean())"
   ]
  },
  {
   "cell_type": "code",
   "execution_count": 23,
   "metadata": {},
   "outputs": [
    {
     "name": "stdout",
     "output_type": "stream",
     "text": [
      "1.2583056080402924e-08\n"
     ]
    }
   ],
   "source": [
    "print(lat.std())"
   ]
  },
  {
   "cell_type": "code",
   "execution_count": null,
   "metadata": {},
   "outputs": [],
   "source": []
  }
 ],
 "metadata": {
  "kernelspec": {
   "display_name": "Python 3 (ipykernel)",
   "language": "python",
   "name": "python3"
  },
  "language_info": {
   "codemirror_mode": {
    "name": "ipython",
    "version": 3
   },
   "file_extension": ".py",
   "mimetype": "text/x-python",
   "name": "python",
   "nbconvert_exporter": "python",
   "pygments_lexer": "ipython3",
   "version": "3.9.7"
  }
 },
 "nbformat": 4,
 "nbformat_minor": 4
}
