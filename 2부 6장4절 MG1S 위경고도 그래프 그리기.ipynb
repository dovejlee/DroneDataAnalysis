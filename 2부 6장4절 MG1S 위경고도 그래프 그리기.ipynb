{
 "cells": [
  {
   "cell_type": "code",
   "execution_count": 1,
   "metadata": {},
   "outputs": [],
   "source": [
    "# 데이타 시각화해야 하는 이유\n",
    "# MG1S비행 지도 그리기"
   ]
  },
  {
   "cell_type": "code",
   "execution_count": 2,
   "metadata": {},
   "outputs": [],
   "source": [
    "import pandas as pd\n",
    "import numpy as np\n",
    "from datetime import datetime\n",
    "from collections import OrderedDict\n",
    "%matplotlib inline\n",
    "import matplotlib.pyplot as plt"
   ]
  },
  {
   "cell_type": "code",
   "execution_count": 3,
   "metadata": {},
   "outputs": [
    {
     "name": "stderr",
     "output_type": "stream",
     "text": [
      "C:\\ProgramData\\Anaconda3\\lib\\site-packages\\IPython\\core\\interactiveshell.py:3146: DtypeWarning: Columns (49,50,160,161,162,163,164,165,166,167,168,169,210,214,215,216,239) have mixed types.Specify dtype option on import or set low_memory=False.\n",
      "  has_raised = await self.run_ast_nodes(code_ast.body, cell_name,\n"
     ]
    }
   ],
   "source": [
    "MG1S_df=pd.read_csv('2021_03_19_MG1S.csv')\n",
    "MG1S_df = pd.DataFrame.from_dict(OrderedDict(MG1S_df))"
   ]
  },
  {
   "cell_type": "code",
   "execution_count": 4,
   "metadata": {},
   "outputs": [
    {
     "data": {
      "text/html": [
       "<div>\n",
       "<style scoped>\n",
       "    .dataframe tbody tr th:only-of-type {\n",
       "        vertical-align: middle;\n",
       "    }\n",
       "\n",
       "    .dataframe tbody tr th {\n",
       "        vertical-align: top;\n",
       "    }\n",
       "\n",
       "    .dataframe thead th {\n",
       "        text-align: right;\n",
       "    }\n",
       "</style>\n",
       "<table border=\"1\" class=\"dataframe\">\n",
       "  <thead>\n",
       "    <tr style=\"text-align: right;\">\n",
       "      <th></th>\n",
       "      <th>Clock:Tick#</th>\n",
       "      <th>Clock:offsetTime</th>\n",
       "      <th>IMU_ATTI(0):Longitude[degrees [-180;180]]</th>\n",
       "      <th>IMU_ATTI(0):Latitude[degrees [-180;180]]</th>\n",
       "      <th>IMU_ATTI(0):press:D[meters]</th>\n",
       "      <th>IMU_ATTI(0):alti:D[meters]</th>\n",
       "      <th>IMU_ATTI(0):relativeHeight:C[meters]</th>\n",
       "      <th>IMU_ATTI(0):absoluteHeight:C[meters]</th>\n",
       "      <th>IMU_ATTI(0):numSats</th>\n",
       "      <th>IMU_ATTI(0):roll:C[degrees [-180;180]]</th>\n",
       "      <th>...</th>\n",
       "      <th>BatteryInfo:BatCurrent:D</th>\n",
       "      <th>BatteryInfo:BatCap:D</th>\n",
       "      <th>BatteryInfo:CapPercnt:D</th>\n",
       "      <th>BatteryInfo:BatTemp:D</th>\n",
       "      <th>BatteryInfo:BatAuth:D</th>\n",
       "      <th>BatteryInfo:BatDataCnt:D</th>\n",
       "      <th>BatteryInfo:FullCap:D</th>\n",
       "      <th>Attribute|Value</th>\n",
       "      <th>ConvertDatV3</th>\n",
       "      <th>4.2.1</th>\n",
       "    </tr>\n",
       "  </thead>\n",
       "  <tbody>\n",
       "    <tr>\n",
       "      <th>0</th>\n",
       "      <td>0</td>\n",
       "      <td>-54.645</td>\n",
       "      <td>NaN</td>\n",
       "      <td>NaN</td>\n",
       "      <td>NaN</td>\n",
       "      <td>NaN</td>\n",
       "      <td>NaN</td>\n",
       "      <td>NaN</td>\n",
       "      <td>NaN</td>\n",
       "      <td>NaN</td>\n",
       "      <td>...</td>\n",
       "      <td>NaN</td>\n",
       "      <td>NaN</td>\n",
       "      <td>NaN</td>\n",
       "      <td>NaN</td>\n",
       "      <td>NaN</td>\n",
       "      <td>NaN</td>\n",
       "      <td>NaN</td>\n",
       "      <td>NaN</td>\n",
       "      <td>NaN</td>\n",
       "      <td>NaN</td>\n",
       "    </tr>\n",
       "    <tr>\n",
       "      <th>1</th>\n",
       "      <td>195738694</td>\n",
       "      <td>-11.147</td>\n",
       "      <td>NaN</td>\n",
       "      <td>NaN</td>\n",
       "      <td>-71.754840</td>\n",
       "      <td>-71.914670</td>\n",
       "      <td>NaN</td>\n",
       "      <td>NaN</td>\n",
       "      <td>13.0</td>\n",
       "      <td>0.763620</td>\n",
       "      <td>...</td>\n",
       "      <td>108.0</td>\n",
       "      <td>1.0</td>\n",
       "      <td>33.0</td>\n",
       "      <td>10356.0</td>\n",
       "      <td>Firmware Date| Feb 26 2019</td>\n",
       "      <td>NaN</td>\n",
       "      <td>NaN</td>\n",
       "      <td>NaN</td>\n",
       "      <td>NaN</td>\n",
       "      <td>NaN</td>\n",
       "    </tr>\n",
       "    <tr>\n",
       "      <th>2</th>\n",
       "      <td>195889450</td>\n",
       "      <td>-11.114</td>\n",
       "      <td>NaN</td>\n",
       "      <td>NaN</td>\n",
       "      <td>-71.675570</td>\n",
       "      <td>-71.914890</td>\n",
       "      <td>NaN</td>\n",
       "      <td>NaN</td>\n",
       "      <td>13.0</td>\n",
       "      <td>0.762871</td>\n",
       "      <td>...</td>\n",
       "      <td>108.0</td>\n",
       "      <td>1.0</td>\n",
       "      <td>33.0</td>\n",
       "      <td>10356.0</td>\n",
       "      <td>ACType|UNKNOWN</td>\n",
       "      <td>NaN</td>\n",
       "      <td>NaN</td>\n",
       "      <td>NaN</td>\n",
       "      <td>NaN</td>\n",
       "      <td>NaN</td>\n",
       "    </tr>\n",
       "    <tr>\n",
       "      <th>3</th>\n",
       "      <td>196040161</td>\n",
       "      <td>-11.080</td>\n",
       "      <td>NaN</td>\n",
       "      <td>NaN</td>\n",
       "      <td>-72.034920</td>\n",
       "      <td>-71.896660</td>\n",
       "      <td>NaN</td>\n",
       "      <td>NaN</td>\n",
       "      <td>13.0</td>\n",
       "      <td>0.764348</td>\n",
       "      <td>...</td>\n",
       "      <td>108.0</td>\n",
       "      <td>1.0</td>\n",
       "      <td>33.0</td>\n",
       "      <td>10356.0</td>\n",
       "      <td>dateTime|2021-3-19 1:8:40 GMT</td>\n",
       "      <td>NaN</td>\n",
       "      <td>NaN</td>\n",
       "      <td>NaN</td>\n",
       "      <td>NaN</td>\n",
       "      <td>NaN</td>\n",
       "    </tr>\n",
       "    <tr>\n",
       "      <th>4</th>\n",
       "      <td>196190189</td>\n",
       "      <td>-11.047</td>\n",
       "      <td>NaN</td>\n",
       "      <td>NaN</td>\n",
       "      <td>-71.691420</td>\n",
       "      <td>-71.897410</td>\n",
       "      <td>NaN</td>\n",
       "      <td>NaN</td>\n",
       "      <td>13.0</td>\n",
       "      <td>0.765123</td>\n",
       "      <td>...</td>\n",
       "      <td>108.0</td>\n",
       "      <td>1.0</td>\n",
       "      <td>33.0</td>\n",
       "      <td>10356.0</td>\n",
       "      <td>NaN</td>\n",
       "      <td>NaN</td>\n",
       "      <td>NaN</td>\n",
       "      <td>NaN</td>\n",
       "      <td>NaN</td>\n",
       "      <td>NaN</td>\n",
       "    </tr>\n",
       "    <tr>\n",
       "      <th>...</th>\n",
       "      <td>...</td>\n",
       "      <td>...</td>\n",
       "      <td>...</td>\n",
       "      <td>...</td>\n",
       "      <td>...</td>\n",
       "      <td>...</td>\n",
       "      <td>...</td>\n",
       "      <td>...</td>\n",
       "      <td>...</td>\n",
       "      <td>...</td>\n",
       "      <td>...</td>\n",
       "      <td>...</td>\n",
       "      <td>...</td>\n",
       "      <td>...</td>\n",
       "      <td>...</td>\n",
       "      <td>...</td>\n",
       "      <td>...</td>\n",
       "      <td>...</td>\n",
       "      <td>...</td>\n",
       "      <td>...</td>\n",
       "      <td>...</td>\n",
       "    </tr>\n",
       "    <tr>\n",
       "      <th>13938</th>\n",
       "      <td>2305823157</td>\n",
       "      <td>457.760</td>\n",
       "      <td>126.295285</td>\n",
       "      <td>36.591802</td>\n",
       "      <td>-72.864655</td>\n",
       "      <td>-73.843290</td>\n",
       "      <td>0.911796</td>\n",
       "      <td>NaN</td>\n",
       "      <td>14.0</td>\n",
       "      <td>0.996262</td>\n",
       "      <td>...</td>\n",
       "      <td>203.0</td>\n",
       "      <td>1.0</td>\n",
       "      <td>483.0</td>\n",
       "      <td>10356.0</td>\n",
       "      <td>NaN</td>\n",
       "      <td>NaN</td>\n",
       "      <td>NaN</td>\n",
       "      <td>NaN</td>\n",
       "      <td>NaN</td>\n",
       "      <td>NaN</td>\n",
       "    </tr>\n",
       "    <tr>\n",
       "      <th>13939</th>\n",
       "      <td>2305974188</td>\n",
       "      <td>457.794</td>\n",
       "      <td>126.295285</td>\n",
       "      <td>36.591802</td>\n",
       "      <td>-72.880510</td>\n",
       "      <td>-73.840010</td>\n",
       "      <td>0.895943</td>\n",
       "      <td>NaN</td>\n",
       "      <td>14.0</td>\n",
       "      <td>0.992485</td>\n",
       "      <td>...</td>\n",
       "      <td>203.0</td>\n",
       "      <td>1.0</td>\n",
       "      <td>483.0</td>\n",
       "      <td>10356.0</td>\n",
       "      <td>NaN</td>\n",
       "      <td>NaN</td>\n",
       "      <td>NaN</td>\n",
       "      <td>NaN</td>\n",
       "      <td>NaN</td>\n",
       "      <td>NaN</td>\n",
       "    </tr>\n",
       "    <tr>\n",
       "      <th>13940</th>\n",
       "      <td>2306124749</td>\n",
       "      <td>457.828</td>\n",
       "      <td>126.295285</td>\n",
       "      <td>36.591802</td>\n",
       "      <td>-73.033770</td>\n",
       "      <td>-73.840490</td>\n",
       "      <td>0.742683</td>\n",
       "      <td>NaN</td>\n",
       "      <td>14.0</td>\n",
       "      <td>1.011875</td>\n",
       "      <td>...</td>\n",
       "      <td>203.0</td>\n",
       "      <td>1.0</td>\n",
       "      <td>483.0</td>\n",
       "      <td>10356.0</td>\n",
       "      <td>NaN</td>\n",
       "      <td>NaN</td>\n",
       "      <td>NaN</td>\n",
       "      <td>NaN</td>\n",
       "      <td>NaN</td>\n",
       "      <td>NaN</td>\n",
       "    </tr>\n",
       "    <tr>\n",
       "      <th>13941</th>\n",
       "      <td>2306275482</td>\n",
       "      <td>457.861</td>\n",
       "      <td>126.295285</td>\n",
       "      <td>36.591802</td>\n",
       "      <td>-72.922790</td>\n",
       "      <td>-73.852340</td>\n",
       "      <td>0.853660</td>\n",
       "      <td>NaN</td>\n",
       "      <td>14.0</td>\n",
       "      <td>0.997954</td>\n",
       "      <td>...</td>\n",
       "      <td>203.0</td>\n",
       "      <td>1.0</td>\n",
       "      <td>483.0</td>\n",
       "      <td>10356.0</td>\n",
       "      <td>NaN</td>\n",
       "      <td>NaN</td>\n",
       "      <td>NaN</td>\n",
       "      <td>NaN</td>\n",
       "      <td>NaN</td>\n",
       "      <td>NaN</td>\n",
       "    </tr>\n",
       "    <tr>\n",
       "      <th>13942</th>\n",
       "      <td>2306425629</td>\n",
       "      <td>457.894</td>\n",
       "      <td>126.295285</td>\n",
       "      <td>36.591802</td>\n",
       "      <td>-73.102460</td>\n",
       "      <td>-73.861855</td>\n",
       "      <td>0.673988</td>\n",
       "      <td>NaN</td>\n",
       "      <td>14.0</td>\n",
       "      <td>0.987217</td>\n",
       "      <td>...</td>\n",
       "      <td>203.0</td>\n",
       "      <td>1.0</td>\n",
       "      <td>484.0</td>\n",
       "      <td>10356.0</td>\n",
       "      <td>NaN</td>\n",
       "      <td>NaN</td>\n",
       "      <td>NaN</td>\n",
       "      <td>NaN</td>\n",
       "      <td>NaN</td>\n",
       "      <td>NaN</td>\n",
       "    </tr>\n",
       "  </tbody>\n",
       "</table>\n",
       "<p>13943 rows × 245 columns</p>\n",
       "</div>"
      ],
      "text/plain": [
       "       Clock:Tick#  Clock:offsetTime  \\\n",
       "0                0           -54.645   \n",
       "1        195738694           -11.147   \n",
       "2        195889450           -11.114   \n",
       "3        196040161           -11.080   \n",
       "4        196190189           -11.047   \n",
       "...            ...               ...   \n",
       "13938   2305823157           457.760   \n",
       "13939   2305974188           457.794   \n",
       "13940   2306124749           457.828   \n",
       "13941   2306275482           457.861   \n",
       "13942   2306425629           457.894   \n",
       "\n",
       "       IMU_ATTI(0):Longitude[degrees [-180;180]]  \\\n",
       "0                                            NaN   \n",
       "1                                            NaN   \n",
       "2                                            NaN   \n",
       "3                                            NaN   \n",
       "4                                            NaN   \n",
       "...                                          ...   \n",
       "13938                                 126.295285   \n",
       "13939                                 126.295285   \n",
       "13940                                 126.295285   \n",
       "13941                                 126.295285   \n",
       "13942                                 126.295285   \n",
       "\n",
       "       IMU_ATTI(0):Latitude[degrees [-180;180]]  IMU_ATTI(0):press:D[meters]  \\\n",
       "0                                           NaN                          NaN   \n",
       "1                                           NaN                   -71.754840   \n",
       "2                                           NaN                   -71.675570   \n",
       "3                                           NaN                   -72.034920   \n",
       "4                                           NaN                   -71.691420   \n",
       "...                                         ...                          ...   \n",
       "13938                                 36.591802                   -72.864655   \n",
       "13939                                 36.591802                   -72.880510   \n",
       "13940                                 36.591802                   -73.033770   \n",
       "13941                                 36.591802                   -72.922790   \n",
       "13942                                 36.591802                   -73.102460   \n",
       "\n",
       "       IMU_ATTI(0):alti:D[meters]  IMU_ATTI(0):relativeHeight:C[meters]  \\\n",
       "0                             NaN                                   NaN   \n",
       "1                      -71.914670                                   NaN   \n",
       "2                      -71.914890                                   NaN   \n",
       "3                      -71.896660                                   NaN   \n",
       "4                      -71.897410                                   NaN   \n",
       "...                           ...                                   ...   \n",
       "13938                  -73.843290                              0.911796   \n",
       "13939                  -73.840010                              0.895943   \n",
       "13940                  -73.840490                              0.742683   \n",
       "13941                  -73.852340                              0.853660   \n",
       "13942                  -73.861855                              0.673988   \n",
       "\n",
       "       IMU_ATTI(0):absoluteHeight:C[meters]  IMU_ATTI(0):numSats  \\\n",
       "0                                       NaN                  NaN   \n",
       "1                                       NaN                 13.0   \n",
       "2                                       NaN                 13.0   \n",
       "3                                       NaN                 13.0   \n",
       "4                                       NaN                 13.0   \n",
       "...                                     ...                  ...   \n",
       "13938                                   NaN                 14.0   \n",
       "13939                                   NaN                 14.0   \n",
       "13940                                   NaN                 14.0   \n",
       "13941                                   NaN                 14.0   \n",
       "13942                                   NaN                 14.0   \n",
       "\n",
       "       IMU_ATTI(0):roll:C[degrees [-180;180]]  ...  BatteryInfo:BatCurrent:D  \\\n",
       "0                                         NaN  ...                       NaN   \n",
       "1                                    0.763620  ...                     108.0   \n",
       "2                                    0.762871  ...                     108.0   \n",
       "3                                    0.764348  ...                     108.0   \n",
       "4                                    0.765123  ...                     108.0   \n",
       "...                                       ...  ...                       ...   \n",
       "13938                                0.996262  ...                     203.0   \n",
       "13939                                0.992485  ...                     203.0   \n",
       "13940                                1.011875  ...                     203.0   \n",
       "13941                                0.997954  ...                     203.0   \n",
       "13942                                0.987217  ...                     203.0   \n",
       "\n",
       "       BatteryInfo:BatCap:D  BatteryInfo:CapPercnt:D  BatteryInfo:BatTemp:D  \\\n",
       "0                       NaN                      NaN                    NaN   \n",
       "1                       1.0                     33.0                10356.0   \n",
       "2                       1.0                     33.0                10356.0   \n",
       "3                       1.0                     33.0                10356.0   \n",
       "4                       1.0                     33.0                10356.0   \n",
       "...                     ...                      ...                    ...   \n",
       "13938                   1.0                    483.0                10356.0   \n",
       "13939                   1.0                    483.0                10356.0   \n",
       "13940                   1.0                    483.0                10356.0   \n",
       "13941                   1.0                    483.0                10356.0   \n",
       "13942                   1.0                    484.0                10356.0   \n",
       "\n",
       "               BatteryInfo:BatAuth:D  BatteryInfo:BatDataCnt:D  \\\n",
       "0                                NaN                       NaN   \n",
       "1         Firmware Date| Feb 26 2019                       NaN   \n",
       "2                     ACType|UNKNOWN                       NaN   \n",
       "3      dateTime|2021-3-19 1:8:40 GMT                       NaN   \n",
       "4                                NaN                       NaN   \n",
       "...                              ...                       ...   \n",
       "13938                            NaN                       NaN   \n",
       "13939                            NaN                       NaN   \n",
       "13940                            NaN                       NaN   \n",
       "13941                            NaN                       NaN   \n",
       "13942                            NaN                       NaN   \n",
       "\n",
       "       BatteryInfo:FullCap:D  Attribute|Value  ConvertDatV3  4.2.1  \n",
       "0                        NaN              NaN           NaN    NaN  \n",
       "1                        NaN              NaN           NaN    NaN  \n",
       "2                        NaN              NaN           NaN    NaN  \n",
       "3                        NaN              NaN           NaN    NaN  \n",
       "4                        NaN              NaN           NaN    NaN  \n",
       "...                      ...              ...           ...    ...  \n",
       "13938                    NaN              NaN           NaN    NaN  \n",
       "13939                    NaN              NaN           NaN    NaN  \n",
       "13940                    NaN              NaN           NaN    NaN  \n",
       "13941                    NaN              NaN           NaN    NaN  \n",
       "13942                    NaN              NaN           NaN    NaN  \n",
       "\n",
       "[13943 rows x 245 columns]"
      ]
     },
     "execution_count": 4,
     "metadata": {},
     "output_type": "execute_result"
    }
   ],
   "source": [
    "MG1S_df"
   ]
  },
  {
   "cell_type": "code",
   "execution_count": 5,
   "metadata": {},
   "outputs": [
    {
     "name": "stdout",
     "output_type": "stream",
     "text": [
      "Index(['Clock:Tick#', 'Clock:offsetTime',\n",
      "       'IMU_ATTI(0):Longitude[degrees [-180;180]]',\n",
      "       'IMU_ATTI(0):Latitude[degrees [-180;180]]',\n",
      "       'IMU_ATTI(0):press:D[meters]', 'IMU_ATTI(0):alti:D[meters]',\n",
      "       'IMU_ATTI(0):relativeHeight:C[meters]',\n",
      "       'IMU_ATTI(0):absoluteHeight:C[meters]', 'IMU_ATTI(0):numSats',\n",
      "       'IMU_ATTI(0):roll:C[degrees [-180;180]]',\n",
      "       ...\n",
      "       'BatteryInfo:BatCurrent:D', 'BatteryInfo:BatCap:D',\n",
      "       'BatteryInfo:CapPercnt:D', 'BatteryInfo:BatTemp:D',\n",
      "       'BatteryInfo:BatAuth:D', 'BatteryInfo:BatDataCnt:D',\n",
      "       'BatteryInfo:FullCap:D', 'Attribute|Value', 'ConvertDatV3', '4.2.1'],\n",
      "      dtype='object', length=245)\n"
     ]
    }
   ],
   "source": [
    "print(MG1S_df.columns)"
   ]
  },
  {
   "cell_type": "code",
   "execution_count": 6,
   "metadata": {},
   "outputs": [],
   "source": [
    "# F 컬럼 \n",
    "MG1S_df = MG1S_df.rename(columns={\"IMU_ATTI(0):alti:D[meters]\": \"IMU_ATTI_0:alti:D\", \n",
    "                                  \"GPS:Long[degrees]\": \"GPS:Long\", \n",
    "                                  \"GPS:Lat[degrees]\": \"GPS:Lat\", \n",
    "                                  \"GPS:heightMSL[meters]\" : \"GPS:heightMSL\"})"
   ]
  },
  {
   "cell_type": "code",
   "execution_count": 7,
   "metadata": {},
   "outputs": [
    {
     "name": "stdout",
     "output_type": "stream",
     "text": [
      "Index(['Clock:Tick#', 'Clock:offsetTime',\n",
      "       'IMU_ATTI(0):Longitude[degrees [-180;180]]',\n",
      "       'IMU_ATTI(0):Latitude[degrees [-180;180]]',\n",
      "       'IMU_ATTI(0):press:D[meters]', 'IMU_ATTI_0:alti:D',\n",
      "       'IMU_ATTI(0):relativeHeight:C[meters]',\n",
      "       'IMU_ATTI(0):absoluteHeight:C[meters]', 'IMU_ATTI(0):numSats',\n",
      "       'IMU_ATTI(0):roll:C[degrees [-180;180]]',\n",
      "       ...\n",
      "       'BatteryInfo:BatCurrent:D', 'BatteryInfo:BatCap:D',\n",
      "       'BatteryInfo:CapPercnt:D', 'BatteryInfo:BatTemp:D',\n",
      "       'BatteryInfo:BatAuth:D', 'BatteryInfo:BatDataCnt:D',\n",
      "       'BatteryInfo:FullCap:D', 'Attribute|Value', 'ConvertDatV3', '4.2.1'],\n",
      "      dtype='object', length=245)\n"
     ]
    }
   ],
   "source": [
    "print(MG1S_df.columns)"
   ]
  },
  {
   "cell_type": "code",
   "execution_count": 8,
   "metadata": {},
   "outputs": [
    {
     "data": {
      "text/plain": [
       "0              NaN\n",
       "1        36.591828\n",
       "2        36.591828\n",
       "3        36.591828\n",
       "4        36.591828\n",
       "           ...    \n",
       "13938    36.591802\n",
       "13939    36.591802\n",
       "13940    36.591802\n",
       "13941    36.591802\n",
       "13942    36.591802\n",
       "Name: GPS:Lat, Length: 13943, dtype: float64"
      ]
     },
     "execution_count": 8,
     "metadata": {},
     "output_type": "execute_result"
    }
   ],
   "source": [
    "MG1S_df['GPS:Lat']"
   ]
  },
  {
   "cell_type": "code",
   "execution_count": 9,
   "metadata": {},
   "outputs": [],
   "source": [
    "MG1S_df['GPS:dateTimeStamp']=pd.to_datetime(MG1S_df['GPS:dateTimeStamp'], format = '%Y-%m-%d')"
   ]
  },
  {
   "cell_type": "code",
   "execution_count": 10,
   "metadata": {},
   "outputs": [
    {
     "data": {
      "text/plain": [
       "datetime64[ns, UTC]"
      ]
     },
     "execution_count": 10,
     "metadata": {},
     "output_type": "execute_result"
    }
   ],
   "source": [
    "MG1S_df['GPS:dateTimeStamp'].dtypes"
   ]
  },
  {
   "cell_type": "code",
   "execution_count": 11,
   "metadata": {},
   "outputs": [],
   "source": [
    "Time_Ser =MG1S_df.groupby('GPS:dateTimeStamp', sort = False)['GPS:dateTimeStamp'].min()"
   ]
  },
  {
   "cell_type": "code",
   "execution_count": 12,
   "metadata": {},
   "outputs": [
    {
     "data": {
      "text/plain": [
       "GPS:dateTimeStamp\n",
       "2021-03-19 01:08:56+00:00   2021-03-19 01:08:56+00:00\n",
       "2021-03-19 01:08:57+00:00   2021-03-19 01:08:57+00:00\n",
       "2021-03-19 01:08:58+00:00   2021-03-19 01:08:58+00:00\n",
       "2021-03-19 01:08:59+00:00   2021-03-19 01:08:59+00:00\n",
       "2021-03-19 01:09:00+00:00   2021-03-19 01:09:00+00:00\n",
       "                                       ...           \n",
       "2021-03-19 01:16:22+00:00   2021-03-19 01:16:22+00:00\n",
       "2021-03-19 01:16:23+00:00   2021-03-19 01:16:23+00:00\n",
       "2021-03-19 01:16:24+00:00   2021-03-19 01:16:24+00:00\n",
       "2021-03-19 01:16:25+00:00   2021-03-19 01:16:25+00:00\n",
       "2021-03-19 01:16:26+00:00   2021-03-19 01:16:26+00:00\n",
       "Name: GPS:dateTimeStamp, Length: 451, dtype: datetime64[ns, UTC]"
      ]
     },
     "execution_count": 12,
     "metadata": {},
     "output_type": "execute_result"
    }
   ],
   "source": [
    "Time_Ser"
   ]
  },
  {
   "cell_type": "code",
   "execution_count": 13,
   "metadata": {},
   "outputs": [],
   "source": [
    "lat_Ser =MG1S_df.groupby('GPS:dateTimeStamp', sort = False)['GPS:Lat'].mean()"
   ]
  },
  {
   "cell_type": "code",
   "execution_count": 14,
   "metadata": {},
   "outputs": [
    {
     "data": {
      "text/plain": [
       "GPS:dateTimeStamp\n",
       "2021-03-19 01:08:56+00:00    36.591826\n",
       "2021-03-19 01:08:57+00:00    36.591824\n",
       "2021-03-19 01:08:58+00:00    36.591820\n",
       "2021-03-19 01:08:59+00:00    36.591818\n",
       "2021-03-19 01:09:00+00:00    36.591816\n",
       "                               ...    \n",
       "2021-03-19 01:16:22+00:00    36.591802\n",
       "2021-03-19 01:16:23+00:00    36.591802\n",
       "2021-03-19 01:16:24+00:00    36.591802\n",
       "2021-03-19 01:16:25+00:00    36.591802\n",
       "2021-03-19 01:16:26+00:00    36.591802\n",
       "Name: GPS:Lat, Length: 451, dtype: float64"
      ]
     },
     "execution_count": 14,
     "metadata": {},
     "output_type": "execute_result"
    }
   ],
   "source": [
    "lat_Ser"
   ]
  },
  {
   "cell_type": "code",
   "execution_count": 15,
   "metadata": {},
   "outputs": [],
   "source": [
    "lon_Ser =MG1S_df.groupby('GPS:dateTimeStamp', sort = False)['GPS:Long'].mean()"
   ]
  },
  {
   "cell_type": "code",
   "execution_count": 16,
   "metadata": {},
   "outputs": [
    {
     "data": {
      "text/plain": [
       "GPS:dateTimeStamp\n",
       "2021-03-19 01:08:56+00:00    126.295266\n",
       "2021-03-19 01:08:57+00:00    126.295268\n",
       "2021-03-19 01:08:58+00:00    126.295269\n",
       "2021-03-19 01:08:59+00:00    126.295270\n",
       "2021-03-19 01:09:00+00:00    126.295270\n",
       "                                ...    \n",
       "2021-03-19 01:16:22+00:00    126.295286\n",
       "2021-03-19 01:16:23+00:00    126.295286\n",
       "2021-03-19 01:16:24+00:00    126.295286\n",
       "2021-03-19 01:16:25+00:00    126.295286\n",
       "2021-03-19 01:16:26+00:00    126.295286\n",
       "Name: GPS:Long, Length: 451, dtype: float64"
      ]
     },
     "execution_count": 16,
     "metadata": {},
     "output_type": "execute_result"
    }
   ],
   "source": [
    "lon_Ser"
   ]
  },
  {
   "cell_type": "code",
   "execution_count": 17,
   "metadata": {},
   "outputs": [],
   "source": [
    "AltMSL_Ser =MG1S_df.groupby('GPS:dateTimeStamp', sort = False)['GPS:heightMSL'].mean()"
   ]
  },
  {
   "cell_type": "code",
   "execution_count": 18,
   "metadata": {},
   "outputs": [
    {
     "data": {
      "text/plain": [
       "GPS:dateTimeStamp\n",
       "2021-03-19 01:08:56+00:00     9.775913\n",
       "2021-03-19 01:08:57+00:00    10.030323\n",
       "2021-03-19 01:08:58+00:00    10.239162\n",
       "2021-03-19 01:08:59+00:00    10.369480\n",
       "2021-03-19 01:09:00+00:00    10.484200\n",
       "                               ...    \n",
       "2021-03-19 01:16:22+00:00     8.618200\n",
       "2021-03-19 01:16:23+00:00     8.196842\n",
       "2021-03-19 01:16:24+00:00     7.798194\n",
       "2021-03-19 01:16:25+00:00     7.681903\n",
       "2021-03-19 01:16:26+00:00     7.690500\n",
       "Name: GPS:heightMSL, Length: 451, dtype: float64"
      ]
     },
     "execution_count": 18,
     "metadata": {},
     "output_type": "execute_result"
    }
   ],
   "source": [
    "AltMSL_Ser"
   ]
  },
  {
   "cell_type": "code",
   "execution_count": 19,
   "metadata": {},
   "outputs": [
    {
     "data": {
      "text/plain": [
       "0              NaN\n",
       "1       -71.914670\n",
       "2       -71.914890\n",
       "3       -71.896660\n",
       "4       -71.897410\n",
       "           ...    \n",
       "13938   -73.843290\n",
       "13939   -73.840010\n",
       "13940   -73.840490\n",
       "13941   -73.852340\n",
       "13942   -73.861855\n",
       "Name: IMU_ATTI_0:alti:D, Length: 13943, dtype: float64"
      ]
     },
     "execution_count": 19,
     "metadata": {},
     "output_type": "execute_result"
    }
   ],
   "source": [
    "MG1S_df['IMU_ATTI_0:alti:D']"
   ]
  },
  {
   "cell_type": "code",
   "execution_count": 20,
   "metadata": {},
   "outputs": [],
   "source": [
    "AltIMU_Ser =MG1S_df.groupby('GPS:dateTimeStamp', sort = False)['IMU_ATTI_0:alti:D'].mean()"
   ]
  },
  {
   "cell_type": "code",
   "execution_count": 21,
   "metadata": {},
   "outputs": [
    {
     "data": {
      "text/plain": [
       "GPS:dateTimeStamp\n",
       "2021-03-19 01:08:56+00:00   -71.950230\n",
       "2021-03-19 01:08:57+00:00   -71.973015\n",
       "2021-03-19 01:08:58+00:00   -71.874685\n",
       "2021-03-19 01:08:59+00:00   -71.875052\n",
       "2021-03-19 01:09:00+00:00   -71.870153\n",
       "                               ...    \n",
       "2021-03-19 01:16:22+00:00   -72.628931\n",
       "2021-03-19 01:16:23+00:00   -73.073021\n",
       "2021-03-19 01:16:24+00:00   -73.440555\n",
       "2021-03-19 01:16:25+00:00   -73.746503\n",
       "2021-03-19 01:16:26+00:00   -73.832929\n",
       "Name: IMU_ATTI_0:alti:D, Length: 451, dtype: float64"
      ]
     },
     "execution_count": 21,
     "metadata": {},
     "output_type": "execute_result"
    }
   ],
   "source": [
    "AltIMU_Ser"
   ]
  },
  {
   "cell_type": "code",
   "execution_count": 22,
   "metadata": {},
   "outputs": [],
   "source": [
    "BatteryStatus =MG1S_df.groupby('GPS:dateTimeStamp', sort = False)['BatteryStatus:present:D'].mean() "
   ]
  },
  {
   "cell_type": "code",
   "execution_count": 23,
   "metadata": {},
   "outputs": [
    {
     "data": {
      "text/plain": [
       "GPS:dateTimeStamp\n",
       "2021-03-19 01:08:56+00:00    15.0\n",
       "2021-03-19 01:08:57+00:00    15.0\n",
       "2021-03-19 01:08:58+00:00    15.0\n",
       "2021-03-19 01:08:59+00:00    15.0\n",
       "2021-03-19 01:09:00+00:00    15.0\n",
       "                             ... \n",
       "2021-03-19 01:16:22+00:00    15.0\n",
       "2021-03-19 01:16:23+00:00    15.0\n",
       "2021-03-19 01:16:24+00:00    15.0\n",
       "2021-03-19 01:16:25+00:00    15.0\n",
       "2021-03-19 01:16:26+00:00    15.0\n",
       "Name: BatteryStatus:present:D, Length: 451, dtype: float64"
      ]
     },
     "execution_count": 23,
     "metadata": {},
     "output_type": "execute_result"
    }
   ],
   "source": [
    "BatteryStatus"
   ]
  },
  {
   "cell_type": "code",
   "execution_count": 25,
   "metadata": {},
   "outputs": [],
   "source": [
    "MG1SDateSet=list(zip(Time_Ser, BatteryStatus, lat_Ser, lon_Ser, AltMSL_Ser, AltIMU_Ser))\n",
    "\n",
    "df=pd.DataFrame(data=MG1SDateSet, columns=['GPS:dateTimeStamp', \n",
    "                                           'BatteryStatus:present:D',\n",
    "                                          'GPS:Lat', \n",
    "                                          'GPS:Long', \n",
    "                                          'GPS:heightMSL',\n",
    "                                          'IMU_ATTI_0:alti:D'])"
   ]
  },
  {
   "cell_type": "code",
   "execution_count": 26,
   "metadata": {},
   "outputs": [],
   "source": [
    "df.to_csv('2021_03_19_MG1S_edited.csv')"
   ]
  },
  {
   "cell_type": "code",
   "execution_count": 27,
   "metadata": {},
   "outputs": [
    {
     "name": "stdout",
     "output_type": "stream",
     "text": [
      "0                             NaT\n",
      "1       2021-03-19 01:08:56+00:00\n",
      "2       2021-03-19 01:08:56+00:00\n",
      "3       2021-03-19 01:08:56+00:00\n",
      "4       2021-03-19 01:08:56+00:00\n",
      "                   ...           \n",
      "13938   2021-03-19 01:16:26+00:00\n",
      "13939   2021-03-19 01:16:26+00:00\n",
      "13940   2021-03-19 01:16:26+00:00\n",
      "13941   2021-03-19 01:16:26+00:00\n",
      "13942   2021-03-19 01:16:26+00:00\n",
      "Name: GPS:dateTimeStamp, Length: 13943, dtype: datetime64[ns, UTC]\n"
     ]
    }
   ],
   "source": [
    "print(MG1S_df['GPS:dateTimeStamp'])"
   ]
  },
  {
   "cell_type": "code",
   "execution_count": 28,
   "metadata": {},
   "outputs": [
    {
     "name": "stdout",
     "output_type": "stream",
     "text": [
      "<class 'pandas.core.series.Series'>\n"
     ]
    }
   ],
   "source": [
    "print(type(MG1S_df['GPS:dateTimeStamp']))"
   ]
  },
  {
   "cell_type": "code",
   "execution_count": 29,
   "metadata": {},
   "outputs": [
    {
     "data": {
      "image/png": "[encoded data removed]",
      "text/plain": [
       "<Figure size 432x288 with 1 Axes>"
      ]
     },
     "metadata": {
      "needs_background": "light"
     },
     "output_type": "display_data"
    }
   ],
   "source": [
    "# 데이타 프레임을 Series로 바꾸고.. numpy 제외 하고 그리기..\n",
    "fig = plt.figure() \n",
    "axes = fig.add_subplot(1, 1, 1)\n",
    "axes.set_title('latitude')\n",
    "axes.set_xlabel('Time') \n",
    "axes.set_ylabel('latitude')\n",
    "# \n",
    "\n",
    "#data = pd.DataFrame(['GPS:Time'],['Motor:Volts:Rfront:volts'])\n",
    "plt.plot(df['GPS:dateTimeStamp'], df['GPS:Lat'])\n",
    "plt.show()"
   ]
  },
  {
   "cell_type": "code",
   "execution_count": 30,
   "metadata": {},
   "outputs": [
    {
     "data": {
      "image/png": "[encoded data removed]",
      "text/plain": [
       "<Figure size 432x288 with 1 Axes>"
      ]
     },
     "metadata": {
      "needs_background": "light"
     },
     "output_type": "display_data"
    }
   ],
   "source": [
    "fig = plt.figure() \n",
    "axes = fig.add_subplot(1, 1, 1)\n",
    "axes.set_title('longitude')\n",
    "axes.set_xlabel('Time') \n",
    "axes.set_ylabel('longitude')\n",
    "# \n",
    "\n",
    "#data = pd.DataFrame(['GPS:Time'],['Motor:Volts:Rfront:volts'])\n",
    "plt.plot(df['GPS:dateTimeStamp'], df['GPS:Long'])\n",
    "plt.show()"
   ]
  },
  {
   "cell_type": "code",
   "execution_count": 31,
   "metadata": {},
   "outputs": [
    {
     "data": {
      "image/png": "[encoded data removed]",
      "text/plain": [
       "<Figure size 432x288 with 1 Axes>"
      ]
     },
     "metadata": {
      "needs_background": "light"
     },
     "output_type": "display_data"
    }
   ],
   "source": [
    "fig = plt.figure() \n",
    "axes = fig.add_subplot(1, 1, 1)\n",
    "axes.set_title('MSL latitude')\n",
    "axes.set_xlabel('Time') \n",
    "axes.set_ylabel('altitude')\n",
    "# \n",
    "\n",
    "plt.plot(df['GPS:dateTimeStamp'], df['GPS:heightMSL'])\n",
    "plt.show()"
   ]
  },
  {
   "cell_type": "code",
   "execution_count": 32,
   "metadata": {},
   "outputs": [
    {
     "data": {
      "image/png": "[encoded data removed]",
      "text/plain": [
       "<Figure size 432x288 with 1 Axes>"
      ]
     },
     "metadata": {
      "needs_background": "light"
     },
     "output_type": "display_data"
    }
   ],
   "source": [
    "fig = plt.figure() \n",
    "axes = fig.add_subplot(1, 1, 1)\n",
    "axes.set_title('MSL latitude')\n",
    "axes.set_xlabel('Time') \n",
    "axes.set_ylabel('altitude')\n",
    "# \n",
    "\n",
    "plt.plot(df['GPS:dateTimeStamp'], df['IMU_ATTI_0:alti:D'])\n",
    "plt.show()"
   ]
  },
  {
   "cell_type": "code",
   "execution_count": null,
   "metadata": {},
   "outputs": [],
   "source": []
  },
  {
   "cell_type": "code",
   "execution_count": null,
   "metadata": {},
   "outputs": [],
   "source": []
  }
 ],
 "metadata": {
  "kernelspec": {
   "display_name": "Python 3",
   "language": "python",
   "name": "python3"
  },
  "language_info": {
   "codemirror_mode": {
    "name": "ipython",
    "version": 3
   },
   "file_extension": ".py",
   "mimetype": "text/x-python",
   "name": "python",
   "nbconvert_exporter": "python",
   "pygments_lexer": "ipython3",
   "version": "3.8.8"
  }
 },
 "nbformat": 4,
 "nbformat_minor": 4
}
