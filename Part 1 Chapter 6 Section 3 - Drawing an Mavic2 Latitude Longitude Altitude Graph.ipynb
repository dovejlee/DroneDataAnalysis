{
 "cells": [
  {
   "cell_type": "markdown",
   "metadata": {},
   "source": [
    "Why You Should Visualize Your Data <br>\n",
    "Mavic2 Flight Diagram Drawing"
   ]
  },
  {
   "cell_type": "code",
   "execution_count": 1,
   "metadata": {},
   "outputs": [],
   "source": [
    "import pandas as pd\n",
    "import numpy as np\n",
    "from datetime import datetime\n",
    "from collections import OrderedDict\n",
    "%matplotlib inline\n",
    "import matplotlib.pyplot as plt"
   ]
  },
  {
   "cell_type": "code",
   "execution_count": 2,
   "metadata": {},
   "outputs": [],
   "source": [
    "Mavic2_df = pd.read_csv('data/2018_04_19_Mavic2.csv')\n",
    "Mavic2_df = pd.DataFrame.from_dict(OrderedDict(Mavic2_df))"
   ]
  },
  {
   "cell_type": "code",
   "execution_count": 3,
   "metadata": {},
   "outputs": [
    {
     "data": {
      "text/html": [
       "<div>\n",
       "<style scoped>\n",
       "    .dataframe tbody tr th:only-of-type {\n",
       "        vertical-align: middle;\n",
       "    }\n",
       "\n",
       "    .dataframe tbody tr th {\n",
       "        vertical-align: top;\n",
       "    }\n",
       "\n",
       "    .dataframe thead th {\n",
       "        text-align: right;\n",
       "    }\n",
       "</style>\n",
       "<table border=\"1\" class=\"dataframe\">\n",
       "  <thead>\n",
       "    <tr style=\"text-align: right;\">\n",
       "      <th></th>\n",
       "      <th>Id</th>\n",
       "      <th>Time(seconds)</th>\n",
       "      <th>Time(text)</th>\n",
       "      <th>Latitude</th>\n",
       "      <th>Longitude</th>\n",
       "      <th>FlightMode</th>\n",
       "      <th>Altitude(feet)</th>\n",
       "      <th>Altitude(meters)</th>\n",
       "      <th>HSpeed(mph)</th>\n",
       "      <th>HSpeed(m/s)</th>\n",
       "      <th>...</th>\n",
       "      <th>RcAileron</th>\n",
       "      <th>RcElevator</th>\n",
       "      <th>RcGyro</th>\n",
       "      <th>RcRudder</th>\n",
       "      <th>RcThrottle</th>\n",
       "      <th>NonGpsError</th>\n",
       "      <th>GoHomeStatus</th>\n",
       "      <th>AppTip</th>\n",
       "      <th>AppWarning</th>\n",
       "      <th>AppMessage</th>\n",
       "    </tr>\n",
       "  </thead>\n",
       "  <tbody>\n",
       "    <tr>\n",
       "      <th>0</th>\n",
       "      <td>1</td>\n",
       "      <td>0.7</td>\n",
       "      <td>0m 0.7s</td>\n",
       "      <td>36.500569</td>\n",
       "      <td>126.337392</td>\n",
       "      <td>P-GPS</td>\n",
       "      <td>0</td>\n",
       "      <td>0.0</td>\n",
       "      <td>0.0</td>\n",
       "      <td>0.0</td>\n",
       "      <td>...</td>\n",
       "      <td>1024</td>\n",
       "      <td>1024</td>\n",
       "      <td>1024</td>\n",
       "      <td>1024</td>\n",
       "      <td>1024</td>\n",
       "      <td>NaN</td>\n",
       "      <td>NaN</td>\n",
       "      <td>NaN</td>\n",
       "      <td>NaN</td>\n",
       "      <td>NaN</td>\n",
       "    </tr>\n",
       "    <tr>\n",
       "      <th>1</th>\n",
       "      <td>2</td>\n",
       "      <td>0.8</td>\n",
       "      <td>0m 0.8s</td>\n",
       "      <td>36.500569</td>\n",
       "      <td>126.337392</td>\n",
       "      <td>P-GPS</td>\n",
       "      <td>0</td>\n",
       "      <td>0.0</td>\n",
       "      <td>0.0</td>\n",
       "      <td>0.0</td>\n",
       "      <td>...</td>\n",
       "      <td>1024</td>\n",
       "      <td>1024</td>\n",
       "      <td>1024</td>\n",
       "      <td>1024</td>\n",
       "      <td>1024</td>\n",
       "      <td>NaN</td>\n",
       "      <td>NaN</td>\n",
       "      <td>NaN</td>\n",
       "      <td>NaN</td>\n",
       "      <td>NaN</td>\n",
       "    </tr>\n",
       "    <tr>\n",
       "      <th>2</th>\n",
       "      <td>3</td>\n",
       "      <td>0.9</td>\n",
       "      <td>0m 0.9s</td>\n",
       "      <td>36.500569</td>\n",
       "      <td>126.337392</td>\n",
       "      <td>P-GPS</td>\n",
       "      <td>0</td>\n",
       "      <td>0.0</td>\n",
       "      <td>0.0</td>\n",
       "      <td>0.0</td>\n",
       "      <td>...</td>\n",
       "      <td>1024</td>\n",
       "      <td>1024</td>\n",
       "      <td>1024</td>\n",
       "      <td>1024</td>\n",
       "      <td>1024</td>\n",
       "      <td>NaN</td>\n",
       "      <td>NaN</td>\n",
       "      <td>NaN</td>\n",
       "      <td>NaN</td>\n",
       "      <td>NaN</td>\n",
       "    </tr>\n",
       "    <tr>\n",
       "      <th>3</th>\n",
       "      <td>4</td>\n",
       "      <td>1.0</td>\n",
       "      <td>0m 1s</td>\n",
       "      <td>36.500569</td>\n",
       "      <td>126.337392</td>\n",
       "      <td>P-GPS</td>\n",
       "      <td>0</td>\n",
       "      <td>0.0</td>\n",
       "      <td>0.0</td>\n",
       "      <td>0.0</td>\n",
       "      <td>...</td>\n",
       "      <td>1024</td>\n",
       "      <td>1024</td>\n",
       "      <td>1024</td>\n",
       "      <td>1024</td>\n",
       "      <td>1024</td>\n",
       "      <td>NaN</td>\n",
       "      <td>NaN</td>\n",
       "      <td>NaN</td>\n",
       "      <td>NaN</td>\n",
       "      <td>NaN</td>\n",
       "    </tr>\n",
       "    <tr>\n",
       "      <th>4</th>\n",
       "      <td>5</td>\n",
       "      <td>1.1</td>\n",
       "      <td>0m 1.1s</td>\n",
       "      <td>36.500569</td>\n",
       "      <td>126.337392</td>\n",
       "      <td>P-GPS</td>\n",
       "      <td>0</td>\n",
       "      <td>0.0</td>\n",
       "      <td>0.0</td>\n",
       "      <td>0.0</td>\n",
       "      <td>...</td>\n",
       "      <td>1024</td>\n",
       "      <td>1024</td>\n",
       "      <td>1024</td>\n",
       "      <td>1024</td>\n",
       "      <td>1024</td>\n",
       "      <td>NaN</td>\n",
       "      <td>NaN</td>\n",
       "      <td>NaN</td>\n",
       "      <td>NaN</td>\n",
       "      <td>NaN</td>\n",
       "    </tr>\n",
       "    <tr>\n",
       "      <th>...</th>\n",
       "      <td>...</td>\n",
       "      <td>...</td>\n",
       "      <td>...</td>\n",
       "      <td>...</td>\n",
       "      <td>...</td>\n",
       "      <td>...</td>\n",
       "      <td>...</td>\n",
       "      <td>...</td>\n",
       "      <td>...</td>\n",
       "      <td>...</td>\n",
       "      <td>...</td>\n",
       "      <td>...</td>\n",
       "      <td>...</td>\n",
       "      <td>...</td>\n",
       "      <td>...</td>\n",
       "      <td>...</td>\n",
       "      <td>...</td>\n",
       "      <td>...</td>\n",
       "      <td>...</td>\n",
       "      <td>...</td>\n",
       "      <td>...</td>\n",
       "    </tr>\n",
       "    <tr>\n",
       "      <th>5421</th>\n",
       "      <td>5422</td>\n",
       "      <td>600.5</td>\n",
       "      <td>10m 0.5s</td>\n",
       "      <td>36.500582</td>\n",
       "      <td>126.337459</td>\n",
       "      <td>P-GPS</td>\n",
       "      <td>-1.6</td>\n",
       "      <td>-0.5</td>\n",
       "      <td>0.0</td>\n",
       "      <td>0.0</td>\n",
       "      <td>...</td>\n",
       "      <td>1024</td>\n",
       "      <td>364</td>\n",
       "      <td>1024</td>\n",
       "      <td>1024</td>\n",
       "      <td>891</td>\n",
       "      <td>NaN</td>\n",
       "      <td>NaN</td>\n",
       "      <td>NaN</td>\n",
       "      <td>NaN</td>\n",
       "      <td>NaN</td>\n",
       "    </tr>\n",
       "    <tr>\n",
       "      <th>5422</th>\n",
       "      <td>5423</td>\n",
       "      <td>600.6</td>\n",
       "      <td>10m 0.6s</td>\n",
       "      <td>36.500582</td>\n",
       "      <td>126.337459</td>\n",
       "      <td>P-GPS</td>\n",
       "      <td>-1.6</td>\n",
       "      <td>-0.5</td>\n",
       "      <td>0.0</td>\n",
       "      <td>0.0</td>\n",
       "      <td>...</td>\n",
       "      <td>1024</td>\n",
       "      <td>364</td>\n",
       "      <td>1024</td>\n",
       "      <td>1024</td>\n",
       "      <td>891</td>\n",
       "      <td>NaN</td>\n",
       "      <td>NaN</td>\n",
       "      <td>NaN</td>\n",
       "      <td>NaN</td>\n",
       "      <td>NaN</td>\n",
       "    </tr>\n",
       "    <tr>\n",
       "      <th>5423</th>\n",
       "      <td>5424</td>\n",
       "      <td>600.7</td>\n",
       "      <td>10m 0.7s</td>\n",
       "      <td>36.500582</td>\n",
       "      <td>126.337459</td>\n",
       "      <td>P-GPS</td>\n",
       "      <td>-1.6</td>\n",
       "      <td>-0.5</td>\n",
       "      <td>0.0</td>\n",
       "      <td>0.0</td>\n",
       "      <td>...</td>\n",
       "      <td>1024</td>\n",
       "      <td>364</td>\n",
       "      <td>1024</td>\n",
       "      <td>1024</td>\n",
       "      <td>891</td>\n",
       "      <td>NaN</td>\n",
       "      <td>NaN</td>\n",
       "      <td>NaN</td>\n",
       "      <td>NaN</td>\n",
       "      <td>NaN</td>\n",
       "    </tr>\n",
       "    <tr>\n",
       "      <th>5424</th>\n",
       "      <td>5425</td>\n",
       "      <td>600.8</td>\n",
       "      <td>10m 0.8s</td>\n",
       "      <td>36.500582</td>\n",
       "      <td>126.337459</td>\n",
       "      <td>P-GPS</td>\n",
       "      <td>-1.6</td>\n",
       "      <td>-0.5</td>\n",
       "      <td>0.0</td>\n",
       "      <td>0.0</td>\n",
       "      <td>...</td>\n",
       "      <td>1024</td>\n",
       "      <td>364</td>\n",
       "      <td>1024</td>\n",
       "      <td>1024</td>\n",
       "      <td>891</td>\n",
       "      <td>NaN</td>\n",
       "      <td>NaN</td>\n",
       "      <td>NaN</td>\n",
       "      <td>NaN</td>\n",
       "      <td>NaN</td>\n",
       "    </tr>\n",
       "    <tr>\n",
       "      <th>5425</th>\n",
       "      <td>5426</td>\n",
       "      <td>600.9</td>\n",
       "      <td>10m 0.9s</td>\n",
       "      <td>36.500582</td>\n",
       "      <td>126.337459</td>\n",
       "      <td>P-GPS</td>\n",
       "      <td>0</td>\n",
       "      <td>0.0</td>\n",
       "      <td>0.0</td>\n",
       "      <td>0.0</td>\n",
       "      <td>...</td>\n",
       "      <td>1024</td>\n",
       "      <td>364</td>\n",
       "      <td>1024</td>\n",
       "      <td>1024</td>\n",
       "      <td>891</td>\n",
       "      <td>NaN</td>\n",
       "      <td>NaN</td>\n",
       "      <td>NaN</td>\n",
       "      <td>NaN</td>\n",
       "      <td>NaN</td>\n",
       "    </tr>\n",
       "  </tbody>\n",
       "</table>\n",
       "<p>5426 rows × 42 columns</p>\n",
       "</div>"
      ],
      "text/plain": [
       "        Id  Time(seconds) Time(text)   Latitude   Longitude FlightMode  \\\n",
       "0        1            0.7    0m 0.7s  36.500569  126.337392      P-GPS   \n",
       "1        2            0.8    0m 0.8s  36.500569  126.337392      P-GPS   \n",
       "2        3            0.9    0m 0.9s  36.500569  126.337392      P-GPS   \n",
       "3        4            1.0      0m 1s  36.500569  126.337392      P-GPS   \n",
       "4        5            1.1    0m 1.1s  36.500569  126.337392      P-GPS   \n",
       "...    ...            ...        ...        ...         ...        ...   \n",
       "5421  5422          600.5   10m 0.5s  36.500582  126.337459      P-GPS   \n",
       "5422  5423          600.6   10m 0.6s  36.500582  126.337459      P-GPS   \n",
       "5423  5424          600.7   10m 0.7s  36.500582  126.337459      P-GPS   \n",
       "5424  5425          600.8   10m 0.8s  36.500582  126.337459      P-GPS   \n",
       "5425  5426          600.9   10m 0.9s  36.500582  126.337459      P-GPS   \n",
       "\n",
       "     Altitude(feet)  Altitude(meters)  HSpeed(mph)  HSpeed(m/s)  ...  \\\n",
       "0                 0               0.0          0.0          0.0  ...   \n",
       "1                 0               0.0          0.0          0.0  ...   \n",
       "2                 0               0.0          0.0          0.0  ...   \n",
       "3                 0               0.0          0.0          0.0  ...   \n",
       "4                 0               0.0          0.0          0.0  ...   \n",
       "...             ...               ...          ...          ...  ...   \n",
       "5421           -1.6              -0.5          0.0          0.0  ...   \n",
       "5422           -1.6              -0.5          0.0          0.0  ...   \n",
       "5423           -1.6              -0.5          0.0          0.0  ...   \n",
       "5424           -1.6              -0.5          0.0          0.0  ...   \n",
       "5425              0               0.0          0.0          0.0  ...   \n",
       "\n",
       "      RcAileron  RcElevator RcGyro  RcRudder  RcThrottle  NonGpsError  \\\n",
       "0          1024        1024   1024      1024        1024          NaN   \n",
       "1          1024        1024   1024      1024        1024          NaN   \n",
       "2          1024        1024   1024      1024        1024          NaN   \n",
       "3          1024        1024   1024      1024        1024          NaN   \n",
       "4          1024        1024   1024      1024        1024          NaN   \n",
       "...         ...         ...    ...       ...         ...          ...   \n",
       "5421       1024         364   1024      1024         891          NaN   \n",
       "5422       1024         364   1024      1024         891          NaN   \n",
       "5423       1024         364   1024      1024         891          NaN   \n",
       "5424       1024         364   1024      1024         891          NaN   \n",
       "5425       1024         364   1024      1024         891          NaN   \n",
       "\n",
       "      GoHomeStatus  AppTip  AppWarning  AppMessage  \n",
       "0              NaN     NaN         NaN         NaN  \n",
       "1              NaN     NaN         NaN         NaN  \n",
       "2              NaN     NaN         NaN         NaN  \n",
       "3              NaN     NaN         NaN         NaN  \n",
       "4              NaN     NaN         NaN         NaN  \n",
       "...            ...     ...         ...         ...  \n",
       "5421           NaN     NaN         NaN         NaN  \n",
       "5422           NaN     NaN         NaN         NaN  \n",
       "5423           NaN     NaN         NaN         NaN  \n",
       "5424           NaN     NaN         NaN         NaN  \n",
       "5425           NaN     NaN         NaN         NaN  \n",
       "\n",
       "[5426 rows x 42 columns]"
      ]
     },
     "execution_count": 3,
     "metadata": {},
     "output_type": "execute_result"
    }
   ],
   "source": [
    "Mavic2_df"
   ]
  },
  {
   "cell_type": "code",
   "execution_count": 4,
   "metadata": {},
   "outputs": [
    {
     "data": {
      "text/plain": [
       "0         0.7\n",
       "1         0.8\n",
       "2         0.9\n",
       "3         1.0\n",
       "4         1.1\n",
       "        ...  \n",
       "5421    600.5\n",
       "5422    600.6\n",
       "5423    600.7\n",
       "5424    600.8\n",
       "5425    600.9\n",
       "Name: Time(seconds), Length: 5426, dtype: float64"
      ]
     },
     "execution_count": 4,
     "metadata": {},
     "output_type": "execute_result"
    }
   ],
   "source": [
    "Mavic2_df['Time(seconds)']"
   ]
  },
  {
   "cell_type": "code",
   "execution_count": 5,
   "metadata": {},
   "outputs": [
    {
     "name": "stdout",
     "output_type": "stream",
     "text": [
      "float64\n"
     ]
    }
   ],
   "source": [
    "print(Mavic2_df['Time(seconds)'].dtype)"
   ]
  },
  {
   "cell_type": "code",
   "execution_count": 6,
   "metadata": {},
   "outputs": [
    {
     "data": {
      "text/plain": [
       "pandas.core.series.Series"
      ]
     },
     "execution_count": 6,
     "metadata": {},
     "output_type": "execute_result"
    }
   ],
   "source": [
    "type(Mavic2_df['Time(seconds)'])"
   ]
  },
  {
   "cell_type": "code",
   "execution_count": 7,
   "metadata": {},
   "outputs": [
    {
     "data": {
      "image/png": "[encoded data removed]",
      "text/plain": [
       "<Figure size 432x288 with 1 Axes>"
      ]
     },
     "metadata": {
      "needs_background": "light"
     },
     "output_type": "display_data"
    }
   ],
   "source": [
    "x = np.array(Mavic2_df['Time(seconds)'])\n",
    "y = np.array(Mavic2_df['Latitude'])\n",
    "plt.plot(x,y)\n",
    "plt.title(\"Latitude\")\n",
    "plt.show()"
   ]
  },
  {
   "cell_type": "code",
   "execution_count": 8,
   "metadata": {},
   "outputs": [
    {
     "data": {
      "image/png": "[encoded data removed]",
      "text/plain": [
       "<Figure size 432x288 with 1 Axes>"
      ]
     },
     "metadata": {
      "needs_background": "light"
     },
     "output_type": "display_data"
    }
   ],
   "source": [
    "x = np.array(Mavic2_df['Time(seconds)'])\n",
    "y = np.array(Mavic2_df['Longitude'])\n",
    "plt.plot(x,y)\n",
    "plt.title(\"Longitude\")\n",
    "plt.show()"
   ]
  },
  {
   "cell_type": "code",
   "execution_count": 9,
   "metadata": {},
   "outputs": [
    {
     "data": {
      "image/png": "[encoded data removed]",
      "text/plain": [
       "<Figure size 432x288 with 1 Axes>"
      ]
     },
     "metadata": {
      "needs_background": "light"
     },
     "output_type": "display_data"
    }
   ],
   "source": [
    "x = np.array(Mavic2_df['Time(seconds)'])\n",
    "y = np.array(Mavic2_df['Altitude(meters)'])\n",
    "plt.plot(x,y)\n",
    "plt.title(\"Altituede\")\n",
    "plt.show()"
   ]
  },
  {
   "cell_type": "code",
   "execution_count": 10,
   "metadata": {},
   "outputs": [],
   "source": [
    "Mavic2DateSet=list(zip(Mavic2_df['Time(seconds)'], Mavic2_df['Latitude'],\n",
    "                     Mavic2_df['Longitude'], Mavic2_df['Altitude(meters)']))\n",
    "\n",
    "df=pd.DataFrame(data=Mavic2DateSet, columns=['Time(seconds)', \n",
    "                                              'Latitude',\n",
    "                                              'Longitude', \n",
    "                                              'Altitude(meters)'\n",
    "                                             ])"
   ]
  },
  {
   "cell_type": "code",
   "execution_count": 11,
   "metadata": {},
   "outputs": [
    {
     "data": {
      "text/plain": [
       "0         0.7\n",
       "1         0.8\n",
       "2         0.9\n",
       "3         1.0\n",
       "4         1.1\n",
       "        ...  \n",
       "5421    600.5\n",
       "5422    600.6\n",
       "5423    600.7\n",
       "5424    600.8\n",
       "5425    600.9\n",
       "Name: Time(seconds), Length: 5426, dtype: float64"
      ]
     },
     "execution_count": 11,
     "metadata": {},
     "output_type": "execute_result"
    }
   ],
   "source": [
    "df['Time(seconds)']"
   ]
  },
  {
   "cell_type": "code",
   "execution_count": 12,
   "metadata": {},
   "outputs": [],
   "source": [
    "df.to_csv('data/2018_04_19_Mavic2_edited.csv')"
   ]
  },
  {
   "cell_type": "markdown",
   "metadata": {},
   "source": [
    "Change data frame to Series.. draw except numpy.."
   ]
  },
  {
   "cell_type": "code",
   "execution_count": 13,
   "metadata": {},
   "outputs": [
    {
     "data": {
      "image/png": "[encoded data removed]",
      "text/plain": [
       "<Figure size 432x288 with 1 Axes>"
      ]
     },
     "metadata": {
      "needs_background": "light"
     },
     "output_type": "display_data"
    }
   ],
   "source": [
    "fig = plt.figure() \n",
    "axes = fig.add_subplot(1, 1, 1)\n",
    "axes.set_title('latitude')\n",
    "axes.set_xlabel('Time') \n",
    "axes.set_ylabel('latitude')\n",
    "\n",
    "Time = (Mavic2_df['Time(seconds)'])\n",
    "Lat = (Mavic2_df['Latitude'])\n",
    "plt.plot(Time, Lat)\n",
    "plt.show()"
   ]
  },
  {
   "cell_type": "code",
   "execution_count": 14,
   "metadata": {},
   "outputs": [
    {
     "data": {
      "image/png": "[encoded data removed]",
      "text/plain": [
       "<Figure size 432x288 with 1 Axes>"
      ]
     },
     "metadata": {
      "needs_background": "light"
     },
     "output_type": "display_data"
    }
   ],
   "source": [
    "fig = plt.figure() \n",
    "axes = fig.add_subplot(1, 1, 1)\n",
    "axes.set_title('longitude')\n",
    "axes.set_xlabel('Time') \n",
    "axes.set_ylabel('longitude')\n",
    "\n",
    "Time = (Mavic2_df['Time(seconds)'])\n",
    "Lon = (Mavic2_df['Longitude'])\n",
    "plt.plot(Time, Lon)\n",
    "plt.show()"
   ]
  },
  {
   "cell_type": "code",
   "execution_count": 15,
   "metadata": {},
   "outputs": [
    {
     "data": {
      "image/png": "[encoded data removed]",
      "text/plain": [
       "<Figure size 432x288 with 1 Axes>"
      ]
     },
     "metadata": {
      "needs_background": "light"
     },
     "output_type": "display_data"
    }
   ],
   "source": [
    "fig = plt.figure() \n",
    "axes = fig.add_subplot(1, 1, 1)\n",
    "axes.set_title('altitude')\n",
    "axes.set_xlabel('Time') \n",
    "axes.set_ylabel('altitude')\n",
    "\n",
    "Time = (Mavic2_df['Time(seconds)'])\n",
    "Alt = (Mavic2_df['Altitude(meters)'])\n",
    "plt.plot(Time, Alt)\n",
    "plt.show()"
   ]
  }
 ],
 "metadata": {
  "kernelspec": {
   "display_name": "Python 3 (ipykernel)",
   "language": "python",
   "name": "python3"
  },
  "language_info": {
   "codemirror_mode": {
    "name": "ipython",
    "version": 3
   },
   "file_extension": ".py",
   "mimetype": "text/x-python",
   "name": "python",
   "nbconvert_exporter": "python",
   "pygments_lexer": "ipython3",
   "version": "3.9.12"
  }
 },
 "nbformat": 4,
 "nbformat_minor": 4
}
