{
 "cells": [
  {
   "cell_type": "code",
   "execution_count": 1,
   "id": "609bc51e",
   "metadata": {},
   "outputs": [],
   "source": [
    "# import pandas as  pd\n",
    "import matplotlib.pyplot as plt\n",
    "import pandas as pd"
   ]
  },
  {
   "cell_type": "code",
   "execution_count": 2,
   "id": "7666dc05",
   "metadata": {},
   "outputs": [],
   "source": [
    "FixedWing_df = pd.read_csv(\"FixedWing.csv\")\n",
    "MultiCopter_df = pd.read_csv(\"RotaryWing.csv\")"
   ]
  },
  {
   "cell_type": "code",
   "execution_count": 3,
   "id": "0b5df8f2",
   "metadata": {},
   "outputs": [
    {
     "name": "stdout",
     "output_type": "stream",
     "text": [
      "                 Company               Name  Length  Width  Weight\n",
      "0                     XK          A100 SU27     420    340      65\n",
      "1                  Samco           DUODRONE    1400   2200    3200\n",
      "2             Uconsystem          RemoM-002    1440   1800    3500\n",
      "3   Suewon Unmanned Tech            SCANNER    1200   2600    5000\n",
      "4             KEVA Drone        KD-2 MAPPER    1100   1800    2000\n",
      "5               Volantex              ASW28    1132   2540    1050\n",
      "6   Suewon Unmanned Tech           VAM-400X    1000   1400    6000\n",
      "7              FINEKOWAC     Canister Style    1500   1500   15000\n",
      "8                 Parrot              DISCO     580   1150     750\n",
      "9                  Samco      DUODRONE - VA    2600   1400   10000\n",
      "10                 Samco        DUODRONE-EN    3200   2000   21500\n",
      "11                 Samco        DUODRONE-WB    1200   3000    9000\n",
      "12               Beliver         1960mm UAV    1070   1960    4200\n",
      "13             Skywalker   1830mm FPV Plane    1270   1830    2750\n",
      "14             ACCESS WE       Neptune V270    1460   2750   17000\n",
      "15                   MFE           Freedman    1070   2100    5000\n",
      "16           World Model          Cherokee2    1637   3320    3780\n",
      "17                 X-UAV              Talon    1100   1718    2750\n",
      "18           SonicModell  Mini Skyhunter V2     855   1238     830\n",
      "19                 Dyman      P-51D Mustang    1045   1200    1100\n",
      "20               Phoenix         Stinson EP     990   1310    1700\n",
      "21               Skywing       Sky rock F3A    1030   1000     760\n",
      "22                 Dyman            Seawind    1045   1220    1250\n",
      "23           World Model  Qutrageous Racing     980   1320    1540\n",
      "24           World Model      The Big Wings    1075   3035    7100\n",
      "25                  ZETA           Z-84 EPO     405    845     300\n",
      "26             Skywalker             falcon     620   1340     650\n",
      "27                Ranger           EX 757-3    1170   1980    1500\n"
     ]
    },
    {
     "data": {
      "text/plain": [
       "<matplotlib.collections.PathCollection at 0x2c59a6636a0>"
      ]
     },
     "execution_count": 3,
     "metadata": {},
     "output_type": "execute_result"
    },
    {
     "data": {
      "image/png": "[encoded data removed]",
      "text/plain": [
       "<Figure size 432x288 with 1 Axes>"
      ]
     },
     "metadata": {
      "needs_background": "light"
     },
     "output_type": "display_data"
    }
   ],
   "source": [
    "print(FixedWing_df)\n",
    "\n",
    "FixedWing_Length  = FixedWing_df['Length'].tolist()\n",
    "FixedWing_Width = FixedWing_df['Width'].tolist()\n",
    "FixedWing_weights  = FixedWing_df['Weight'].tolist()\n",
    "\n",
    "MultiCopter_Length  = MultiCopter_df['Length'].tolist()\n",
    "MultiCopter_Width  = MultiCopter_df['Width'].tolist()\n",
    "MultiCopter_weights  = MultiCopter_df['Weight'].tolist()\n",
    "\n",
    "plt.scatter(FixedWing_Length, FixedWing_weights, color=\"red\")\n",
    "plt.scatter(MultiCopter_Length, MultiCopter_weights, color ='green')\n",
    "\n",
    "#plt.show()"
   ]
  },
  {
   "cell_type": "code",
   "execution_count": 4,
   "id": "6543fa11",
   "metadata": {},
   "outputs": [
    {
     "name": "stdout",
     "output_type": "stream",
     "text": [
      "28 - 30\n"
     ]
    }
   ],
   "source": [
    "print(len(FixedWing_Length), \"-\" , len(MultiCopter_Length))\n",
    "\n",
    "length = FixedWing_Length+MultiCopter_Length\n",
    "width = FixedWing_Width+MultiCopter_Width\n",
    "weight = FixedWing_weights+MultiCopter_weights"
   ]
  },
  {
   "cell_type": "code",
   "execution_count": 5,
   "id": "4dd178a5",
   "metadata": {},
   "outputs": [
    {
     "name": "stdout",
     "output_type": "stream",
     "text": [
      "[420, 1400, 1440, 1200, 1100, 1132, 1000, 1500, 580, 2600, 3200, 1200, 1070, 1270, 1460, 1070, 1637, 1100, 855, 1045, 990, 1030, 1045, 980, 1075, 405, 620, 1170, 322.0, 322.0, 289.5, 143.0, 427.0, 1460.0, 400.0, 1940.0, 1860.0, 365.0, 1974.0, 1590.0, 730.0, 1002.0, 204.0, 305.0, 159.0, 1800.0, 860.0, 1140.0, 1225.0, 350.0, 1000.0, 1100.0, 643.0, 535.0, 330.0, 1000.0, 360.0, 2123.0]\n",
      "[340, 2200, 1800, 2600, 1800, 2540, 1400, 1500, 1150, 1400, 2000, 3000, 1960, 1830, 2750, 2100, 3320, 1718, 1238, 1200, 1310, 1000, 1220, 1320, 3035, 845, 1340, 1980, 242.0, 242.0, 289.5, 143.0, 317.0, 1460.0, 300.0, 1680.0, 1860.0, 365.0, 2665.0, 1370.0, 600.0, 1002.0, 106.0, 305.0, 203.0, 1800.0, 760.0, 1000.0, 880.0, 250.0, 482.6, 1100.0, 643.0, 535.0, 300.0, 1000.0, 268.0, 2123.0]\n",
      "[65, 3200, 3500, 5000, 2000, 1050, 6000, 15000, 750, 10000, 21500, 9000, 4200, 2750, 17000, 5000, 3780, 2750, 830, 1100, 1700, 760, 1250, 1540, 7100, 300, 650, 1500, 905, 907, 1375, 300, 3440, 9700, 147, 14900, 17100, 992, 18320, 18500, 1434, 5500, 790, 945, 249, 13800, 9700, 9400, 15000, 1400, 13100, 13500, 5250, 7600, 1200, 10200, 850, 18800]\n"
     ]
    }
   ],
   "source": [
    "print(length)\n",
    "print(width)\n",
    "print(weight)"
   ]
  },
  {
   "cell_type": "code",
   "execution_count": 6,
   "id": "fb433a04",
   "metadata": {},
   "outputs": [
    {
     "data": {
      "image/png": "[encoded data removed]",
      "text/plain": [
       "<Figure size 432x288 with 1 Axes>"
      ]
     },
     "metadata": {
      "needs_background": "light"
     },
     "output_type": "display_data"
    }
   ],
   "source": [
    "plt.scatter(FixedWing_Length , FixedWing_weights )\n",
    "plt.scatter(MultiCopter_Length , MultiCopter_weights)\n",
    "plt.xlabel('length') ; plt.ylabel('weight'); plt.show()"
   ]
  },
  {
   "cell_type": "markdown",
   "id": "7d31d004",
   "metadata": {},
   "source": [
    "test for 2 data (lenght, weight)"
   ]
  },
  {
   "cell_type": "code",
   "execution_count": 7,
   "id": "6242a17c",
   "metadata": {},
   "outputs": [],
   "source": [
    "drone_data_2 = [[ l, w] for l, w in zip(length, weight)]\n",
    "drone_target_2  = [1]*len(FixedWing_Length) + [0]*len(MultiCopter_Length)"
   ]
  },
  {
   "cell_type": "code",
   "execution_count": 8,
   "id": "ede0f577",
   "metadata": {},
   "outputs": [],
   "source": [
    "from sklearn.neighbors import KNeighborsClassifier"
   ]
  },
  {
   "cell_type": "code",
   "execution_count": 9,
   "id": "f74e0392",
   "metadata": {},
   "outputs": [
    {
     "data": {
      "text/plain": [
       "0.7758620689655172"
      ]
     },
     "execution_count": 9,
     "metadata": {},
     "output_type": "execute_result"
    }
   ],
   "source": [
    "kn = KNeighborsClassifier()\n",
    "kn.fit(drone_data_2, drone_target_2)\n",
    "kn.score(drone_data_2, drone_target_2)"
   ]
  },
  {
   "cell_type": "code",
   "execution_count": 10,
   "id": "ec1a0f4c",
   "metadata": {},
   "outputs": [
    {
     "data": {
      "text/plain": [
       "0.8275862068965517"
      ]
     },
     "execution_count": 10,
     "metadata": {},
     "output_type": "execute_result"
    }
   ],
   "source": [
    "kn9 = KNeighborsClassifier(n_neighbors=3)\n",
    "kn9.fit(drone_data_2, drone_target_2)\n",
    "kn9.score(drone_data_2, drone_target_2)"
   ]
  },
  {
   "cell_type": "code",
   "execution_count": null,
   "id": "71b0da83",
   "metadata": {},
   "outputs": [],
   "source": []
  }
 ],
 "metadata": {
  "kernelspec": {
   "display_name": "Python 3 (ipykernel)",
   "language": "python",
   "name": "python3"
  },
  "language_info": {
   "codemirror_mode": {
    "name": "ipython",
    "version": 3
   },
   "file_extension": ".py",
   "mimetype": "text/x-python",
   "name": "python",
   "nbconvert_exporter": "python",
   "pygments_lexer": "ipython3",
   "version": "3.9.12"
  },
  "vp": {
   "vp_config_version": "1.0.0",
   "vp_menu_width": 273,
   "vp_note_display": false,
   "vp_note_width": 0,
   "vp_position": {
    "width": 278
   },
   "vp_section_display": false,
   "vp_signature": "VisualPython"
  }
 },
 "nbformat": 4,
 "nbformat_minor": 5
}
