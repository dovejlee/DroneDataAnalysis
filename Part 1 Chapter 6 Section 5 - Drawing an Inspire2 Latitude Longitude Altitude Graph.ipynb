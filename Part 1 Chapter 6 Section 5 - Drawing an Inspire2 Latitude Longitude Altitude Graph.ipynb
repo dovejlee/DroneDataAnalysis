{
 "cells": [
  {
   "cell_type": "markdown",
   "metadata": {},
   "source": [
    "Why You Should Visualize Your Data\n",
    "Inspire2 Flight Diagram Drawing"
   ]
  },
  {
   "cell_type": "code",
   "execution_count": 1,
   "metadata": {},
   "outputs": [],
   "source": [
    "import pandas as pd\n",
    "import numpy as np\n",
    "from datetime import datetime\n",
    "from collections import OrderedDict\n",
    "%matplotlib inline\n",
    "import matplotlib.pyplot as plt"
   ]
  },
  {
   "cell_type": "code",
   "execution_count": 2,
   "metadata": {},
   "outputs": [
    {
     "name": "stderr",
     "output_type": "stream",
     "text": [
      "C:\\Users\\dovejlee\\AppData\\Local\\Temp\\ipykernel_24524\\1337845222.py:1: DtypeWarning: Columns (49,50,116,117,118,119,120,121,122,123,124,125,194) have mixed types. Specify dtype option on import or set low_memory=False.\n",
      "  Inspire2_df=pd.read_csv('data/2021_06_26_Inspire2.csv')\n"
     ]
    }
   ],
   "source": [
    "Inspire2_df=pd.read_csv('data/2021_06_26_Inspire2.csv')\n",
    "Inspire2_df = pd.DataFrame.from_dict(OrderedDict(Inspire2_df))"
   ]
  },
  {
   "cell_type": "code",
   "execution_count": 3,
   "metadata": {},
   "outputs": [
    {
     "data": {
      "text/html": [
       "<div>\n",
       "<style scoped>\n",
       "    .dataframe tbody tr th:only-of-type {\n",
       "        vertical-align: middle;\n",
       "    }\n",
       "\n",
       "    .dataframe tbody tr th {\n",
       "        vertical-align: top;\n",
       "    }\n",
       "\n",
       "    .dataframe thead th {\n",
       "        text-align: right;\n",
       "    }\n",
       "</style>\n",
       "<table border=\"1\" class=\"dataframe\">\n",
       "  <thead>\n",
       "    <tr style=\"text-align: right;\">\n",
       "      <th></th>\n",
       "      <th>Clock:Tick#</th>\n",
       "      <th>Clock:offsetTime</th>\n",
       "      <th>IMU_ATTI(0):Longitude[degrees [-180;180]]</th>\n",
       "      <th>IMU_ATTI(0):Latitude[degrees [-180;180]]</th>\n",
       "      <th>IMU_ATTI(0):press:D[meters]</th>\n",
       "      <th>IMU_ATTI(0):alti:D[meters]</th>\n",
       "      <th>IMU_ATTI(0):relativeHeight:C[meters]</th>\n",
       "      <th>IMU_ATTI(0):absoluteHeight:C[meters]</th>\n",
       "      <th>IMU_ATTI(0):numSats</th>\n",
       "      <th>IMU_ATTI(0):roll:C[degrees [-180;180]]</th>\n",
       "      <th>...</th>\n",
       "      <th>BatteryInfo:BatCurrent:D</th>\n",
       "      <th>BatteryInfo:BatCap:D</th>\n",
       "      <th>BatteryInfo:CapPercnt:D</th>\n",
       "      <th>BatteryInfo:BatTemp:D</th>\n",
       "      <th>BatteryInfo:BatAuth:D</th>\n",
       "      <th>BatteryInfo:BatDataCnt:D</th>\n",
       "      <th>BatteryInfo:FullCap:D</th>\n",
       "      <th>Attribute|Value</th>\n",
       "      <th>ConvertDatV3</th>\n",
       "      <th>4.2.1</th>\n",
       "    </tr>\n",
       "  </thead>\n",
       "  <tbody>\n",
       "    <tr>\n",
       "      <th>0</th>\n",
       "      <td>0</td>\n",
       "      <td>-564.212</td>\n",
       "      <td>NaN</td>\n",
       "      <td>NaN</td>\n",
       "      <td>NaN</td>\n",
       "      <td>NaN</td>\n",
       "      <td>NaN</td>\n",
       "      <td>NaN</td>\n",
       "      <td>NaN</td>\n",
       "      <td>NaN</td>\n",
       "      <td>...</td>\n",
       "      <td>NaN</td>\n",
       "      <td>NaN</td>\n",
       "      <td>NaN</td>\n",
       "      <td>NaN</td>\n",
       "      <td>NaN</td>\n",
       "      <td>NaN</td>\n",
       "      <td>NaN</td>\n",
       "      <td>NaN</td>\n",
       "      <td>NaN</td>\n",
       "      <td>NaN</td>\n",
       "    </tr>\n",
       "    <tr>\n",
       "      <th>1</th>\n",
       "      <td>2538953254</td>\n",
       "      <td>0.000</td>\n",
       "      <td>126.433112</td>\n",
       "      <td>36.797143</td>\n",
       "      <td>91.614510</td>\n",
       "      <td>91.718580</td>\n",
       "      <td>NaN</td>\n",
       "      <td>NaN</td>\n",
       "      <td>14.0</td>\n",
       "      <td>0.212404</td>\n",
       "      <td>...</td>\n",
       "      <td>-1558.0</td>\n",
       "      <td>7914.0</td>\n",
       "      <td>93.0</td>\n",
       "      <td>330.0</td>\n",
       "      <td>1.0</td>\n",
       "      <td>536.0</td>\n",
       "      <td>8511.0</td>\n",
       "      <td>Firmware Date| Jan  7 2019</td>\n",
       "      <td>NaN</td>\n",
       "      <td>NaN</td>\n",
       "    </tr>\n",
       "    <tr>\n",
       "      <th>2</th>\n",
       "      <td>2539032582</td>\n",
       "      <td>0.018</td>\n",
       "      <td>126.433112</td>\n",
       "      <td>36.797143</td>\n",
       "      <td>91.614510</td>\n",
       "      <td>91.718580</td>\n",
       "      <td>NaN</td>\n",
       "      <td>NaN</td>\n",
       "      <td>14.0</td>\n",
       "      <td>0.212404</td>\n",
       "      <td>...</td>\n",
       "      <td>-1558.0</td>\n",
       "      <td>7914.0</td>\n",
       "      <td>93.0</td>\n",
       "      <td>330.0</td>\n",
       "      <td>1.0</td>\n",
       "      <td>536.0</td>\n",
       "      <td>8511.0</td>\n",
       "      <td>ACType|I2</td>\n",
       "      <td>NaN</td>\n",
       "      <td>NaN</td>\n",
       "    </tr>\n",
       "    <tr>\n",
       "      <th>3</th>\n",
       "      <td>2539214550</td>\n",
       "      <td>0.058</td>\n",
       "      <td>126.433112</td>\n",
       "      <td>36.797143</td>\n",
       "      <td>91.614510</td>\n",
       "      <td>91.718580</td>\n",
       "      <td>-0.104049</td>\n",
       "      <td>NaN</td>\n",
       "      <td>14.0</td>\n",
       "      <td>0.212404</td>\n",
       "      <td>...</td>\n",
       "      <td>-1558.0</td>\n",
       "      <td>7914.0</td>\n",
       "      <td>93.0</td>\n",
       "      <td>330.0</td>\n",
       "      <td>1.0</td>\n",
       "      <td>536.0</td>\n",
       "      <td>8511.0</td>\n",
       "      <td>dateTime|2021-6-26 9:41:44 GMT</td>\n",
       "      <td>NaN</td>\n",
       "      <td>NaN</td>\n",
       "    </tr>\n",
       "    <tr>\n",
       "      <th>4</th>\n",
       "      <td>2539427804</td>\n",
       "      <td>0.105</td>\n",
       "      <td>126.433112</td>\n",
       "      <td>36.797143</td>\n",
       "      <td>91.816956</td>\n",
       "      <td>91.716820</td>\n",
       "      <td>0.098397</td>\n",
       "      <td>NaN</td>\n",
       "      <td>14.0</td>\n",
       "      <td>0.209370</td>\n",
       "      <td>...</td>\n",
       "      <td>-1558.0</td>\n",
       "      <td>7914.0</td>\n",
       "      <td>93.0</td>\n",
       "      <td>330.0</td>\n",
       "      <td>1.0</td>\n",
       "      <td>536.0</td>\n",
       "      <td>8511.0</td>\n",
       "      <td>NaN</td>\n",
       "      <td>NaN</td>\n",
       "      <td>NaN</td>\n",
       "    </tr>\n",
       "    <tr>\n",
       "      <th>...</th>\n",
       "      <td>...</td>\n",
       "      <td>...</td>\n",
       "      <td>...</td>\n",
       "      <td>...</td>\n",
       "      <td>...</td>\n",
       "      <td>...</td>\n",
       "      <td>...</td>\n",
       "      <td>...</td>\n",
       "      <td>...</td>\n",
       "      <td>...</td>\n",
       "      <td>...</td>\n",
       "      <td>...</td>\n",
       "      <td>...</td>\n",
       "      <td>...</td>\n",
       "      <td>...</td>\n",
       "      <td>...</td>\n",
       "      <td>...</td>\n",
       "      <td>...</td>\n",
       "      <td>...</td>\n",
       "      <td>...</td>\n",
       "      <td>...</td>\n",
       "    </tr>\n",
       "    <tr>\n",
       "      <th>15846</th>\n",
       "      <td>5039740877</td>\n",
       "      <td>555.731</td>\n",
       "      <td>126.433139</td>\n",
       "      <td>36.797209</td>\n",
       "      <td>92.242370</td>\n",
       "      <td>92.579544</td>\n",
       "      <td>0.523812</td>\n",
       "      <td>NaN</td>\n",
       "      <td>15.0</td>\n",
       "      <td>1.649606</td>\n",
       "      <td>...</td>\n",
       "      <td>-20752.0</td>\n",
       "      <td>4723.0</td>\n",
       "      <td>55.0</td>\n",
       "      <td>414.0</td>\n",
       "      <td>1.0</td>\n",
       "      <td>1069.0</td>\n",
       "      <td>8511.0</td>\n",
       "      <td>NaN</td>\n",
       "      <td>NaN</td>\n",
       "      <td>NaN</td>\n",
       "    </tr>\n",
       "    <tr>\n",
       "      <th>15847</th>\n",
       "      <td>5040037704</td>\n",
       "      <td>555.797</td>\n",
       "      <td>126.433139</td>\n",
       "      <td>36.797209</td>\n",
       "      <td>92.900310</td>\n",
       "      <td>92.580800</td>\n",
       "      <td>1.181748</td>\n",
       "      <td>NaN</td>\n",
       "      <td>15.0</td>\n",
       "      <td>1.638676</td>\n",
       "      <td>...</td>\n",
       "      <td>-20752.0</td>\n",
       "      <td>4723.0</td>\n",
       "      <td>55.0</td>\n",
       "      <td>414.0</td>\n",
       "      <td>1.0</td>\n",
       "      <td>1069.0</td>\n",
       "      <td>8511.0</td>\n",
       "      <td>NaN</td>\n",
       "      <td>NaN</td>\n",
       "      <td>NaN</td>\n",
       "    </tr>\n",
       "    <tr>\n",
       "      <th>15848</th>\n",
       "      <td>5040210147</td>\n",
       "      <td>555.835</td>\n",
       "      <td>126.433139</td>\n",
       "      <td>36.797209</td>\n",
       "      <td>92.900310</td>\n",
       "      <td>92.580800</td>\n",
       "      <td>1.181748</td>\n",
       "      <td>NaN</td>\n",
       "      <td>15.0</td>\n",
       "      <td>1.638676</td>\n",
       "      <td>...</td>\n",
       "      <td>-20752.0</td>\n",
       "      <td>4723.0</td>\n",
       "      <td>55.0</td>\n",
       "      <td>414.0</td>\n",
       "      <td>1.0</td>\n",
       "      <td>1069.0</td>\n",
       "      <td>8511.0</td>\n",
       "      <td>NaN</td>\n",
       "      <td>NaN</td>\n",
       "      <td>NaN</td>\n",
       "    </tr>\n",
       "    <tr>\n",
       "      <th>15849</th>\n",
       "      <td>5040452738</td>\n",
       "      <td>555.889</td>\n",
       "      <td>126.433139</td>\n",
       "      <td>36.797209</td>\n",
       "      <td>92.900310</td>\n",
       "      <td>92.580800</td>\n",
       "      <td>1.181748</td>\n",
       "      <td>NaN</td>\n",
       "      <td>15.0</td>\n",
       "      <td>1.638676</td>\n",
       "      <td>...</td>\n",
       "      <td>-20752.0</td>\n",
       "      <td>4723.0</td>\n",
       "      <td>55.0</td>\n",
       "      <td>414.0</td>\n",
       "      <td>1.0</td>\n",
       "      <td>1069.0</td>\n",
       "      <td>8511.0</td>\n",
       "      <td>NaN</td>\n",
       "      <td>NaN</td>\n",
       "      <td>NaN</td>\n",
       "    </tr>\n",
       "    <tr>\n",
       "      <th>15850</th>\n",
       "      <td>5040578445</td>\n",
       "      <td>555.917</td>\n",
       "      <td>126.433139</td>\n",
       "      <td>36.797209</td>\n",
       "      <td>92.628150</td>\n",
       "      <td>92.581850</td>\n",
       "      <td>0.909592</td>\n",
       "      <td>NaN</td>\n",
       "      <td>15.0</td>\n",
       "      <td>1.636966</td>\n",
       "      <td>...</td>\n",
       "      <td>-20752.0</td>\n",
       "      <td>4723.0</td>\n",
       "      <td>55.0</td>\n",
       "      <td>414.0</td>\n",
       "      <td>1.0</td>\n",
       "      <td>1069.0</td>\n",
       "      <td>8511.0</td>\n",
       "      <td>NaN</td>\n",
       "      <td>NaN</td>\n",
       "      <td>NaN</td>\n",
       "    </tr>\n",
       "  </tbody>\n",
       "</table>\n",
       "<p>15851 rows × 197 columns</p>\n",
       "</div>"
      ],
      "text/plain": [
       "       Clock:Tick#  Clock:offsetTime  \\\n",
       "0                0          -564.212   \n",
       "1       2538953254             0.000   \n",
       "2       2539032582             0.018   \n",
       "3       2539214550             0.058   \n",
       "4       2539427804             0.105   \n",
       "...            ...               ...   \n",
       "15846   5039740877           555.731   \n",
       "15847   5040037704           555.797   \n",
       "15848   5040210147           555.835   \n",
       "15849   5040452738           555.889   \n",
       "15850   5040578445           555.917   \n",
       "\n",
       "       IMU_ATTI(0):Longitude[degrees [-180;180]]  \\\n",
       "0                                            NaN   \n",
       "1                                     126.433112   \n",
       "2                                     126.433112   \n",
       "3                                     126.433112   \n",
       "4                                     126.433112   \n",
       "...                                          ...   \n",
       "15846                                 126.433139   \n",
       "15847                                 126.433139   \n",
       "15848                                 126.433139   \n",
       "15849                                 126.433139   \n",
       "15850                                 126.433139   \n",
       "\n",
       "       IMU_ATTI(0):Latitude[degrees [-180;180]]  IMU_ATTI(0):press:D[meters]  \\\n",
       "0                                           NaN                          NaN   \n",
       "1                                     36.797143                    91.614510   \n",
       "2                                     36.797143                    91.614510   \n",
       "3                                     36.797143                    91.614510   \n",
       "4                                     36.797143                    91.816956   \n",
       "...                                         ...                          ...   \n",
       "15846                                 36.797209                    92.242370   \n",
       "15847                                 36.797209                    92.900310   \n",
       "15848                                 36.797209                    92.900310   \n",
       "15849                                 36.797209                    92.900310   \n",
       "15850                                 36.797209                    92.628150   \n",
       "\n",
       "       IMU_ATTI(0):alti:D[meters]  IMU_ATTI(0):relativeHeight:C[meters]  \\\n",
       "0                             NaN                                   NaN   \n",
       "1                       91.718580                                   NaN   \n",
       "2                       91.718580                                   NaN   \n",
       "3                       91.718580                             -0.104049   \n",
       "4                       91.716820                              0.098397   \n",
       "...                           ...                                   ...   \n",
       "15846                   92.579544                              0.523812   \n",
       "15847                   92.580800                              1.181748   \n",
       "15848                   92.580800                              1.181748   \n",
       "15849                   92.580800                              1.181748   \n",
       "15850                   92.581850                              0.909592   \n",
       "\n",
       "       IMU_ATTI(0):absoluteHeight:C[meters]  IMU_ATTI(0):numSats  \\\n",
       "0                                       NaN                  NaN   \n",
       "1                                       NaN                 14.0   \n",
       "2                                       NaN                 14.0   \n",
       "3                                       NaN                 14.0   \n",
       "4                                       NaN                 14.0   \n",
       "...                                     ...                  ...   \n",
       "15846                                   NaN                 15.0   \n",
       "15847                                   NaN                 15.0   \n",
       "15848                                   NaN                 15.0   \n",
       "15849                                   NaN                 15.0   \n",
       "15850                                   NaN                 15.0   \n",
       "\n",
       "       IMU_ATTI(0):roll:C[degrees [-180;180]]  ...  BatteryInfo:BatCurrent:D  \\\n",
       "0                                         NaN  ...                       NaN   \n",
       "1                                    0.212404  ...                   -1558.0   \n",
       "2                                    0.212404  ...                   -1558.0   \n",
       "3                                    0.212404  ...                   -1558.0   \n",
       "4                                    0.209370  ...                   -1558.0   \n",
       "...                                       ...  ...                       ...   \n",
       "15846                                1.649606  ...                  -20752.0   \n",
       "15847                                1.638676  ...                  -20752.0   \n",
       "15848                                1.638676  ...                  -20752.0   \n",
       "15849                                1.638676  ...                  -20752.0   \n",
       "15850                                1.636966  ...                  -20752.0   \n",
       "\n",
       "       BatteryInfo:BatCap:D  BatteryInfo:CapPercnt:D  BatteryInfo:BatTemp:D  \\\n",
       "0                       NaN                      NaN                    NaN   \n",
       "1                    7914.0                     93.0                  330.0   \n",
       "2                    7914.0                     93.0                  330.0   \n",
       "3                    7914.0                     93.0                  330.0   \n",
       "4                    7914.0                     93.0                  330.0   \n",
       "...                     ...                      ...                    ...   \n",
       "15846                4723.0                     55.0                  414.0   \n",
       "15847                4723.0                     55.0                  414.0   \n",
       "15848                4723.0                     55.0                  414.0   \n",
       "15849                4723.0                     55.0                  414.0   \n",
       "15850                4723.0                     55.0                  414.0   \n",
       "\n",
       "       BatteryInfo:BatAuth:D  BatteryInfo:BatDataCnt:D  BatteryInfo:FullCap:D  \\\n",
       "0                        NaN                       NaN                    NaN   \n",
       "1                        1.0                     536.0                 8511.0   \n",
       "2                        1.0                     536.0                 8511.0   \n",
       "3                        1.0                     536.0                 8511.0   \n",
       "4                        1.0                     536.0                 8511.0   \n",
       "...                      ...                       ...                    ...   \n",
       "15846                    1.0                    1069.0                 8511.0   \n",
       "15847                    1.0                    1069.0                 8511.0   \n",
       "15848                    1.0                    1069.0                 8511.0   \n",
       "15849                    1.0                    1069.0                 8511.0   \n",
       "15850                    1.0                    1069.0                 8511.0   \n",
       "\n",
       "                      Attribute|Value  ConvertDatV3  4.2.1  \n",
       "0                                 NaN           NaN    NaN  \n",
       "1          Firmware Date| Jan  7 2019           NaN    NaN  \n",
       "2                           ACType|I2           NaN    NaN  \n",
       "3      dateTime|2021-6-26 9:41:44 GMT           NaN    NaN  \n",
       "4                                 NaN           NaN    NaN  \n",
       "...                               ...           ...    ...  \n",
       "15846                             NaN           NaN    NaN  \n",
       "15847                             NaN           NaN    NaN  \n",
       "15848                             NaN           NaN    NaN  \n",
       "15849                             NaN           NaN    NaN  \n",
       "15850                             NaN           NaN    NaN  \n",
       "\n",
       "[15851 rows x 197 columns]"
      ]
     },
     "execution_count": 3,
     "metadata": {},
     "output_type": "execute_result"
    }
   ],
   "source": [
    "Inspire2_df"
   ]
  },
  {
   "cell_type": "code",
   "execution_count": 4,
   "metadata": {},
   "outputs": [
    {
     "name": "stdout",
     "output_type": "stream",
     "text": [
      "Index(['Clock:Tick#', 'Clock:offsetTime',\n",
      "       'IMU_ATTI(0):Longitude[degrees [-180;180]]',\n",
      "       'IMU_ATTI(0):Latitude[degrees [-180;180]]',\n",
      "       'IMU_ATTI(0):press:D[meters]', 'IMU_ATTI(0):alti:D[meters]',\n",
      "       'IMU_ATTI(0):relativeHeight:C[meters]',\n",
      "       'IMU_ATTI(0):absoluteHeight:C[meters]', 'IMU_ATTI(0):numSats',\n",
      "       'IMU_ATTI(0):roll:C[degrees [-180;180]]',\n",
      "       ...\n",
      "       'BatteryInfo:BatCurrent:D', 'BatteryInfo:BatCap:D',\n",
      "       'BatteryInfo:CapPercnt:D', 'BatteryInfo:BatTemp:D',\n",
      "       'BatteryInfo:BatAuth:D', 'BatteryInfo:BatDataCnt:D',\n",
      "       'BatteryInfo:FullCap:D', 'Attribute|Value', 'ConvertDatV3', '4.2.1'],\n",
      "      dtype='object', length=197)\n"
     ]
    }
   ],
   "source": [
    "print(Inspire2_df.columns)"
   ]
  },
  {
   "cell_type": "code",
   "execution_count": 5,
   "metadata": {},
   "outputs": [],
   "source": [
    "# F 컬럼 \n",
    "Inspire2_df = Inspire2_df.rename(columns={\"IMU_ATTI(0):alti:D[meters]\": \"IMU_ATTI_0:alti:D\", \n",
    "                                  \"GPS:Long[degrees]\": \"GPS:Long\", \n",
    "                                  \"GPS:Lat[degrees]\": \"GPS:Lat\", \n",
    "                                  \"GPS:heightMSL[meters]\" : \"GPS:heightMSL\"})"
   ]
  },
  {
   "cell_type": "code",
   "execution_count": 6,
   "metadata": {},
   "outputs": [
    {
     "name": "stdout",
     "output_type": "stream",
     "text": [
      "Index(['Clock:Tick#', 'Clock:offsetTime',\n",
      "       'IMU_ATTI(0):Longitude[degrees [-180;180]]',\n",
      "       'IMU_ATTI(0):Latitude[degrees [-180;180]]',\n",
      "       'IMU_ATTI(0):press:D[meters]', 'IMU_ATTI_0:alti:D',\n",
      "       'IMU_ATTI(0):relativeHeight:C[meters]',\n",
      "       'IMU_ATTI(0):absoluteHeight:C[meters]', 'IMU_ATTI(0):numSats',\n",
      "       'IMU_ATTI(0):roll:C[degrees [-180;180]]',\n",
      "       ...\n",
      "       'BatteryInfo:BatCurrent:D', 'BatteryInfo:BatCap:D',\n",
      "       'BatteryInfo:CapPercnt:D', 'BatteryInfo:BatTemp:D',\n",
      "       'BatteryInfo:BatAuth:D', 'BatteryInfo:BatDataCnt:D',\n",
      "       'BatteryInfo:FullCap:D', 'Attribute|Value', 'ConvertDatV3', '4.2.1'],\n",
      "      dtype='object', length=197)\n"
     ]
    }
   ],
   "source": [
    "print(Inspire2_df.columns)"
   ]
  },
  {
   "cell_type": "code",
   "execution_count": 7,
   "metadata": {},
   "outputs": [
    {
     "data": {
      "text/plain": [
       "0              NaN\n",
       "1        36.797143\n",
       "2        36.797143\n",
       "3        36.797143\n",
       "4        36.797143\n",
       "           ...    \n",
       "15846    36.797210\n",
       "15847    36.797210\n",
       "15848    36.797210\n",
       "15849    36.797210\n",
       "15850    36.797210\n",
       "Name: GPS:Lat, Length: 15851, dtype: float64"
      ]
     },
     "execution_count": 7,
     "metadata": {},
     "output_type": "execute_result"
    }
   ],
   "source": [
    "Inspire2_df['GPS:Lat']"
   ]
  },
  {
   "cell_type": "code",
   "execution_count": 8,
   "metadata": {},
   "outputs": [],
   "source": [
    "Inspire2_df['GPS:dateTimeStamp']=pd.to_datetime(Inspire2_df['GPS:dateTimeStamp'], format = '%Y-%m-%d')"
   ]
  },
  {
   "cell_type": "code",
   "execution_count": 9,
   "metadata": {},
   "outputs": [
    {
     "data": {
      "text/plain": [
       "datetime64[ns, UTC]"
      ]
     },
     "execution_count": 9,
     "metadata": {},
     "output_type": "execute_result"
    }
   ],
   "source": [
    "Inspire2_df['GPS:dateTimeStamp'].dtypes"
   ]
  },
  {
   "cell_type": "code",
   "execution_count": 10,
   "metadata": {},
   "outputs": [],
   "source": [
    "Time_Ser =Inspire2_df.groupby('GPS:dateTimeStamp', sort = False)['GPS:dateTimeStamp'].min()"
   ]
  },
  {
   "cell_type": "code",
   "execution_count": 11,
   "metadata": {},
   "outputs": [
    {
     "data": {
      "text/plain": [
       "GPS:dateTimeStamp\n",
       "2021-06-26 09:48:15+00:00   2021-06-26 09:48:15+00:00\n",
       "2021-06-26 09:48:16+00:00   2021-06-26 09:48:16+00:00\n",
       "2021-06-26 09:48:17+00:00   2021-06-26 09:48:17+00:00\n",
       "2021-06-26 09:48:18+00:00   2021-06-26 09:48:18+00:00\n",
       "2021-06-26 09:48:19+00:00   2021-06-26 09:48:19+00:00\n",
       "                                       ...           \n",
       "2021-06-26 09:57:04+00:00   2021-06-26 09:57:04+00:00\n",
       "2021-06-26 09:57:05+00:00   2021-06-26 09:57:05+00:00\n",
       "2021-06-26 09:57:06+00:00   2021-06-26 09:57:06+00:00\n",
       "2021-06-26 09:57:07+00:00   2021-06-26 09:57:07+00:00\n",
       "2021-06-26 09:57:08+00:00   2021-06-26 09:57:08+00:00\n",
       "Name: GPS:dateTimeStamp, Length: 534, dtype: datetime64[ns, UTC]"
      ]
     },
     "execution_count": 11,
     "metadata": {},
     "output_type": "execute_result"
    }
   ],
   "source": [
    "Time_Ser"
   ]
  },
  {
   "cell_type": "code",
   "execution_count": 12,
   "metadata": {},
   "outputs": [],
   "source": [
    "lat_Ser =Inspire2_df.groupby('GPS:dateTimeStamp', sort = False)['GPS:Lat'].mean()"
   ]
  },
  {
   "cell_type": "code",
   "execution_count": 13,
   "metadata": {},
   "outputs": [
    {
     "data": {
      "text/plain": [
       "GPS:dateTimeStamp\n",
       "2021-06-26 09:48:15+00:00    36.797143\n",
       "2021-06-26 09:48:16+00:00    36.797144\n",
       "2021-06-26 09:48:17+00:00    36.797145\n",
       "2021-06-26 09:48:18+00:00    36.797145\n",
       "2021-06-26 09:48:19+00:00    36.797145\n",
       "                               ...    \n",
       "2021-06-26 09:57:04+00:00    36.797213\n",
       "2021-06-26 09:57:05+00:00    36.797211\n",
       "2021-06-26 09:57:06+00:00    36.797210\n",
       "2021-06-26 09:57:07+00:00    36.797210\n",
       "2021-06-26 09:57:08+00:00    36.797210\n",
       "Name: GPS:Lat, Length: 534, dtype: float64"
      ]
     },
     "execution_count": 13,
     "metadata": {},
     "output_type": "execute_result"
    }
   ],
   "source": [
    "lat_Ser"
   ]
  },
  {
   "cell_type": "code",
   "execution_count": 14,
   "metadata": {},
   "outputs": [],
   "source": [
    "lon_Ser =Inspire2_df.groupby('GPS:dateTimeStamp', sort = False)['GPS:Long'].mean()"
   ]
  },
  {
   "cell_type": "code",
   "execution_count": 15,
   "metadata": {},
   "outputs": [
    {
     "data": {
      "text/plain": [
       "GPS:dateTimeStamp\n",
       "2021-06-26 09:48:15+00:00    126.433112\n",
       "2021-06-26 09:48:16+00:00    126.433113\n",
       "2021-06-26 09:48:17+00:00    126.433113\n",
       "2021-06-26 09:48:18+00:00    126.433114\n",
       "2021-06-26 09:48:19+00:00    126.433115\n",
       "                                ...    \n",
       "2021-06-26 09:57:04+00:00    126.433139\n",
       "2021-06-26 09:57:05+00:00    126.433139\n",
       "2021-06-26 09:57:06+00:00    126.433139\n",
       "2021-06-26 09:57:07+00:00    126.433139\n",
       "2021-06-26 09:57:08+00:00    126.433139\n",
       "Name: GPS:Long, Length: 534, dtype: float64"
      ]
     },
     "execution_count": 15,
     "metadata": {},
     "output_type": "execute_result"
    }
   ],
   "source": [
    "lon_Ser"
   ]
  },
  {
   "cell_type": "code",
   "execution_count": 16,
   "metadata": {},
   "outputs": [],
   "source": [
    "AltMSL_Ser =Inspire2_df.groupby('GPS:dateTimeStamp', sort = False)['GPS:heightMSL'].mean()"
   ]
  },
  {
   "cell_type": "code",
   "execution_count": 17,
   "metadata": {},
   "outputs": [
    {
     "data": {
      "text/plain": [
       "GPS:dateTimeStamp\n",
       "2021-06-26 09:48:15+00:00    53.802630\n",
       "2021-06-26 09:48:16+00:00    53.802364\n",
       "2021-06-26 09:48:17+00:00    53.757125\n",
       "2021-06-26 09:48:18+00:00    53.718187\n",
       "2021-06-26 09:48:19+00:00    53.657594\n",
       "                               ...    \n",
       "2021-06-26 09:57:04+00:00    53.779160\n",
       "2021-06-26 09:57:05+00:00    53.408615\n",
       "2021-06-26 09:57:06+00:00    53.021103\n",
       "2021-06-26 09:57:07+00:00    52.702000\n",
       "2021-06-26 09:57:08+00:00    52.496625\n",
       "Name: GPS:heightMSL, Length: 534, dtype: float64"
      ]
     },
     "execution_count": 17,
     "metadata": {},
     "output_type": "execute_result"
    }
   ],
   "source": [
    "AltMSL_Ser"
   ]
  },
  {
   "cell_type": "code",
   "execution_count": 18,
   "metadata": {},
   "outputs": [
    {
     "data": {
      "text/plain": [
       "0              NaN\n",
       "1        91.718580\n",
       "2        91.718580\n",
       "3        91.718580\n",
       "4        91.716820\n",
       "           ...    \n",
       "15846    92.579544\n",
       "15847    92.580800\n",
       "15848    92.580800\n",
       "15849    92.580800\n",
       "15850    92.581850\n",
       "Name: IMU_ATTI_0:alti:D, Length: 15851, dtype: float64"
      ]
     },
     "execution_count": 18,
     "metadata": {},
     "output_type": "execute_result"
    }
   ],
   "source": [
    "Inspire2_df['IMU_ATTI_0:alti:D']"
   ]
  },
  {
   "cell_type": "code",
   "execution_count": 19,
   "metadata": {},
   "outputs": [],
   "source": [
    "AltIMU_Ser =Inspire2_df.groupby('GPS:dateTimeStamp', sort = False)['IMU_ATTI_0:alti:D'].mean()"
   ]
  },
  {
   "cell_type": "code",
   "execution_count": 20,
   "metadata": {},
   "outputs": [
    {
     "data": {
      "text/plain": [
       "GPS:dateTimeStamp\n",
       "2021-06-26 09:48:15+00:00    91.718612\n",
       "2021-06-26 09:48:16+00:00    91.711714\n",
       "2021-06-26 09:48:17+00:00    91.711365\n",
       "2021-06-26 09:48:18+00:00    91.719510\n",
       "2021-06-26 09:48:19+00:00    91.738115\n",
       "                               ...    \n",
       "2021-06-26 09:57:04+00:00    93.618765\n",
       "2021-06-26 09:57:05+00:00    93.320001\n",
       "2021-06-26 09:57:06+00:00    92.942743\n",
       "2021-06-26 09:57:07+00:00    92.708912\n",
       "2021-06-26 09:57:08+00:00    92.587833\n",
       "Name: IMU_ATTI_0:alti:D, Length: 534, dtype: float64"
      ]
     },
     "execution_count": 20,
     "metadata": {},
     "output_type": "execute_result"
    }
   ],
   "source": [
    "AltIMU_Ser"
   ]
  },
  {
   "cell_type": "code",
   "execution_count": 21,
   "metadata": {},
   "outputs": [],
   "source": [
    "Inspire2DateSet=list(zip(Time_Ser, lat_Ser, lon_Ser, AltMSL_Ser, AltIMU_Ser))\n",
    "\n",
    "df=pd.DataFrame(data=Inspire2DateSet, columns=['GPS:dateTimeStamp', \n",
    "                                          'GPS:Lat', \n",
    "                                          'GPS:Long', \n",
    "                                          'GPS:heightMSL',\n",
    "                                          'IMU_ATTI_0:alti:D'])"
   ]
  },
  {
   "cell_type": "code",
   "execution_count": 22,
   "metadata": {},
   "outputs": [],
   "source": [
    "df.to_csv('data/2021_06_26_Inspire2_edited.csv')"
   ]
  },
  {
   "cell_type": "code",
   "execution_count": 23,
   "metadata": {},
   "outputs": [
    {
     "name": "stdout",
     "output_type": "stream",
     "text": [
      "0                             NaT\n",
      "1       2021-06-26 09:48:15+00:00\n",
      "2       2021-06-26 09:48:15+00:00\n",
      "3       2021-06-26 09:48:15+00:00\n",
      "4       2021-06-26 09:48:15+00:00\n",
      "                   ...           \n",
      "15846   2021-06-26 09:57:08+00:00\n",
      "15847   2021-06-26 09:57:08+00:00\n",
      "15848   2021-06-26 09:57:08+00:00\n",
      "15849   2021-06-26 09:57:08+00:00\n",
      "15850   2021-06-26 09:57:08+00:00\n",
      "Name: GPS:dateTimeStamp, Length: 15851, dtype: datetime64[ns, UTC]\n"
     ]
    }
   ],
   "source": [
    "print(Inspire2_df['GPS:dateTimeStamp'])"
   ]
  },
  {
   "cell_type": "code",
   "execution_count": 24,
   "metadata": {},
   "outputs": [
    {
     "name": "stdout",
     "output_type": "stream",
     "text": [
      "<class 'pandas.core.series.Series'>\n"
     ]
    }
   ],
   "source": [
    "print(type(Inspire2_df['GPS:dateTimeStamp']))"
   ]
  },
  {
   "cell_type": "markdown",
   "metadata": {},
   "source": [
    "Converting to series and drawing using numpy"
   ]
  },
  {
   "cell_type": "code",
   "execution_count": 25,
   "metadata": {},
   "outputs": [
    {
     "data": {
      "image/png": "[encoded data removed]",
      "text/plain": [
       "<Figure size 432x288 with 1 Axes>"
      ]
     },
     "metadata": {
      "needs_background": "light"
     },
     "output_type": "display_data"
    }
   ],
   "source": [
    "fig = plt.figure() \n",
    "axes = fig.add_subplot(1, 1, 1)\n",
    "axes.set_title('latitude')\n",
    "axes.set_xlabel('Time') \n",
    "axes.set_ylabel('latitude')\n",
    "\n",
    "plt.plot(df['GPS:dateTimeStamp'], df['GPS:Lat'])\n",
    "plt.show()"
   ]
  },
  {
   "cell_type": "code",
   "execution_count": 26,
   "metadata": {},
   "outputs": [
    {
     "data": {
      "image/png": "[encoded data removed]",
      "text/plain": [
       "<Figure size 432x288 with 1 Axes>"
      ]
     },
     "metadata": {
      "needs_background": "light"
     },
     "output_type": "display_data"
    }
   ],
   "source": [
    "fig = plt.figure() \n",
    "axes = fig.add_subplot(1, 1, 1)\n",
    "axes.set_title('longitude')\n",
    "axes.set_xlabel('Time') \n",
    "axes.set_ylabel('longitude')\n",
    "\n",
    "plt.plot(df['GPS:dateTimeStamp'], df['GPS:Long'])\n",
    "plt.show()"
   ]
  },
  {
   "cell_type": "code",
   "execution_count": 27,
   "metadata": {},
   "outputs": [
    {
     "data": {
      "image/png": "[encoded data removed]",
      "text/plain": [
       "<Figure size 432x288 with 1 Axes>"
      ]
     },
     "metadata": {
      "needs_background": "light"
     },
     "output_type": "display_data"
    }
   ],
   "source": [
    "fig = plt.figure() \n",
    "axes = fig.add_subplot(1, 1, 1)\n",
    "axes.set_title('MSL latitude')\n",
    "axes.set_xlabel('Time') \n",
    "axes.set_ylabel('altitude')\n",
    "\n",
    "plt.plot(df['GPS:dateTimeStamp'], df['GPS:heightMSL'])\n",
    "plt.show()"
   ]
  },
  {
   "cell_type": "code",
   "execution_count": 28,
   "metadata": {},
   "outputs": [
    {
     "data": {
      "image/png": "[encoded data removed]",
      "text/plain": [
       "<Figure size 432x288 with 1 Axes>"
      ]
     },
     "metadata": {
      "needs_background": "light"
     },
     "output_type": "display_data"
    }
   ],
   "source": [
    "fig = plt.figure() \n",
    "axes = fig.add_subplot(1, 1, 1)\n",
    "axes.set_title('MSL latitude')\n",
    "axes.set_xlabel('Time') \n",
    "axes.set_ylabel('altitude')\n",
    "\n",
    "plt.plot(df['GPS:dateTimeStamp'], df['IMU_ATTI_0:alti:D'])\n",
    "plt.show()"
   ]
  }
 ],
 "metadata": {
  "kernelspec": {
   "display_name": "Python 3 (ipykernel)",
   "language": "python",
   "name": "python3"
  },
  "language_info": {
   "codemirror_mode": {
    "name": "ipython",
    "version": 3
   },
   "file_extension": ".py",
   "mimetype": "text/x-python",
   "name": "python",
   "nbconvert_exporter": "python",
   "pygments_lexer": "ipython3",
   "version": "3.9.12"
  }
 },
 "nbformat": 4,
 "nbformat_minor": 4
}
