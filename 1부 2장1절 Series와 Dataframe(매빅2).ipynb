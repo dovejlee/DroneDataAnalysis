{
 "cells": [
  {
   "cell_type": "code",
   "execution_count": 1,
   "metadata": {},
   "outputs": [],
   "source": [
    "# 데이타 분석을 위한 판다스 입문 3-1절 참조"
   ]
  },
  {
   "cell_type": "code",
   "execution_count": 2,
   "metadata": {},
   "outputs": [],
   "source": [
    "import pandas as pd"
   ]
  },
  {
   "cell_type": "code",
   "execution_count": 3,
   "metadata": {},
   "outputs": [
    {
     "name": "stdout",
     "output_type": "stream",
     "text": [
      "0         P-GPS\n",
      "1     36.500569\n",
      "2    126.337393\n",
      "dtype: object\n"
     ]
    }
   ],
   "source": [
    "s = pd.Series(['P-GPS', 36.50056862, 126.3373926])\n",
    "print(s)"
   ]
  },
  {
   "cell_type": "code",
   "execution_count": 4,
   "metadata": {},
   "outputs": [
    {
     "data": {
      "text/plain": [
       "'P-GPS'"
      ]
     },
     "execution_count": 4,
     "metadata": {},
     "output_type": "execute_result"
    }
   ],
   "source": [
    "s[0]"
   ]
  },
  {
   "cell_type": "code",
   "execution_count": 5,
   "metadata": {},
   "outputs": [
    {
     "data": {
      "text/plain": [
       "36.50056862"
      ]
     },
     "execution_count": 5,
     "metadata": {},
     "output_type": "execute_result"
    }
   ],
   "source": [
    "s[1]"
   ]
  },
  {
   "cell_type": "code",
   "execution_count": 6,
   "metadata": {},
   "outputs": [
    {
     "data": {
      "text/plain": [
       "126.3373926"
      ]
     },
     "execution_count": 6,
     "metadata": {},
     "output_type": "execute_result"
    }
   ],
   "source": [
    "s[2]"
   ]
  },
  {
   "cell_type": "code",
   "execution_count": 7,
   "metadata": {},
   "outputs": [
    {
     "data": {
      "text/plain": [
       "dtype('O')"
      ]
     },
     "execution_count": 7,
     "metadata": {},
     "output_type": "execute_result"
    }
   ],
   "source": [
    "s.dtypes"
   ]
  },
  {
   "cell_type": "code",
   "execution_count": 8,
   "metadata": {},
   "outputs": [
    {
     "name": "stdout",
     "output_type": "stream",
     "text": [
      "<class 'pandas.core.series.Series'>\n"
     ]
    }
   ],
   "source": [
    "print(type(s))"
   ]
  },
  {
   "cell_type": "code",
   "execution_count": 9,
   "metadata": {},
   "outputs": [
    {
     "name": "stdout",
     "output_type": "stream",
     "text": [
      "FlightMode         P-GPS\n",
      "Latitude       36.500569\n",
      "Longitude     126.337393\n",
      "dtype: object\n"
     ]
    }
   ],
   "source": [
    "s = pd.Series(['P-GPS',36.50056862, 126.3373926],\n",
    "             index = ['FlightMode', 'Latitude', 'Longitude'])\n",
    "print(s)                                           "
   ]
  },
  {
   "cell_type": "code",
   "execution_count": 10,
   "metadata": {},
   "outputs": [
    {
     "data": {
      "text/plain": [
       "FlightMode         P-GPS\n",
       "Latitude       36.500569\n",
       "Longitude     126.337393\n",
       "dtype: object"
      ]
     },
     "execution_count": 10,
     "metadata": {},
     "output_type": "execute_result"
    }
   ],
   "source": [
    "s"
   ]
  },
  {
   "cell_type": "code",
   "execution_count": 11,
   "metadata": {},
   "outputs": [
    {
     "name": "stdout",
     "output_type": "stream",
     "text": [
      "FlightMode         P-GPS\n",
      "Latitude       36.500569\n",
      "Longitude     126.337393\n",
      "dtype: object\n"
     ]
    }
   ],
   "source": [
    "print(s)"
   ]
  },
  {
   "cell_type": "code",
   "execution_count": 12,
   "metadata": {},
   "outputs": [
    {
     "data": {
      "text/plain": [
       "'P-GPS'"
      ]
     },
     "execution_count": 12,
     "metadata": {},
     "output_type": "execute_result"
    }
   ],
   "source": [
    "s['FlightMode']"
   ]
  },
  {
   "cell_type": "code",
   "execution_count": 13,
   "metadata": {},
   "outputs": [
    {
     "data": {
      "text/plain": [
       "36.50056862"
      ]
     },
     "execution_count": 13,
     "metadata": {},
     "output_type": "execute_result"
    }
   ],
   "source": [
    "s['Latitude']"
   ]
  },
  {
   "cell_type": "code",
   "execution_count": 14,
   "metadata": {},
   "outputs": [
    {
     "data": {
      "text/plain": [
       "126.3373926"
      ]
     },
     "execution_count": 14,
     "metadata": {},
     "output_type": "execute_result"
    }
   ],
   "source": [
    "s['Longitude']"
   ]
  },
  {
   "cell_type": "code",
   "execution_count": 15,
   "metadata": {},
   "outputs": [
    {
     "name": "stdout",
     "output_type": "stream",
     "text": [
      "   Time(seconds)  HomeDistance(meters)   Latitude   Longitude      FlightMode  \\\n",
      "0            1.8                   0.1  36.500569  126.337393           P-GPS   \n",
      "1            1.9                   0.1  36.500569  126.337393           P-GPS   \n",
      "2            2.0                   0.1  36.500569  126.337393  Manual Takeoff   \n",
      "3            2.1                   0.1  36.500569  126.337393  Manual Takeoff   \n",
      "\n",
      "   BatteryPower(%)  BatteryVoltage  Pitch  Roll    Yaw  \n",
      "0               97          16.755    0.3   0.8 -142.9  \n",
      "1               97          16.755    0.3   0.8 -142.9  \n",
      "2               97          16.755    0.1   0.8 -142.9  \n",
      "3               97          16.755    0.1   0.8 -142.9  \n"
     ]
    }
   ],
   "source": [
    "FlightInfo= pd.DataFrame({\n",
    "    'Time(seconds)' : [ 1.8, 1.9, 2.0, 2.1],\n",
    "    'HomeDistance(meters)' : [0.1, 0.1, 0.1, 0.1],\n",
    "    'Latitude' : [36.50056862, 36.50056863, 36.50056862, 36.5005686],\n",
    "    'Longitude' : [126.3373926, 126.3373926, 126.3373926,126.3373926],\n",
    "    'FlightMode' : ['P-GPS','P-GPS', 'Manual Takeoff', 'Manual Takeoff'],\n",
    "    'BatteryPower(%)' : [97, 97, 97, 97],\n",
    "    'BatteryVoltage' : [16.755, 16.755, 16.755, 16.755],\n",
    "    'Pitch' : [0.3, 0.3, 0.1, 0.1],\n",
    "    'Roll' : [0.8, 0.8, 0.8, 0.8],\n",
    "    'Yaw' : [-142.9, -142.9, -142.9, -142.9]\n",
    "}\n",
    ")\n",
    "print(FlightInfo)"
   ]
  },
  {
   "cell_type": "code",
   "execution_count": 16,
   "metadata": {},
   "outputs": [
    {
     "name": "stdout",
     "output_type": "stream",
     "text": [
      "   Time(seconds)  HomeDistance(meters)   Latitude   Longitude FlightMode  \\\n",
      "0            1.8                   0.1  36.500569  126.337393      P-GPS   \n",
      "1            1.9                   0.1  36.500569  126.337393      P-GPS   \n",
      "\n",
      "   BatteryPower(%)  BatteryVoltage  Pitch  Roll    Yaw  \n",
      "0               97          16.755    0.3   0.8 -142.9  \n",
      "1               97          16.755    0.3   0.8 -142.9  \n"
     ]
    }
   ],
   "source": [
    "print(FlightInfo.head(n=2))"
   ]
  },
  {
   "cell_type": "code",
   "execution_count": 17,
   "metadata": {},
   "outputs": [
    {
     "name": "stdout",
     "output_type": "stream",
     "text": [
      "   Time(seconds)  HomeDistance(meters)   Latitude   Longitude      FlightMode  \\\n",
      "0            1.8                   0.1  36.500569  126.337393           P-GPS   \n",
      "1            1.9                   0.1  36.500569  126.337393           P-GPS   \n",
      "2            2.0                   0.1  36.500569  126.337393  Manual Takeoff   \n",
      "3            2.1                   0.1  36.500569  126.337393  Manual Takeoff   \n",
      "\n",
      "   BatteryPower(%)  BatteryVoltage  Pitch  Roll    Yaw  \n",
      "0               97          16.755    0.3   0.8 -142.9  \n",
      "1               97          16.755    0.3   0.8 -142.9  \n",
      "2               97          16.755    0.1   0.8 -142.9  \n",
      "3               97          16.755    0.1   0.8 -142.9  \n"
     ]
    }
   ],
   "source": [
    "print(FlightInfo.head())"
   ]
  },
  {
   "cell_type": "code",
   "execution_count": 18,
   "metadata": {},
   "outputs": [
    {
     "name": "stdout",
     "output_type": "stream",
     "text": [
      "   Time(seconds)  HomeDistance(meters)   Latitude   Longitude      FlightMode  \\\n",
      "2            2.0                   0.1  36.500569  126.337393  Manual Takeoff   \n",
      "3            2.1                   0.1  36.500569  126.337393  Manual Takeoff   \n",
      "\n",
      "   BatteryPower(%)  BatteryVoltage  Pitch  Roll    Yaw  \n",
      "2               97          16.755    0.1   0.8 -142.9  \n",
      "3               97          16.755    0.1   0.8 -142.9  \n"
     ]
    }
   ],
   "source": [
    "print(FlightInfo.tail(n=2))"
   ]
  },
  {
   "cell_type": "code",
   "execution_count": 19,
   "metadata": {},
   "outputs": [
    {
     "name": "stdout",
     "output_type": "stream",
     "text": [
      "Time(seconds)           float64\n",
      "HomeDistance(meters)    float64\n",
      "Latitude                float64\n",
      "Longitude               float64\n",
      "FlightMode               object\n",
      "BatteryPower(%)           int64\n",
      "BatteryVoltage          float64\n",
      "Pitch                   float64\n",
      "Roll                    float64\n",
      "Yaw                     float64\n",
      "dtype: object\n"
     ]
    }
   ],
   "source": [
    "print(FlightInfo.dtypes)"
   ]
  },
  {
   "cell_type": "code",
   "execution_count": 20,
   "metadata": {},
   "outputs": [
    {
     "name": "stdout",
     "output_type": "stream",
     "text": [
      "Index(['Time(seconds)', 'HomeDistance(meters)', 'Latitude', 'Longitude',\n",
      "       'FlightMode', 'BatteryPower(%)', 'BatteryVoltage', 'Pitch', 'Roll',\n",
      "       'Yaw'],\n",
      "      dtype='object')\n"
     ]
    }
   ],
   "source": [
    "print(FlightInfo.columns)"
   ]
  },
  {
   "cell_type": "code",
   "execution_count": 21,
   "metadata": {},
   "outputs": [
    {
     "name": "stdout",
     "output_type": "stream",
     "text": [
      "<class 'pandas.core.frame.DataFrame'>\n",
      "RangeIndex: 4 entries, 0 to 3\n",
      "Data columns (total 10 columns):\n",
      " #   Column                Non-Null Count  Dtype  \n",
      "---  ------                --------------  -----  \n",
      " 0   Time(seconds)         4 non-null      float64\n",
      " 1   HomeDistance(meters)  4 non-null      float64\n",
      " 2   Latitude              4 non-null      float64\n",
      " 3   Longitude             4 non-null      float64\n",
      " 4   FlightMode            4 non-null      object \n",
      " 5   BatteryPower(%)       4 non-null      int64  \n",
      " 6   BatteryVoltage        4 non-null      float64\n",
      " 7   Pitch                 4 non-null      float64\n",
      " 8   Roll                  4 non-null      float64\n",
      " 9   Yaw                   4 non-null      float64\n",
      "dtypes: float64(8), int64(1), object(1)\n",
      "memory usage: 448.0+ bytes\n",
      "None\n"
     ]
    }
   ],
   "source": [
    "print(FlightInfo.info())"
   ]
  },
  {
   "cell_type": "code",
   "execution_count": 22,
   "metadata": {},
   "outputs": [
    {
     "name": "stdout",
     "output_type": "stream",
     "text": [
      "(4, 10)\n"
     ]
    }
   ],
   "source": [
    "print(FlightInfo.shape)"
   ]
  },
  {
   "cell_type": "code",
   "execution_count": 23,
   "metadata": {},
   "outputs": [
    {
     "data": {
      "text/plain": [
       "4"
      ]
     },
     "execution_count": 23,
     "metadata": {},
     "output_type": "execute_result"
    }
   ],
   "source": [
    "FlightInfo.shape[0]"
   ]
  },
  {
   "cell_type": "code",
   "execution_count": 24,
   "metadata": {},
   "outputs": [
    {
     "data": {
      "text/plain": [
       "10"
      ]
     },
     "execution_count": 24,
     "metadata": {},
     "output_type": "execute_result"
    }
   ],
   "source": [
    "FlightInfo.shape[1]"
   ]
  },
  {
   "cell_type": "code",
   "execution_count": 25,
   "metadata": {},
   "outputs": [
    {
     "name": "stdout",
     "output_type": "stream",
     "text": [
      "Time(seconds)                  1.8\n",
      "HomeDistance(meters)           0.1\n",
      "Latitude                 36.500569\n",
      "Longitude               126.337393\n",
      "FlightMode                   P-GPS\n",
      "BatteryPower(%)                 97\n",
      "BatteryVoltage              16.755\n",
      "Pitch                          0.3\n",
      "Roll                           0.8\n",
      "Yaw                         -142.9\n",
      "Name: 0, dtype: object\n"
     ]
    }
   ],
   "source": [
    "print(FlightInfo.loc[0])"
   ]
  },
  {
   "cell_type": "code",
   "execution_count": 26,
   "metadata": {},
   "outputs": [
    {
     "name": "stdout",
     "output_type": "stream",
     "text": [
      "Time(seconds)                      2.0\n",
      "HomeDistance(meters)               0.1\n",
      "Latitude                     36.500569\n",
      "Longitude                   126.337393\n",
      "FlightMode              Manual Takeoff\n",
      "BatteryPower(%)                     97\n",
      "BatteryVoltage                  16.755\n",
      "Pitch                              0.1\n",
      "Roll                               0.8\n",
      "Yaw                             -142.9\n",
      "Name: 2, dtype: object\n"
     ]
    }
   ],
   "source": [
    "print(FlightInfo.loc[2])"
   ]
  },
  {
   "cell_type": "code",
   "execution_count": 27,
   "metadata": {},
   "outputs": [
    {
     "name": "stdout",
     "output_type": "stream",
     "text": [
      "   Time(seconds)  HomeDistance(meters)   Latitude   Longitude      FlightMode  \\\n",
      "1            1.9                   0.1  36.500569  126.337393           P-GPS   \n",
      "3            2.1                   0.1  36.500569  126.337393  Manual Takeoff   \n",
      "\n",
      "   BatteryPower(%)  BatteryVoltage  Pitch  Roll    Yaw  \n",
      "1               97          16.755    0.3   0.8 -142.9  \n",
      "3               97          16.755    0.1   0.8 -142.9  \n"
     ]
    }
   ],
   "source": [
    "print(FlightInfo.loc[[1,3]])"
   ]
  },
  {
   "cell_type": "code",
   "execution_count": 28,
   "metadata": {},
   "outputs": [
    {
     "ename": "KeyError",
     "evalue": "4",
     "output_type": "error",
     "traceback": [
      "\u001b[1;31m---------------------------------------------------------------------------\u001b[0m",
      "\u001b[1;31mValueError\u001b[0m                                Traceback (most recent call last)",
      "\u001b[1;32mC:\\ProgramData\\Anaconda3\\lib\\site-packages\\pandas\\core\\indexes\\range.py\u001b[0m in \u001b[0;36mget_loc\u001b[1;34m(self, key, method, tolerance)\u001b[0m\n\u001b[0;32m    384\u001b[0m                 \u001b[1;32mtry\u001b[0m\u001b[1;33m:\u001b[0m\u001b[1;33m\u001b[0m\u001b[1;33m\u001b[0m\u001b[0m\n\u001b[1;32m--> 385\u001b[1;33m                     \u001b[1;32mreturn\u001b[0m \u001b[0mself\u001b[0m\u001b[1;33m.\u001b[0m\u001b[0m_range\u001b[0m\u001b[1;33m.\u001b[0m\u001b[0mindex\u001b[0m\u001b[1;33m(\u001b[0m\u001b[0mnew_key\u001b[0m\u001b[1;33m)\u001b[0m\u001b[1;33m\u001b[0m\u001b[1;33m\u001b[0m\u001b[0m\n\u001b[0m\u001b[0;32m    386\u001b[0m                 \u001b[1;32mexcept\u001b[0m \u001b[0mValueError\u001b[0m \u001b[1;32mas\u001b[0m \u001b[0merr\u001b[0m\u001b[1;33m:\u001b[0m\u001b[1;33m\u001b[0m\u001b[1;33m\u001b[0m\u001b[0m\n",
      "\u001b[1;31mValueError\u001b[0m: 4 is not in range",
      "\nThe above exception was the direct cause of the following exception:\n",
      "\u001b[1;31mKeyError\u001b[0m                                  Traceback (most recent call last)",
      "\u001b[1;32m~\\AppData\\Local\\Temp/ipykernel_13472/1627724494.py\u001b[0m in \u001b[0;36m<module>\u001b[1;34m\u001b[0m\n\u001b[1;32m----> 1\u001b[1;33m \u001b[0mprint\u001b[0m\u001b[1;33m(\u001b[0m\u001b[0mFlightInfo\u001b[0m\u001b[1;33m.\u001b[0m\u001b[0mloc\u001b[0m\u001b[1;33m[\u001b[0m\u001b[1;36m4\u001b[0m\u001b[1;33m]\u001b[0m\u001b[1;33m)\u001b[0m\u001b[1;33m\u001b[0m\u001b[1;33m\u001b[0m\u001b[0m\n\u001b[0m",
      "\u001b[1;32mC:\\ProgramData\\Anaconda3\\lib\\site-packages\\pandas\\core\\indexing.py\u001b[0m in \u001b[0;36m__getitem__\u001b[1;34m(self, key)\u001b[0m\n\u001b[0;32m    929\u001b[0m \u001b[1;33m\u001b[0m\u001b[0m\n\u001b[0;32m    930\u001b[0m             \u001b[0mmaybe_callable\u001b[0m \u001b[1;33m=\u001b[0m \u001b[0mcom\u001b[0m\u001b[1;33m.\u001b[0m\u001b[0mapply_if_callable\u001b[0m\u001b[1;33m(\u001b[0m\u001b[0mkey\u001b[0m\u001b[1;33m,\u001b[0m \u001b[0mself\u001b[0m\u001b[1;33m.\u001b[0m\u001b[0mobj\u001b[0m\u001b[1;33m)\u001b[0m\u001b[1;33m\u001b[0m\u001b[1;33m\u001b[0m\u001b[0m\n\u001b[1;32m--> 931\u001b[1;33m             \u001b[1;32mreturn\u001b[0m \u001b[0mself\u001b[0m\u001b[1;33m.\u001b[0m\u001b[0m_getitem_axis\u001b[0m\u001b[1;33m(\u001b[0m\u001b[0mmaybe_callable\u001b[0m\u001b[1;33m,\u001b[0m \u001b[0maxis\u001b[0m\u001b[1;33m=\u001b[0m\u001b[0maxis\u001b[0m\u001b[1;33m)\u001b[0m\u001b[1;33m\u001b[0m\u001b[1;33m\u001b[0m\u001b[0m\n\u001b[0m\u001b[0;32m    932\u001b[0m \u001b[1;33m\u001b[0m\u001b[0m\n\u001b[0;32m    933\u001b[0m     \u001b[1;32mdef\u001b[0m \u001b[0m_is_scalar_access\u001b[0m\u001b[1;33m(\u001b[0m\u001b[0mself\u001b[0m\u001b[1;33m,\u001b[0m \u001b[0mkey\u001b[0m\u001b[1;33m:\u001b[0m \u001b[0mtuple\u001b[0m\u001b[1;33m)\u001b[0m\u001b[1;33m:\u001b[0m\u001b[1;33m\u001b[0m\u001b[1;33m\u001b[0m\u001b[0m\n",
      "\u001b[1;32mC:\\ProgramData\\Anaconda3\\lib\\site-packages\\pandas\\core\\indexing.py\u001b[0m in \u001b[0;36m_getitem_axis\u001b[1;34m(self, key, axis)\u001b[0m\n\u001b[0;32m   1162\u001b[0m         \u001b[1;31m# fall thru to straight lookup\u001b[0m\u001b[1;33m\u001b[0m\u001b[1;33m\u001b[0m\u001b[0m\n\u001b[0;32m   1163\u001b[0m         \u001b[0mself\u001b[0m\u001b[1;33m.\u001b[0m\u001b[0m_validate_key\u001b[0m\u001b[1;33m(\u001b[0m\u001b[0mkey\u001b[0m\u001b[1;33m,\u001b[0m \u001b[0maxis\u001b[0m\u001b[1;33m)\u001b[0m\u001b[1;33m\u001b[0m\u001b[1;33m\u001b[0m\u001b[0m\n\u001b[1;32m-> 1164\u001b[1;33m         \u001b[1;32mreturn\u001b[0m \u001b[0mself\u001b[0m\u001b[1;33m.\u001b[0m\u001b[0m_get_label\u001b[0m\u001b[1;33m(\u001b[0m\u001b[0mkey\u001b[0m\u001b[1;33m,\u001b[0m \u001b[0maxis\u001b[0m\u001b[1;33m=\u001b[0m\u001b[0maxis\u001b[0m\u001b[1;33m)\u001b[0m\u001b[1;33m\u001b[0m\u001b[1;33m\u001b[0m\u001b[0m\n\u001b[0m\u001b[0;32m   1165\u001b[0m \u001b[1;33m\u001b[0m\u001b[0m\n\u001b[0;32m   1166\u001b[0m     \u001b[1;32mdef\u001b[0m \u001b[0m_get_slice_axis\u001b[0m\u001b[1;33m(\u001b[0m\u001b[0mself\u001b[0m\u001b[1;33m,\u001b[0m \u001b[0mslice_obj\u001b[0m\u001b[1;33m:\u001b[0m \u001b[0mslice\u001b[0m\u001b[1;33m,\u001b[0m \u001b[0maxis\u001b[0m\u001b[1;33m:\u001b[0m \u001b[0mint\u001b[0m\u001b[1;33m)\u001b[0m\u001b[1;33m:\u001b[0m\u001b[1;33m\u001b[0m\u001b[1;33m\u001b[0m\u001b[0m\n",
      "\u001b[1;32mC:\\ProgramData\\Anaconda3\\lib\\site-packages\\pandas\\core\\indexing.py\u001b[0m in \u001b[0;36m_get_label\u001b[1;34m(self, label, axis)\u001b[0m\n\u001b[0;32m   1111\u001b[0m     \u001b[1;32mdef\u001b[0m \u001b[0m_get_label\u001b[0m\u001b[1;33m(\u001b[0m\u001b[0mself\u001b[0m\u001b[1;33m,\u001b[0m \u001b[0mlabel\u001b[0m\u001b[1;33m,\u001b[0m \u001b[0maxis\u001b[0m\u001b[1;33m:\u001b[0m \u001b[0mint\u001b[0m\u001b[1;33m)\u001b[0m\u001b[1;33m:\u001b[0m\u001b[1;33m\u001b[0m\u001b[1;33m\u001b[0m\u001b[0m\n\u001b[0;32m   1112\u001b[0m         \u001b[1;31m# GH#5667 this will fail if the label is not present in the axis.\u001b[0m\u001b[1;33m\u001b[0m\u001b[1;33m\u001b[0m\u001b[0m\n\u001b[1;32m-> 1113\u001b[1;33m         \u001b[1;32mreturn\u001b[0m \u001b[0mself\u001b[0m\u001b[1;33m.\u001b[0m\u001b[0mobj\u001b[0m\u001b[1;33m.\u001b[0m\u001b[0mxs\u001b[0m\u001b[1;33m(\u001b[0m\u001b[0mlabel\u001b[0m\u001b[1;33m,\u001b[0m \u001b[0maxis\u001b[0m\u001b[1;33m=\u001b[0m\u001b[0maxis\u001b[0m\u001b[1;33m)\u001b[0m\u001b[1;33m\u001b[0m\u001b[1;33m\u001b[0m\u001b[0m\n\u001b[0m\u001b[0;32m   1114\u001b[0m \u001b[1;33m\u001b[0m\u001b[0m\n\u001b[0;32m   1115\u001b[0m     \u001b[1;32mdef\u001b[0m \u001b[0m_handle_lowerdim_multi_index_axis0\u001b[0m\u001b[1;33m(\u001b[0m\u001b[0mself\u001b[0m\u001b[1;33m,\u001b[0m \u001b[0mtup\u001b[0m\u001b[1;33m:\u001b[0m \u001b[0mtuple\u001b[0m\u001b[1;33m)\u001b[0m\u001b[1;33m:\u001b[0m\u001b[1;33m\u001b[0m\u001b[1;33m\u001b[0m\u001b[0m\n",
      "\u001b[1;32mC:\\ProgramData\\Anaconda3\\lib\\site-packages\\pandas\\core\\generic.py\u001b[0m in \u001b[0;36mxs\u001b[1;34m(self, key, axis, level, drop_level)\u001b[0m\n\u001b[0;32m   3774\u001b[0m                 \u001b[1;32mraise\u001b[0m \u001b[0mTypeError\u001b[0m\u001b[1;33m(\u001b[0m\u001b[1;34mf\"Expected label or tuple of labels, got {key}\"\u001b[0m\u001b[1;33m)\u001b[0m \u001b[1;32mfrom\u001b[0m \u001b[0me\u001b[0m\u001b[1;33m\u001b[0m\u001b[1;33m\u001b[0m\u001b[0m\n\u001b[0;32m   3775\u001b[0m         \u001b[1;32melse\u001b[0m\u001b[1;33m:\u001b[0m\u001b[1;33m\u001b[0m\u001b[1;33m\u001b[0m\u001b[0m\n\u001b[1;32m-> 3776\u001b[1;33m             \u001b[0mloc\u001b[0m \u001b[1;33m=\u001b[0m \u001b[0mindex\u001b[0m\u001b[1;33m.\u001b[0m\u001b[0mget_loc\u001b[0m\u001b[1;33m(\u001b[0m\u001b[0mkey\u001b[0m\u001b[1;33m)\u001b[0m\u001b[1;33m\u001b[0m\u001b[1;33m\u001b[0m\u001b[0m\n\u001b[0m\u001b[0;32m   3777\u001b[0m \u001b[1;33m\u001b[0m\u001b[0m\n\u001b[0;32m   3778\u001b[0m             \u001b[1;32mif\u001b[0m \u001b[0misinstance\u001b[0m\u001b[1;33m(\u001b[0m\u001b[0mloc\u001b[0m\u001b[1;33m,\u001b[0m \u001b[0mnp\u001b[0m\u001b[1;33m.\u001b[0m\u001b[0mndarray\u001b[0m\u001b[1;33m)\u001b[0m\u001b[1;33m:\u001b[0m\u001b[1;33m\u001b[0m\u001b[1;33m\u001b[0m\u001b[0m\n",
      "\u001b[1;32mC:\\ProgramData\\Anaconda3\\lib\\site-packages\\pandas\\core\\indexes\\range.py\u001b[0m in \u001b[0;36mget_loc\u001b[1;34m(self, key, method, tolerance)\u001b[0m\n\u001b[0;32m    385\u001b[0m                     \u001b[1;32mreturn\u001b[0m \u001b[0mself\u001b[0m\u001b[1;33m.\u001b[0m\u001b[0m_range\u001b[0m\u001b[1;33m.\u001b[0m\u001b[0mindex\u001b[0m\u001b[1;33m(\u001b[0m\u001b[0mnew_key\u001b[0m\u001b[1;33m)\u001b[0m\u001b[1;33m\u001b[0m\u001b[1;33m\u001b[0m\u001b[0m\n\u001b[0;32m    386\u001b[0m                 \u001b[1;32mexcept\u001b[0m \u001b[0mValueError\u001b[0m \u001b[1;32mas\u001b[0m \u001b[0merr\u001b[0m\u001b[1;33m:\u001b[0m\u001b[1;33m\u001b[0m\u001b[1;33m\u001b[0m\u001b[0m\n\u001b[1;32m--> 387\u001b[1;33m                     \u001b[1;32mraise\u001b[0m \u001b[0mKeyError\u001b[0m\u001b[1;33m(\u001b[0m\u001b[0mkey\u001b[0m\u001b[1;33m)\u001b[0m \u001b[1;32mfrom\u001b[0m \u001b[0merr\u001b[0m\u001b[1;33m\u001b[0m\u001b[1;33m\u001b[0m\u001b[0m\n\u001b[0m\u001b[0;32m    388\u001b[0m             \u001b[1;32mraise\u001b[0m \u001b[0mKeyError\u001b[0m\u001b[1;33m(\u001b[0m\u001b[0mkey\u001b[0m\u001b[1;33m)\u001b[0m\u001b[1;33m\u001b[0m\u001b[1;33m\u001b[0m\u001b[0m\n\u001b[0;32m    389\u001b[0m         \u001b[1;32mreturn\u001b[0m \u001b[0msuper\u001b[0m\u001b[1;33m(\u001b[0m\u001b[1;33m)\u001b[0m\u001b[1;33m.\u001b[0m\u001b[0mget_loc\u001b[0m\u001b[1;33m(\u001b[0m\u001b[0mkey\u001b[0m\u001b[1;33m,\u001b[0m \u001b[0mmethod\u001b[0m\u001b[1;33m=\u001b[0m\u001b[0mmethod\u001b[0m\u001b[1;33m,\u001b[0m \u001b[0mtolerance\u001b[0m\u001b[1;33m=\u001b[0m\u001b[0mtolerance\u001b[0m\u001b[1;33m)\u001b[0m\u001b[1;33m\u001b[0m\u001b[1;33m\u001b[0m\u001b[0m\n",
      "\u001b[1;31mKeyError\u001b[0m: 4"
     ]
    }
   ],
   "source": [
    "print(FlightInfo.loc[4])"
   ]
  },
  {
   "cell_type": "code",
   "execution_count": 29,
   "metadata": {},
   "outputs": [
    {
     "name": "stdout",
     "output_type": "stream",
     "text": [
      "Time(seconds)                  1.9\n",
      "HomeDistance(meters)           0.1\n",
      "Latitude                 36.500569\n",
      "Longitude               126.337393\n",
      "FlightMode                   P-GPS\n",
      "BatteryPower(%)                 97\n",
      "BatteryVoltage              16.755\n",
      "Pitch                          0.3\n",
      "Roll                           0.8\n",
      "Yaw                         -142.9\n",
      "Name: 1, dtype: object\n"
     ]
    }
   ],
   "source": [
    "print(FlightInfo.iloc[1])"
   ]
  },
  {
   "cell_type": "code",
   "execution_count": 30,
   "metadata": {},
   "outputs": [
    {
     "name": "stdout",
     "output_type": "stream",
     "text": [
      "   Time(seconds)  HomeDistance(meters)   Latitude   Longitude      FlightMode  \\\n",
      "1            1.9                   0.1  36.500569  126.337393           P-GPS   \n",
      "3            2.1                   0.1  36.500569  126.337393  Manual Takeoff   \n",
      "\n",
      "   BatteryPower(%)  BatteryVoltage  Pitch  Roll    Yaw  \n",
      "1               97          16.755    0.3   0.8 -142.9  \n",
      "3               97          16.755    0.1   0.8 -142.9  \n"
     ]
    }
   ],
   "source": [
    "print(FlightInfo.iloc[[1,3]])"
   ]
  },
  {
   "cell_type": "code",
   "execution_count": 31,
   "metadata": {},
   "outputs": [
    {
     "name": "stdout",
     "output_type": "stream",
     "text": [
      "Time(seconds)                      2.1\n",
      "HomeDistance(meters)               0.1\n",
      "Latitude                     36.500569\n",
      "Longitude                   126.337393\n",
      "FlightMode              Manual Takeoff\n",
      "BatteryPower(%)                     97\n",
      "BatteryVoltage                  16.755\n",
      "Pitch                              0.1\n",
      "Roll                               0.8\n",
      "Yaw                             -142.9\n",
      "Name: 3, dtype: object\n"
     ]
    }
   ],
   "source": [
    "number_of_row = FlightInfo.shape[0]\n",
    "last_row_index = number_of_row - 1\n",
    "print(FlightInfo.loc[last_row_index])"
   ]
  },
  {
   "cell_type": "code",
   "execution_count": 32,
   "metadata": {},
   "outputs": [
    {
     "name": "stdout",
     "output_type": "stream",
     "text": [
      "        Time(seconds)  HomeDistance(meters)   Latitude   Longitude  \\\n",
      "1800ms            1.8                   0.1  36.500569  126.337393   \n",
      "1900ms            1.9                   0.1  36.500569  126.337393   \n",
      "2000ms            2.0                   0.1  36.500569  126.337393   \n",
      "2100ms            2.1                   0.1  36.500569  126.337393   \n",
      "\n",
      "            FlightMode  Pitch  Roll    Yaw  BatteryPower(%)  BatteryVoltage  \n",
      "1800ms           P-GPS    0.3   0.8 -142.9               97          16.755  \n",
      "1900ms           P-GPS    0.3   0.8 -142.9               97          16.755  \n",
      "2000ms  Manual Takeoff    0.1   0.8 -142.9               97          16.755  \n",
      "2100ms  Manual Takeoff    0.1   0.8 -142.9               97          16.755  \n"
     ]
    }
   ],
   "source": [
    "FlightInfo= pd.DataFrame({\n",
    "    'Time(seconds)' : [ 1.8, 1.9, 2.0, 2.1],\n",
    "    'HomeDistance(meters)' : [0.1, 0.1, 0.1, 0.1],\n",
    "    'Latitude' : [36.50056862, 36.50056863, 36.50056862, 36.5005686],\n",
    "    'Longitude' : [126.3373926, 126.3373926, 126.3373926,126.3373926],\n",
    "    'FlightMode' : ['P-GPS','P-GPS', 'Manual Takeoff', 'Manual Takeoff'],\n",
    "    'BatteryPower(%)' : [97, 97, 97, 97],\n",
    "    'BatteryVoltage' : [16.755, 16.755, 16.755, 16.755],\n",
    "    'Pitch' : [0.3, 0.3, 0.1, 0.1],\n",
    "    'Roll' : [0.8, 0.8, 0.8, 0.8],\n",
    "    'Yaw' : [-142.9, -142.9, -142.9, -142.9]\n",
    "    },\n",
    "    index = ['1800ms', '1900ms', '2000ms', '2100ms'],\n",
    "    columns = ['Time(seconds)', 'HomeDistance(meters)', 'Latitude', 'Longitude', \n",
    "               'FlightMode', 'Pitch', 'Roll', 'Yaw', 'BatteryPower(%)', 'BatteryVoltage']\n",
    ")\n",
    "print(FlightInfo)"
   ]
  },
  {
   "cell_type": "code",
   "execution_count": 33,
   "metadata": {},
   "outputs": [],
   "source": [
    "Flight_dist = FlightInfo['HomeDistance(meters)']"
   ]
  },
  {
   "cell_type": "code",
   "execution_count": 34,
   "metadata": {},
   "outputs": [
    {
     "data": {
      "text/plain": [
       "1800ms    0.1\n",
       "1900ms    0.1\n",
       "2000ms    0.1\n",
       "2100ms    0.1\n",
       "Name: HomeDistance(meters), dtype: float64"
      ]
     },
     "execution_count": 34,
     "metadata": {},
     "output_type": "execute_result"
    }
   ],
   "source": [
    "Flight_dist"
   ]
  },
  {
   "cell_type": "code",
   "execution_count": 35,
   "metadata": {},
   "outputs": [],
   "source": [
    "Flight_power = FlightInfo['BatteryPower(%)']"
   ]
  },
  {
   "cell_type": "code",
   "execution_count": 36,
   "metadata": {},
   "outputs": [
    {
     "data": {
      "text/plain": [
       "1800ms    97\n",
       "1900ms    97\n",
       "2000ms    97\n",
       "2100ms    97\n",
       "Name: BatteryPower(%), dtype: int64"
      ]
     },
     "execution_count": 36,
     "metadata": {},
     "output_type": "execute_result"
    }
   ],
   "source": [
    "Flight_power"
   ]
  },
  {
   "cell_type": "code",
   "execution_count": 37,
   "metadata": {},
   "outputs": [],
   "source": [
    "Flight_position= FlightInfo[['Latitude', 'Longitude']]"
   ]
  },
  {
   "cell_type": "code",
   "execution_count": 38,
   "metadata": {},
   "outputs": [
    {
     "data": {
      "text/html": [
       "<div>\n",
       "<style scoped>\n",
       "    .dataframe tbody tr th:only-of-type {\n",
       "        vertical-align: middle;\n",
       "    }\n",
       "\n",
       "    .dataframe tbody tr th {\n",
       "        vertical-align: top;\n",
       "    }\n",
       "\n",
       "    .dataframe thead th {\n",
       "        text-align: right;\n",
       "    }\n",
       "</style>\n",
       "<table border=\"1\" class=\"dataframe\">\n",
       "  <thead>\n",
       "    <tr style=\"text-align: right;\">\n",
       "      <th></th>\n",
       "      <th>Latitude</th>\n",
       "      <th>Longitude</th>\n",
       "    </tr>\n",
       "  </thead>\n",
       "  <tbody>\n",
       "    <tr>\n",
       "      <th>1800ms</th>\n",
       "      <td>36.500569</td>\n",
       "      <td>126.337393</td>\n",
       "    </tr>\n",
       "    <tr>\n",
       "      <th>1900ms</th>\n",
       "      <td>36.500569</td>\n",
       "      <td>126.337393</td>\n",
       "    </tr>\n",
       "    <tr>\n",
       "      <th>2000ms</th>\n",
       "      <td>36.500569</td>\n",
       "      <td>126.337393</td>\n",
       "    </tr>\n",
       "    <tr>\n",
       "      <th>2100ms</th>\n",
       "      <td>36.500569</td>\n",
       "      <td>126.337393</td>\n",
       "    </tr>\n",
       "  </tbody>\n",
       "</table>\n",
       "</div>"
      ],
      "text/plain": [
       "         Latitude   Longitude\n",
       "1800ms  36.500569  126.337393\n",
       "1900ms  36.500569  126.337393\n",
       "2000ms  36.500569  126.337393\n",
       "2100ms  36.500569  126.337393"
      ]
     },
     "execution_count": 38,
     "metadata": {},
     "output_type": "execute_result"
    }
   ],
   "source": [
    "Flight_position"
   ]
  },
  {
   "cell_type": "code",
   "execution_count": 39,
   "metadata": {},
   "outputs": [
    {
     "name": "stdout",
     "output_type": "stream",
     "text": [
      "     Name  Time(seconds)  HomeDistance(meters)   Latitude   Longitude  \\\n",
      "0  1800ms            1.8                   0.1  36.500569  126.337393   \n",
      "1  1900ms            1.9                   0.1  36.500569  126.337393   \n",
      "2  2000ms            2.0                   0.1  36.500569  126.337393   \n",
      "3  2100ms            2.1                   0.1  36.500569  126.337393   \n",
      "\n",
      "       FlightMode  BatteryPower(%)  BatteryVoltage  Pitch  Roll    Yaw  \n",
      "0           P-GPS               97          16.755    0.3   0.8 -142.9  \n",
      "1           P-GPS               97          16.755    0.3   0.8 -142.9  \n",
      "2  Manual Takeoff               97          16.755    0.1   0.8 -142.9  \n",
      "3  Manual Takeoff               97          16.755    0.1   0.8 -142.9  \n"
     ]
    }
   ],
   "source": [
    "from collections import OrderedDict\n",
    "\n",
    "FlightInfo= pd.DataFrame(OrderedDict([\n",
    "    ('Name' , ['1800ms', '1900ms', '2000ms', '2100ms']),\n",
    "    ('Time(seconds)' , [ 1.8, 1.9, 2.0, 2.1]),\n",
    "    ('HomeDistance(meters)' , [0.1, 0.1, 0.1, 0.1]),\n",
    "    ('Latitude' , [36.50056862, 36.50056863, 36.50056862, 36.5005686]),\n",
    "    ('Longitude' , [126.3373926, 126.3373926, 126.3373926,126.3373926]),\n",
    "    ('FlightMode' , ['P-GPS','P-GPS', 'Manual Takeoff', 'Manual Takeoff']),\n",
    "    ('BatteryPower(%)' , [97, 97, 97, 97]),\n",
    "    ('BatteryVoltage' , [16.755, 16.755, 16.755, 16.755]),\n",
    "    ('Pitch' , [0.3, 0.3, 0.1, 0.1]),\n",
    "    ('Roll' , [0.8, 0.8, 0.8, 0.8]),\n",
    "    ('Yaw' , [-142.9, -142.9, -142.9, -142.9])\n",
    "])\n",
    ")\n",
    "print(FlightInfo)"
   ]
  },
  {
   "cell_type": "code",
   "execution_count": 40,
   "metadata": {},
   "outputs": [
    {
     "data": {
      "text/html": [
       "<div>\n",
       "<style scoped>\n",
       "    .dataframe tbody tr th:only-of-type {\n",
       "        vertical-align: middle;\n",
       "    }\n",
       "\n",
       "    .dataframe tbody tr th {\n",
       "        vertical-align: top;\n",
       "    }\n",
       "\n",
       "    .dataframe thead th {\n",
       "        text-align: right;\n",
       "    }\n",
       "</style>\n",
       "<table border=\"1\" class=\"dataframe\">\n",
       "  <thead>\n",
       "    <tr style=\"text-align: right;\">\n",
       "      <th></th>\n",
       "      <th>Name</th>\n",
       "      <th>Time(seconds)</th>\n",
       "      <th>HomeDistance(meters)</th>\n",
       "      <th>Latitude</th>\n",
       "      <th>Longitude</th>\n",
       "      <th>FlightMode</th>\n",
       "      <th>BatteryPower(%)</th>\n",
       "      <th>BatteryVoltage</th>\n",
       "      <th>Pitch</th>\n",
       "      <th>Roll</th>\n",
       "      <th>Yaw</th>\n",
       "    </tr>\n",
       "  </thead>\n",
       "  <tbody>\n",
       "    <tr>\n",
       "      <th>0</th>\n",
       "      <td>1800ms</td>\n",
       "      <td>1.8</td>\n",
       "      <td>0.1</td>\n",
       "      <td>36.500569</td>\n",
       "      <td>126.337393</td>\n",
       "      <td>P-GPS</td>\n",
       "      <td>97</td>\n",
       "      <td>16.755</td>\n",
       "      <td>0.3</td>\n",
       "      <td>0.8</td>\n",
       "      <td>-142.9</td>\n",
       "    </tr>\n",
       "    <tr>\n",
       "      <th>1</th>\n",
       "      <td>1900ms</td>\n",
       "      <td>1.9</td>\n",
       "      <td>0.1</td>\n",
       "      <td>36.500569</td>\n",
       "      <td>126.337393</td>\n",
       "      <td>P-GPS</td>\n",
       "      <td>97</td>\n",
       "      <td>16.755</td>\n",
       "      <td>0.3</td>\n",
       "      <td>0.8</td>\n",
       "      <td>-142.9</td>\n",
       "    </tr>\n",
       "    <tr>\n",
       "      <th>2</th>\n",
       "      <td>2000ms</td>\n",
       "      <td>2.0</td>\n",
       "      <td>0.1</td>\n",
       "      <td>36.500569</td>\n",
       "      <td>126.337393</td>\n",
       "      <td>Manual Takeoff</td>\n",
       "      <td>97</td>\n",
       "      <td>16.755</td>\n",
       "      <td>0.1</td>\n",
       "      <td>0.8</td>\n",
       "      <td>-142.9</td>\n",
       "    </tr>\n",
       "    <tr>\n",
       "      <th>3</th>\n",
       "      <td>2100ms</td>\n",
       "      <td>2.1</td>\n",
       "      <td>0.1</td>\n",
       "      <td>36.500569</td>\n",
       "      <td>126.337393</td>\n",
       "      <td>Manual Takeoff</td>\n",
       "      <td>97</td>\n",
       "      <td>16.755</td>\n",
       "      <td>0.1</td>\n",
       "      <td>0.8</td>\n",
       "      <td>-142.9</td>\n",
       "    </tr>\n",
       "  </tbody>\n",
       "</table>\n",
       "</div>"
      ],
      "text/plain": [
       "     Name  Time(seconds)  HomeDistance(meters)   Latitude   Longitude  \\\n",
       "0  1800ms            1.8                   0.1  36.500569  126.337393   \n",
       "1  1900ms            1.9                   0.1  36.500569  126.337393   \n",
       "2  2000ms            2.0                   0.1  36.500569  126.337393   \n",
       "3  2100ms            2.1                   0.1  36.500569  126.337393   \n",
       "\n",
       "       FlightMode  BatteryPower(%)  BatteryVoltage  Pitch  Roll    Yaw  \n",
       "0           P-GPS               97          16.755    0.3   0.8 -142.9  \n",
       "1           P-GPS               97          16.755    0.3   0.8 -142.9  \n",
       "2  Manual Takeoff               97          16.755    0.1   0.8 -142.9  \n",
       "3  Manual Takeoff               97          16.755    0.1   0.8 -142.9  "
      ]
     },
     "execution_count": 40,
     "metadata": {},
     "output_type": "execute_result"
    }
   ],
   "source": [
    "FlightInfo"
   ]
  }
 ],
 "metadata": {
  "kernelspec": {
   "display_name": "Python 3 (ipykernel)",
   "language": "python",
   "name": "python3"
  },
  "language_info": {
   "codemirror_mode": {
    "name": "ipython",
    "version": 3
   },
   "file_extension": ".py",
   "mimetype": "text/x-python",
   "name": "python",
   "nbconvert_exporter": "python",
   "pygments_lexer": "ipython3",
   "version": "3.9.7"
  }
 },
 "nbformat": 4,
 "nbformat_minor": 4
}
