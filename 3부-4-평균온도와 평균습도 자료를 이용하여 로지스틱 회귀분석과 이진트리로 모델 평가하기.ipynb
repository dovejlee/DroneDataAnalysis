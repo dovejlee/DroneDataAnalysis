{
 "cells": [
  {
   "cell_type": "markdown",
   "metadata": {
    "id": "gOichfuow4EA"
   },
   "source": [
    "평균온도와 평균습도 자료를 이용하여 로지스틱 회귀분석과 이진트리로 모델 평가하기</br>\n",
    "some data on weather conditions in 2013 at Toulouse airport </br>\n",
    "related URL : https://risk-engineering.org/notebook/data-analysis-weather.html </br>\n",
    "You can download at https://risk-engineering.org/static/data/TLS-weather-data-2013.csv"
   ]
  },
  {
   "cell_type": "code",
   "execution_count": 1,
   "metadata": {},
   "outputs": [],
   "source": [
    "import numpy as np\n",
    "import scipy.stats\n",
    "import pandas as pd\n",
    "import matplotlib.pyplot as plt"
   ]
  },
  {
   "cell_type": "code",
   "execution_count": 2,
   "metadata": {
    "colab": {
     "base_uri": "https://localhost:8080/",
     "height": 476
    },
    "id": "UJRulvUMw_nS",
    "outputId": "6cdc6edf-8d7e-4273-a600-4616410f5189"
   },
   "outputs": [],
   "source": [
    "Weather_df= pd.read_csv(\"TLS-weather-data-2013.csv\")"
   ]
  },
  {
   "cell_type": "code",
   "execution_count": 3,
   "metadata": {},
   "outputs": [
    {
     "data": {
      "text/html": [
       "<div>\n",
       "<style scoped>\n",
       "    .dataframe tbody tr th:only-of-type {\n",
       "        vertical-align: middle;\n",
       "    }\n",
       "\n",
       "    .dataframe tbody tr th {\n",
       "        vertical-align: top;\n",
       "    }\n",
       "\n",
       "    .dataframe thead th {\n",
       "        text-align: right;\n",
       "    }\n",
       "</style>\n",
       "<table border=\"1\" class=\"dataframe\">\n",
       "  <thead>\n",
       "    <tr style=\"text-align: right;\">\n",
       "      <th></th>\n",
       "      <th>CET</th>\n",
       "      <th>Max TemperatureC</th>\n",
       "      <th>Mean TemperatureC</th>\n",
       "      <th>Min TemperatureC</th>\n",
       "      <th>Dew PointC</th>\n",
       "      <th>MeanDew PointC</th>\n",
       "      <th>Min DewpointC</th>\n",
       "      <th>Max Humidity</th>\n",
       "      <th>Mean Humidity</th>\n",
       "      <th>Min Humidity</th>\n",
       "      <th>...</th>\n",
       "      <th>Max VisibilityKm</th>\n",
       "      <th>Mean VisibilityKm</th>\n",
       "      <th>Min VisibilitykM</th>\n",
       "      <th>Max Wind SpeedKm/h</th>\n",
       "      <th>Mean Wind SpeedKm/h</th>\n",
       "      <th>Max Gust SpeedKm/h</th>\n",
       "      <th>Precipitationmm</th>\n",
       "      <th>CloudCover</th>\n",
       "      <th>Events</th>\n",
       "      <th>WindDirDegrees</th>\n",
       "    </tr>\n",
       "  </thead>\n",
       "  <tbody>\n",
       "    <tr>\n",
       "      <th>0</th>\n",
       "      <td>2013-01-01</td>\n",
       "      <td>12</td>\n",
       "      <td>9</td>\n",
       "      <td>6</td>\n",
       "      <td>8</td>\n",
       "      <td>7</td>\n",
       "      <td>5</td>\n",
       "      <td>93</td>\n",
       "      <td>86</td>\n",
       "      <td>76</td>\n",
       "      <td>...</td>\n",
       "      <td>31</td>\n",
       "      <td>10</td>\n",
       "      <td>5</td>\n",
       "      <td>26</td>\n",
       "      <td>14</td>\n",
       "      <td>NaN</td>\n",
       "      <td>5.08</td>\n",
       "      <td>7.0</td>\n",
       "      <td>Rain</td>\n",
       "      <td>234</td>\n",
       "    </tr>\n",
       "    <tr>\n",
       "      <th>1</th>\n",
       "      <td>2013-01-02</td>\n",
       "      <td>9</td>\n",
       "      <td>7</td>\n",
       "      <td>4</td>\n",
       "      <td>6</td>\n",
       "      <td>4</td>\n",
       "      <td>2</td>\n",
       "      <td>93</td>\n",
       "      <td>86</td>\n",
       "      <td>71</td>\n",
       "      <td>...</td>\n",
       "      <td>31</td>\n",
       "      <td>11</td>\n",
       "      <td>10</td>\n",
       "      <td>23</td>\n",
       "      <td>16</td>\n",
       "      <td>NaN</td>\n",
       "      <td>0.00</td>\n",
       "      <td>5.0</td>\n",
       "      <td>NaN</td>\n",
       "      <td>298</td>\n",
       "    </tr>\n",
       "    <tr>\n",
       "      <th>2</th>\n",
       "      <td>2013-01-03</td>\n",
       "      <td>8</td>\n",
       "      <td>4</td>\n",
       "      <td>0</td>\n",
       "      <td>4</td>\n",
       "      <td>2</td>\n",
       "      <td>-1</td>\n",
       "      <td>100</td>\n",
       "      <td>87</td>\n",
       "      <td>69</td>\n",
       "      <td>...</td>\n",
       "      <td>19</td>\n",
       "      <td>10</td>\n",
       "      <td>10</td>\n",
       "      <td>13</td>\n",
       "      <td>5</td>\n",
       "      <td>NaN</td>\n",
       "      <td>0.00</td>\n",
       "      <td>5.0</td>\n",
       "      <td>NaN</td>\n",
       "      <td>118</td>\n",
       "    </tr>\n",
       "    <tr>\n",
       "      <th>3</th>\n",
       "      <td>2013-01-04</td>\n",
       "      <td>7</td>\n",
       "      <td>6</td>\n",
       "      <td>5</td>\n",
       "      <td>7</td>\n",
       "      <td>6</td>\n",
       "      <td>4</td>\n",
       "      <td>100</td>\n",
       "      <td>94</td>\n",
       "      <td>83</td>\n",
       "      <td>...</td>\n",
       "      <td>10</td>\n",
       "      <td>6</td>\n",
       "      <td>1</td>\n",
       "      <td>10</td>\n",
       "      <td>5</td>\n",
       "      <td>NaN</td>\n",
       "      <td>0.00</td>\n",
       "      <td>8.0</td>\n",
       "      <td>Fog</td>\n",
       "      <td>292</td>\n",
       "    </tr>\n",
       "    <tr>\n",
       "      <th>4</th>\n",
       "      <td>2013-01-05</td>\n",
       "      <td>7</td>\n",
       "      <td>6</td>\n",
       "      <td>5</td>\n",
       "      <td>6</td>\n",
       "      <td>6</td>\n",
       "      <td>4</td>\n",
       "      <td>100</td>\n",
       "      <td>94</td>\n",
       "      <td>90</td>\n",
       "      <td>...</td>\n",
       "      <td>11</td>\n",
       "      <td>9</td>\n",
       "      <td>2</td>\n",
       "      <td>16</td>\n",
       "      <td>8</td>\n",
       "      <td>NaN</td>\n",
       "      <td>0.00</td>\n",
       "      <td>8.0</td>\n",
       "      <td>NaN</td>\n",
       "      <td>306</td>\n",
       "    </tr>\n",
       "  </tbody>\n",
       "</table>\n",
       "<p>5 rows × 23 columns</p>\n",
       "</div>"
      ],
      "text/plain": [
       "          CET  Max TemperatureC  Mean TemperatureC  Min TemperatureC  \\\n",
       "0  2013-01-01                12                  9                 6   \n",
       "1  2013-01-02                 9                  7                 4   \n",
       "2  2013-01-03                 8                  4                 0   \n",
       "3  2013-01-04                 7                  6                 5   \n",
       "4  2013-01-05                 7                  6                 5   \n",
       "\n",
       "   Dew PointC  MeanDew PointC  Min DewpointC  Max Humidity  Mean Humidity  \\\n",
       "0           8               7              5            93             86   \n",
       "1           6               4              2            93             86   \n",
       "2           4               2             -1           100             87   \n",
       "3           7               6              4           100             94   \n",
       "4           6               6              4           100             94   \n",
       "\n",
       "   Min Humidity  ...  Max VisibilityKm  Mean VisibilityKm  Min VisibilitykM  \\\n",
       "0            76  ...                31                 10                 5   \n",
       "1            71  ...                31                 11                10   \n",
       "2            69  ...                19                 10                10   \n",
       "3            83  ...                10                  6                 1   \n",
       "4            90  ...                11                  9                 2   \n",
       "\n",
       "   Max Wind SpeedKm/h  Mean Wind SpeedKm/h  Max Gust SpeedKm/h  \\\n",
       "0                  26                   14                 NaN   \n",
       "1                  23                   16                 NaN   \n",
       "2                  13                    5                 NaN   \n",
       "3                  10                    5                 NaN   \n",
       "4                  16                    8                 NaN   \n",
       "\n",
       "   Precipitationmm  CloudCover  Events  WindDirDegrees  \n",
       "0             5.08         7.0    Rain             234  \n",
       "1             0.00         5.0     NaN             298  \n",
       "2             0.00         5.0     NaN             118  \n",
       "3             0.00         8.0     Fog             292  \n",
       "4             0.00         8.0     NaN             306  \n",
       "\n",
       "[5 rows x 23 columns]"
      ]
     },
     "execution_count": 3,
     "metadata": {},
     "output_type": "execute_result"
    }
   ],
   "source": [
    "Weather_df.head()"
   ]
  },
  {
   "cell_type": "code",
   "execution_count": 4,
   "metadata": {
    "colab": {
     "base_uri": "https://localhost:8080/"
    },
    "id": "tz1S83oXxE9b",
    "outputId": "2e27ae50-85fd-4cb5-d663-fd2788c9ffe1"
   },
   "outputs": [
    {
     "name": "stdout",
     "output_type": "stream",
     "text": [
      "<class 'pandas.core.frame.DataFrame'>\n",
      "RangeIndex: 365 entries, 0 to 364\n",
      "Data columns (total 23 columns):\n",
      " #   Column                      Non-Null Count  Dtype  \n",
      "---  ------                      --------------  -----  \n",
      " 0   CET                         365 non-null    object \n",
      " 1   Max TemperatureC            365 non-null    int64  \n",
      " 2   Mean TemperatureC           365 non-null    int64  \n",
      " 3   Min TemperatureC            365 non-null    int64  \n",
      " 4   Dew PointC                  365 non-null    int64  \n",
      " 5   MeanDew PointC              365 non-null    int64  \n",
      " 6   Min DewpointC               365 non-null    int64  \n",
      " 7   Max Humidity                365 non-null    int64  \n",
      " 8   Mean Humidity               365 non-null    int64  \n",
      " 9   Min Humidity                365 non-null    int64  \n",
      " 10  Max Sea Level PressurehPa   365 non-null    int64  \n",
      " 11  Mean Sea Level PressurehPa  365 non-null    int64  \n",
      " 12  Min Sea Level PressurehPa   365 non-null    int64  \n",
      " 13  Max VisibilityKm            365 non-null    int64  \n",
      " 14  Mean VisibilityKm           365 non-null    int64  \n",
      " 15  Min VisibilitykM            365 non-null    int64  \n",
      " 16  Max Wind SpeedKm/h          365 non-null    int64  \n",
      " 17  Mean Wind SpeedKm/h         365 non-null    int64  \n",
      " 18  Max Gust SpeedKm/h          61 non-null     float64\n",
      " 19  Precipitationmm             365 non-null    float64\n",
      " 20  CloudCover                  358 non-null    float64\n",
      " 21  Events                      204 non-null    object \n",
      " 22  WindDirDegrees              365 non-null    int64  \n",
      "dtypes: float64(3), int64(18), object(2)\n",
      "memory usage: 65.7+ KB\n"
     ]
    }
   ],
   "source": [
    "Weather_df.info()"
   ]
  },
  {
   "cell_type": "code",
   "execution_count": 5,
   "metadata": {},
   "outputs": [],
   "source": [
    "#Weather_df[\"CET\"] = pd.to_datetime(Weather_df[\"CET\"])"
   ]
  },
  {
   "cell_type": "code",
   "execution_count": 6,
   "metadata": {},
   "outputs": [
    {
     "name": "stdout",
     "output_type": "stream",
     "text": [
      "<class 'pandas.core.frame.DataFrame'>\n",
      "RangeIndex: 365 entries, 0 to 364\n",
      "Data columns (total 23 columns):\n",
      " #   Column                      Non-Null Count  Dtype  \n",
      "---  ------                      --------------  -----  \n",
      " 0   CET                         365 non-null    object \n",
      " 1   Max TemperatureC            365 non-null    int64  \n",
      " 2   Mean TemperatureC           365 non-null    int64  \n",
      " 3   Min TemperatureC            365 non-null    int64  \n",
      " 4   Dew PointC                  365 non-null    int64  \n",
      " 5   MeanDew PointC              365 non-null    int64  \n",
      " 6   Min DewpointC               365 non-null    int64  \n",
      " 7   Max Humidity                365 non-null    int64  \n",
      " 8   Mean Humidity               365 non-null    int64  \n",
      " 9   Min Humidity                365 non-null    int64  \n",
      " 10  Max Sea Level PressurehPa   365 non-null    int64  \n",
      " 11  Mean Sea Level PressurehPa  365 non-null    int64  \n",
      " 12  Min Sea Level PressurehPa   365 non-null    int64  \n",
      " 13  Max VisibilityKm            365 non-null    int64  \n",
      " 14  Mean VisibilityKm           365 non-null    int64  \n",
      " 15  Min VisibilitykM            365 non-null    int64  \n",
      " 16  Max Wind SpeedKm/h          365 non-null    int64  \n",
      " 17  Mean Wind SpeedKm/h         365 non-null    int64  \n",
      " 18  Max Gust SpeedKm/h          61 non-null     float64\n",
      " 19  Precipitationmm             365 non-null    float64\n",
      " 20  CloudCover                  358 non-null    float64\n",
      " 21  Events                      204 non-null    object \n",
      " 22  WindDirDegrees              365 non-null    int64  \n",
      "dtypes: float64(3), int64(18), object(2)\n",
      "memory usage: 65.7+ KB\n"
     ]
    }
   ],
   "source": [
    "Weather_df.info()"
   ]
  },
  {
   "cell_type": "code",
   "execution_count": 7,
   "metadata": {},
   "outputs": [],
   "source": [
    "#Weather_df=Weather_df.set_index(keys =\"CET\", inplace=False, drop = True)"
   ]
  },
  {
   "cell_type": "code",
   "execution_count": 8,
   "metadata": {},
   "outputs": [
    {
     "data": {
      "text/html": [
       "<div>\n",
       "<style scoped>\n",
       "    .dataframe tbody tr th:only-of-type {\n",
       "        vertical-align: middle;\n",
       "    }\n",
       "\n",
       "    .dataframe tbody tr th {\n",
       "        vertical-align: top;\n",
       "    }\n",
       "\n",
       "    .dataframe thead th {\n",
       "        text-align: right;\n",
       "    }\n",
       "</style>\n",
       "<table border=\"1\" class=\"dataframe\">\n",
       "  <thead>\n",
       "    <tr style=\"text-align: right;\">\n",
       "      <th></th>\n",
       "      <th>CET</th>\n",
       "      <th>Max TemperatureC</th>\n",
       "      <th>Mean TemperatureC</th>\n",
       "      <th>Min TemperatureC</th>\n",
       "      <th>Dew PointC</th>\n",
       "      <th>MeanDew PointC</th>\n",
       "      <th>Min DewpointC</th>\n",
       "      <th>Max Humidity</th>\n",
       "      <th>Mean Humidity</th>\n",
       "      <th>Min Humidity</th>\n",
       "      <th>...</th>\n",
       "      <th>Max VisibilityKm</th>\n",
       "      <th>Mean VisibilityKm</th>\n",
       "      <th>Min VisibilitykM</th>\n",
       "      <th>Max Wind SpeedKm/h</th>\n",
       "      <th>Mean Wind SpeedKm/h</th>\n",
       "      <th>Max Gust SpeedKm/h</th>\n",
       "      <th>Precipitationmm</th>\n",
       "      <th>CloudCover</th>\n",
       "      <th>Events</th>\n",
       "      <th>WindDirDegrees</th>\n",
       "    </tr>\n",
       "  </thead>\n",
       "  <tbody>\n",
       "    <tr>\n",
       "      <th>0</th>\n",
       "      <td>2013-01-01</td>\n",
       "      <td>12</td>\n",
       "      <td>9</td>\n",
       "      <td>6</td>\n",
       "      <td>8</td>\n",
       "      <td>7</td>\n",
       "      <td>5</td>\n",
       "      <td>93</td>\n",
       "      <td>86</td>\n",
       "      <td>76</td>\n",
       "      <td>...</td>\n",
       "      <td>31</td>\n",
       "      <td>10</td>\n",
       "      <td>5</td>\n",
       "      <td>26</td>\n",
       "      <td>14</td>\n",
       "      <td>NaN</td>\n",
       "      <td>5.08</td>\n",
       "      <td>7.0</td>\n",
       "      <td>Rain</td>\n",
       "      <td>234</td>\n",
       "    </tr>\n",
       "    <tr>\n",
       "      <th>1</th>\n",
       "      <td>2013-01-02</td>\n",
       "      <td>9</td>\n",
       "      <td>7</td>\n",
       "      <td>4</td>\n",
       "      <td>6</td>\n",
       "      <td>4</td>\n",
       "      <td>2</td>\n",
       "      <td>93</td>\n",
       "      <td>86</td>\n",
       "      <td>71</td>\n",
       "      <td>...</td>\n",
       "      <td>31</td>\n",
       "      <td>11</td>\n",
       "      <td>10</td>\n",
       "      <td>23</td>\n",
       "      <td>16</td>\n",
       "      <td>NaN</td>\n",
       "      <td>0.00</td>\n",
       "      <td>5.0</td>\n",
       "      <td>NaN</td>\n",
       "      <td>298</td>\n",
       "    </tr>\n",
       "    <tr>\n",
       "      <th>2</th>\n",
       "      <td>2013-01-03</td>\n",
       "      <td>8</td>\n",
       "      <td>4</td>\n",
       "      <td>0</td>\n",
       "      <td>4</td>\n",
       "      <td>2</td>\n",
       "      <td>-1</td>\n",
       "      <td>100</td>\n",
       "      <td>87</td>\n",
       "      <td>69</td>\n",
       "      <td>...</td>\n",
       "      <td>19</td>\n",
       "      <td>10</td>\n",
       "      <td>10</td>\n",
       "      <td>13</td>\n",
       "      <td>5</td>\n",
       "      <td>NaN</td>\n",
       "      <td>0.00</td>\n",
       "      <td>5.0</td>\n",
       "      <td>NaN</td>\n",
       "      <td>118</td>\n",
       "    </tr>\n",
       "    <tr>\n",
       "      <th>3</th>\n",
       "      <td>2013-01-04</td>\n",
       "      <td>7</td>\n",
       "      <td>6</td>\n",
       "      <td>5</td>\n",
       "      <td>7</td>\n",
       "      <td>6</td>\n",
       "      <td>4</td>\n",
       "      <td>100</td>\n",
       "      <td>94</td>\n",
       "      <td>83</td>\n",
       "      <td>...</td>\n",
       "      <td>10</td>\n",
       "      <td>6</td>\n",
       "      <td>1</td>\n",
       "      <td>10</td>\n",
       "      <td>5</td>\n",
       "      <td>NaN</td>\n",
       "      <td>0.00</td>\n",
       "      <td>8.0</td>\n",
       "      <td>Fog</td>\n",
       "      <td>292</td>\n",
       "    </tr>\n",
       "    <tr>\n",
       "      <th>4</th>\n",
       "      <td>2013-01-05</td>\n",
       "      <td>7</td>\n",
       "      <td>6</td>\n",
       "      <td>5</td>\n",
       "      <td>6</td>\n",
       "      <td>6</td>\n",
       "      <td>4</td>\n",
       "      <td>100</td>\n",
       "      <td>94</td>\n",
       "      <td>90</td>\n",
       "      <td>...</td>\n",
       "      <td>11</td>\n",
       "      <td>9</td>\n",
       "      <td>2</td>\n",
       "      <td>16</td>\n",
       "      <td>8</td>\n",
       "      <td>NaN</td>\n",
       "      <td>0.00</td>\n",
       "      <td>8.0</td>\n",
       "      <td>NaN</td>\n",
       "      <td>306</td>\n",
       "    </tr>\n",
       "  </tbody>\n",
       "</table>\n",
       "<p>5 rows × 23 columns</p>\n",
       "</div>"
      ],
      "text/plain": [
       "          CET  Max TemperatureC  Mean TemperatureC  Min TemperatureC  \\\n",
       "0  2013-01-01                12                  9                 6   \n",
       "1  2013-01-02                 9                  7                 4   \n",
       "2  2013-01-03                 8                  4                 0   \n",
       "3  2013-01-04                 7                  6                 5   \n",
       "4  2013-01-05                 7                  6                 5   \n",
       "\n",
       "   Dew PointC  MeanDew PointC  Min DewpointC  Max Humidity  Mean Humidity  \\\n",
       "0           8               7              5            93             86   \n",
       "1           6               4              2            93             86   \n",
       "2           4               2             -1           100             87   \n",
       "3           7               6              4           100             94   \n",
       "4           6               6              4           100             94   \n",
       "\n",
       "   Min Humidity  ...  Max VisibilityKm  Mean VisibilityKm  Min VisibilitykM  \\\n",
       "0            76  ...                31                 10                 5   \n",
       "1            71  ...                31                 11                10   \n",
       "2            69  ...                19                 10                10   \n",
       "3            83  ...                10                  6                 1   \n",
       "4            90  ...                11                  9                 2   \n",
       "\n",
       "   Max Wind SpeedKm/h  Mean Wind SpeedKm/h  Max Gust SpeedKm/h  \\\n",
       "0                  26                   14                 NaN   \n",
       "1                  23                   16                 NaN   \n",
       "2                  13                    5                 NaN   \n",
       "3                  10                    5                 NaN   \n",
       "4                  16                    8                 NaN   \n",
       "\n",
       "   Precipitationmm  CloudCover  Events  WindDirDegrees  \n",
       "0             5.08         7.0    Rain             234  \n",
       "1             0.00         5.0     NaN             298  \n",
       "2             0.00         5.0     NaN             118  \n",
       "3             0.00         8.0     Fog             292  \n",
       "4             0.00         8.0     NaN             306  \n",
       "\n",
       "[5 rows x 23 columns]"
      ]
     },
     "execution_count": 8,
     "metadata": {},
     "output_type": "execute_result"
    }
   ],
   "source": [
    "Weather_df.head()"
   ]
  },
  {
   "cell_type": "code",
   "execution_count": 9,
   "metadata": {
    "colab": {
     "base_uri": "https://localhost:8080/",
     "height": 428
    },
    "id": "UzlE-F4xxXoq",
    "outputId": "52fafe30-a5aa-4547-bef4-a2349349dd4e"
   },
   "outputs": [
    {
     "data": {
      "text/html": [
       "<div>\n",
       "<style scoped>\n",
       "    .dataframe tbody tr th:only-of-type {\n",
       "        vertical-align: middle;\n",
       "    }\n",
       "\n",
       "    .dataframe tbody tr th {\n",
       "        vertical-align: top;\n",
       "    }\n",
       "\n",
       "    .dataframe thead th {\n",
       "        text-align: right;\n",
       "    }\n",
       "</style>\n",
       "<table border=\"1\" class=\"dataframe\">\n",
       "  <thead>\n",
       "    <tr style=\"text-align: right;\">\n",
       "      <th></th>\n",
       "      <th>Max TemperatureC</th>\n",
       "      <th>Mean TemperatureC</th>\n",
       "      <th>Min TemperatureC</th>\n",
       "      <th>Dew PointC</th>\n",
       "      <th>MeanDew PointC</th>\n",
       "      <th>Min DewpointC</th>\n",
       "      <th>Max Humidity</th>\n",
       "      <th>Mean Humidity</th>\n",
       "      <th>Min Humidity</th>\n",
       "      <th>Max Sea Level PressurehPa</th>\n",
       "      <th>...</th>\n",
       "      <th>Min Sea Level PressurehPa</th>\n",
       "      <th>Max VisibilityKm</th>\n",
       "      <th>Mean VisibilityKm</th>\n",
       "      <th>Min VisibilitykM</th>\n",
       "      <th>Max Wind SpeedKm/h</th>\n",
       "      <th>Mean Wind SpeedKm/h</th>\n",
       "      <th>Max Gust SpeedKm/h</th>\n",
       "      <th>Precipitationmm</th>\n",
       "      <th>CloudCover</th>\n",
       "      <th>WindDirDegrees</th>\n",
       "    </tr>\n",
       "  </thead>\n",
       "  <tbody>\n",
       "    <tr>\n",
       "      <th>count</th>\n",
       "      <td>365.000000</td>\n",
       "      <td>365.000000</td>\n",
       "      <td>365.000000</td>\n",
       "      <td>365.000000</td>\n",
       "      <td>365.000000</td>\n",
       "      <td>365.000000</td>\n",
       "      <td>365.000000</td>\n",
       "      <td>365.000000</td>\n",
       "      <td>365.000000</td>\n",
       "      <td>365.000000</td>\n",
       "      <td>...</td>\n",
       "      <td>365.000000</td>\n",
       "      <td>365.000000</td>\n",
       "      <td>365.000000</td>\n",
       "      <td>365.000000</td>\n",
       "      <td>365.000000</td>\n",
       "      <td>365.000000</td>\n",
       "      <td>61.000000</td>\n",
       "      <td>365.000000</td>\n",
       "      <td>358.000000</td>\n",
       "      <td>365.000000</td>\n",
       "    </tr>\n",
       "    <tr>\n",
       "      <th>mean</th>\n",
       "      <td>17.769863</td>\n",
       "      <td>13.369863</td>\n",
       "      <td>9.038356</td>\n",
       "      <td>10.690411</td>\n",
       "      <td>8.473973</td>\n",
       "      <td>6.008219</td>\n",
       "      <td>91.994521</td>\n",
       "      <td>73.884932</td>\n",
       "      <td>49.701370</td>\n",
       "      <td>1019.895890</td>\n",
       "      <td>...</td>\n",
       "      <td>1014.224658</td>\n",
       "      <td>24.000000</td>\n",
       "      <td>9.975342</td>\n",
       "      <td>7.178082</td>\n",
       "      <td>25.945205</td>\n",
       "      <td>13.252055</td>\n",
       "      <td>56.229508</td>\n",
       "      <td>1.186356</td>\n",
       "      <td>5.315642</td>\n",
       "      <td>235.534247</td>\n",
       "    </tr>\n",
       "    <tr>\n",
       "      <th>std</th>\n",
       "      <td>8.242990</td>\n",
       "      <td>7.207495</td>\n",
       "      <td>6.569046</td>\n",
       "      <td>5.605143</td>\n",
       "      <td>5.657583</td>\n",
       "      <td>5.797161</td>\n",
       "      <td>6.700826</td>\n",
       "      <td>10.917167</td>\n",
       "      <td>16.428203</td>\n",
       "      <td>7.524328</td>\n",
       "      <td>...</td>\n",
       "      <td>8.707010</td>\n",
       "      <td>7.936216</td>\n",
       "      <td>1.387521</td>\n",
       "      <td>3.445584</td>\n",
       "      <td>9.329868</td>\n",
       "      <td>6.474975</td>\n",
       "      <td>15.584601</td>\n",
       "      <td>3.008979</td>\n",
       "      <td>2.271078</td>\n",
       "      <td>75.526300</td>\n",
       "    </tr>\n",
       "    <tr>\n",
       "      <th>min</th>\n",
       "      <td>-1.000000</td>\n",
       "      <td>-2.000000</td>\n",
       "      <td>-7.000000</td>\n",
       "      <td>-6.000000</td>\n",
       "      <td>-8.000000</td>\n",
       "      <td>-10.000000</td>\n",
       "      <td>63.000000</td>\n",
       "      <td>47.000000</td>\n",
       "      <td>14.000000</td>\n",
       "      <td>996.000000</td>\n",
       "      <td>...</td>\n",
       "      <td>979.000000</td>\n",
       "      <td>7.000000</td>\n",
       "      <td>2.000000</td>\n",
       "      <td>0.000000</td>\n",
       "      <td>8.000000</td>\n",
       "      <td>3.000000</td>\n",
       "      <td>27.000000</td>\n",
       "      <td>0.000000</td>\n",
       "      <td>1.000000</td>\n",
       "      <td>1.000000</td>\n",
       "    </tr>\n",
       "    <tr>\n",
       "      <th>25%</th>\n",
       "      <td>12.000000</td>\n",
       "      <td>7.000000</td>\n",
       "      <td>4.000000</td>\n",
       "      <td>6.000000</td>\n",
       "      <td>4.000000</td>\n",
       "      <td>2.000000</td>\n",
       "      <td>88.000000</td>\n",
       "      <td>67.000000</td>\n",
       "      <td>38.000000</td>\n",
       "      <td>1016.000000</td>\n",
       "      <td>...</td>\n",
       "      <td>1010.000000</td>\n",
       "      <td>19.000000</td>\n",
       "      <td>10.000000</td>\n",
       "      <td>5.000000</td>\n",
       "      <td>19.000000</td>\n",
       "      <td>8.000000</td>\n",
       "      <td>48.000000</td>\n",
       "      <td>0.000000</td>\n",
       "      <td>4.000000</td>\n",
       "      <td>156.000000</td>\n",
       "    </tr>\n",
       "    <tr>\n",
       "      <th>50%</th>\n",
       "      <td>18.000000</td>\n",
       "      <td>13.000000</td>\n",
       "      <td>9.000000</td>\n",
       "      <td>10.000000</td>\n",
       "      <td>8.000000</td>\n",
       "      <td>6.000000</td>\n",
       "      <td>93.000000</td>\n",
       "      <td>75.000000</td>\n",
       "      <td>48.000000</td>\n",
       "      <td>1020.000000</td>\n",
       "      <td>...</td>\n",
       "      <td>1015.000000</td>\n",
       "      <td>26.000000</td>\n",
       "      <td>10.000000</td>\n",
       "      <td>10.000000</td>\n",
       "      <td>26.000000</td>\n",
       "      <td>11.000000</td>\n",
       "      <td>52.000000</td>\n",
       "      <td>0.000000</td>\n",
       "      <td>6.000000</td>\n",
       "      <td>270.000000</td>\n",
       "    </tr>\n",
       "    <tr>\n",
       "      <th>75%</th>\n",
       "      <td>24.000000</td>\n",
       "      <td>19.000000</td>\n",
       "      <td>14.000000</td>\n",
       "      <td>15.000000</td>\n",
       "      <td>13.000000</td>\n",
       "      <td>11.000000</td>\n",
       "      <td>94.000000</td>\n",
       "      <td>82.000000</td>\n",
       "      <td>60.000000</td>\n",
       "      <td>1025.000000</td>\n",
       "      <td>...</td>\n",
       "      <td>1020.000000</td>\n",
       "      <td>31.000000</td>\n",
       "      <td>11.000000</td>\n",
       "      <td>10.000000</td>\n",
       "      <td>32.000000</td>\n",
       "      <td>18.000000</td>\n",
       "      <td>61.000000</td>\n",
       "      <td>0.760000</td>\n",
       "      <td>7.000000</td>\n",
       "      <td>294.000000</td>\n",
       "    </tr>\n",
       "    <tr>\n",
       "      <th>max</th>\n",
       "      <td>37.000000</td>\n",
       "      <td>28.000000</td>\n",
       "      <td>22.000000</td>\n",
       "      <td>22.000000</td>\n",
       "      <td>20.000000</td>\n",
       "      <td>17.000000</td>\n",
       "      <td>100.000000</td>\n",
       "      <td>96.000000</td>\n",
       "      <td>92.000000</td>\n",
       "      <td>1042.000000</td>\n",
       "      <td>...</td>\n",
       "      <td>1037.000000</td>\n",
       "      <td>31.000000</td>\n",
       "      <td>14.000000</td>\n",
       "      <td>10.000000</td>\n",
       "      <td>60.000000</td>\n",
       "      <td>50.000000</td>\n",
       "      <td>108.000000</td>\n",
       "      <td>32.000000</td>\n",
       "      <td>8.000000</td>\n",
       "      <td>354.000000</td>\n",
       "    </tr>\n",
       "  </tbody>\n",
       "</table>\n",
       "<p>8 rows × 21 columns</p>\n",
       "</div>"
      ],
      "text/plain": [
       "       Max TemperatureC  Mean TemperatureC  Min TemperatureC  Dew PointC  \\\n",
       "count        365.000000         365.000000        365.000000  365.000000   \n",
       "mean          17.769863          13.369863          9.038356   10.690411   \n",
       "std            8.242990           7.207495          6.569046    5.605143   \n",
       "min           -1.000000          -2.000000         -7.000000   -6.000000   \n",
       "25%           12.000000           7.000000          4.000000    6.000000   \n",
       "50%           18.000000          13.000000          9.000000   10.000000   \n",
       "75%           24.000000          19.000000         14.000000   15.000000   \n",
       "max           37.000000          28.000000         22.000000   22.000000   \n",
       "\n",
       "       MeanDew PointC  Min DewpointC  Max Humidity  Mean Humidity  \\\n",
       "count      365.000000     365.000000    365.000000     365.000000   \n",
       "mean         8.473973       6.008219     91.994521      73.884932   \n",
       "std          5.657583       5.797161      6.700826      10.917167   \n",
       "min         -8.000000     -10.000000     63.000000      47.000000   \n",
       "25%          4.000000       2.000000     88.000000      67.000000   \n",
       "50%          8.000000       6.000000     93.000000      75.000000   \n",
       "75%         13.000000      11.000000     94.000000      82.000000   \n",
       "max         20.000000      17.000000    100.000000      96.000000   \n",
       "\n",
       "       Min Humidity  Max Sea Level PressurehPa  ...  \\\n",
       "count    365.000000                 365.000000  ...   \n",
       "mean      49.701370                1019.895890  ...   \n",
       "std       16.428203                   7.524328  ...   \n",
       "min       14.000000                 996.000000  ...   \n",
       "25%       38.000000                1016.000000  ...   \n",
       "50%       48.000000                1020.000000  ...   \n",
       "75%       60.000000                1025.000000  ...   \n",
       "max       92.000000                1042.000000  ...   \n",
       "\n",
       "       Min Sea Level PressurehPa  Max VisibilityKm  Mean VisibilityKm  \\\n",
       "count                 365.000000        365.000000         365.000000   \n",
       "mean                 1014.224658         24.000000           9.975342   \n",
       "std                     8.707010          7.936216           1.387521   \n",
       "min                   979.000000          7.000000           2.000000   \n",
       "25%                  1010.000000         19.000000          10.000000   \n",
       "50%                  1015.000000         26.000000          10.000000   \n",
       "75%                  1020.000000         31.000000          11.000000   \n",
       "max                  1037.000000         31.000000          14.000000   \n",
       "\n",
       "       Min VisibilitykM  Max Wind SpeedKm/h  Mean Wind SpeedKm/h  \\\n",
       "count        365.000000          365.000000           365.000000   \n",
       "mean           7.178082           25.945205            13.252055   \n",
       "std            3.445584            9.329868             6.474975   \n",
       "min            0.000000            8.000000             3.000000   \n",
       "25%            5.000000           19.000000             8.000000   \n",
       "50%           10.000000           26.000000            11.000000   \n",
       "75%           10.000000           32.000000            18.000000   \n",
       "max           10.000000           60.000000            50.000000   \n",
       "\n",
       "       Max Gust SpeedKm/h  Precipitationmm  CloudCover  WindDirDegrees  \n",
       "count           61.000000       365.000000  358.000000      365.000000  \n",
       "mean            56.229508         1.186356    5.315642      235.534247  \n",
       "std             15.584601         3.008979    2.271078       75.526300  \n",
       "min             27.000000         0.000000    1.000000        1.000000  \n",
       "25%             48.000000         0.000000    4.000000      156.000000  \n",
       "50%             52.000000         0.000000    6.000000      270.000000  \n",
       "75%             61.000000         0.760000    7.000000      294.000000  \n",
       "max            108.000000        32.000000    8.000000      354.000000  \n",
       "\n",
       "[8 rows x 21 columns]"
      ]
     },
     "execution_count": 9,
     "metadata": {},
     "output_type": "execute_result"
    }
   ],
   "source": [
    "Weather_df.describe()"
   ]
  },
  {
   "cell_type": "code",
   "execution_count": 10,
   "metadata": {
    "colab": {
     "base_uri": "https://localhost:8080/"
    },
    "id": "-anJvWl8yB5h",
    "outputId": "150373a3-2f61-4e0e-fd70-a7f31f2063f4"
   },
   "outputs": [
    {
     "data": {
      "text/plain": [
       "count    365.000000\n",
       "mean      13.369863\n",
       "std        7.207495\n",
       "min       -2.000000\n",
       "25%        7.000000\n",
       "50%       13.000000\n",
       "75%       19.000000\n",
       "max       28.000000\n",
       "Name: Mean TemperatureC, dtype: float64"
      ]
     },
     "execution_count": 10,
     "metadata": {},
     "output_type": "execute_result"
    }
   ],
   "source": [
    "Weather_df['Mean TemperatureC'].describe()"
   ]
  },
  {
   "cell_type": "code",
   "execution_count": 11,
   "metadata": {
    "colab": {
     "base_uri": "https://localhost:8080/"
    },
    "id": "AA79FAIjyjLf",
    "outputId": "6d14e5f2-fdec-40b8-fb74-cfc35c23ca7b"
   },
   "outputs": [
    {
     "data": {
      "text/plain": [
       "count    365.000000\n",
       "mean      73.884932\n",
       "std       10.917167\n",
       "min       47.000000\n",
       "25%       67.000000\n",
       "50%       75.000000\n",
       "75%       82.000000\n",
       "max       96.000000\n",
       "Name: Mean Humidity, dtype: float64"
      ]
     },
     "execution_count": 11,
     "metadata": {},
     "output_type": "execute_result"
    }
   ],
   "source": [
    "Weather_df['Mean Humidity'].describe()"
   ]
  },
  {
   "cell_type": "code",
   "execution_count": 12,
   "metadata": {
    "colab": {
     "base_uri": "https://localhost:8080/"
    },
    "id": "MZqQGfUeqbAG",
    "outputId": "f5543886-a7f3-4312-845a-1db2f20281db"
   },
   "outputs": [
    {
     "data": {
      "text/plain": [
       "count      204\n",
       "unique       9\n",
       "top       Rain\n",
       "freq       136\n",
       "Name: Events, dtype: object"
      ]
     },
     "execution_count": 12,
     "metadata": {},
     "output_type": "execute_result"
    }
   ],
   "source": [
    "Weather_df['Events'].describe()"
   ]
  },
  {
   "cell_type": "code",
   "execution_count": 13,
   "metadata": {},
   "outputs": [
    {
     "data": {
      "text/plain": [
       "CET                             0\n",
       "Max TemperatureC                0\n",
       "Mean TemperatureC               0\n",
       "Min TemperatureC                0\n",
       "Dew PointC                      0\n",
       "MeanDew PointC                  0\n",
       "Min DewpointC                   0\n",
       "Max Humidity                    0\n",
       "Mean Humidity                   0\n",
       "Min Humidity                    0\n",
       "Max Sea Level PressurehPa       0\n",
       "Mean Sea Level PressurehPa      0\n",
       "Min Sea Level PressurehPa       0\n",
       "Max VisibilityKm                0\n",
       "Mean VisibilityKm               0\n",
       "Min VisibilitykM                0\n",
       "Max Wind SpeedKm/h              0\n",
       "Mean Wind SpeedKm/h             0\n",
       "Max Gust SpeedKm/h            304\n",
       "Precipitationmm                 0\n",
       "CloudCover                      7\n",
       "Events                        161\n",
       "WindDirDegrees                  0\n",
       "dtype: int64"
      ]
     },
     "execution_count": 13,
     "metadata": {},
     "output_type": "execute_result"
    }
   ],
   "source": [
    "Weather_df.isnull().sum()"
   ]
  },
  {
   "cell_type": "code",
   "execution_count": 14,
   "metadata": {},
   "outputs": [],
   "source": [
    "Weather_df['Events'] = Weather_df['Events'].fillna('NoEvent').to_numpy()  \n",
    "Weather_df['CloudCover'] = Weather_df['CloudCover'].fillna(0).to_numpy() "
   ]
  },
  {
   "cell_type": "code",
   "execution_count": 15,
   "metadata": {},
   "outputs": [
    {
     "data": {
      "text/html": [
       "<div>\n",
       "<style scoped>\n",
       "    .dataframe tbody tr th:only-of-type {\n",
       "        vertical-align: middle;\n",
       "    }\n",
       "\n",
       "    .dataframe tbody tr th {\n",
       "        vertical-align: top;\n",
       "    }\n",
       "\n",
       "    .dataframe thead th {\n",
       "        text-align: right;\n",
       "    }\n",
       "</style>\n",
       "<table border=\"1\" class=\"dataframe\">\n",
       "  <thead>\n",
       "    <tr style=\"text-align: right;\">\n",
       "      <th></th>\n",
       "      <th>CET</th>\n",
       "      <th>Max TemperatureC</th>\n",
       "      <th>Mean TemperatureC</th>\n",
       "      <th>Min TemperatureC</th>\n",
       "      <th>Dew PointC</th>\n",
       "      <th>MeanDew PointC</th>\n",
       "      <th>Min DewpointC</th>\n",
       "      <th>Max Humidity</th>\n",
       "      <th>Mean Humidity</th>\n",
       "      <th>Min Humidity</th>\n",
       "      <th>...</th>\n",
       "      <th>Max VisibilityKm</th>\n",
       "      <th>Mean VisibilityKm</th>\n",
       "      <th>Min VisibilitykM</th>\n",
       "      <th>Max Wind SpeedKm/h</th>\n",
       "      <th>Mean Wind SpeedKm/h</th>\n",
       "      <th>Max Gust SpeedKm/h</th>\n",
       "      <th>Precipitationmm</th>\n",
       "      <th>CloudCover</th>\n",
       "      <th>Events</th>\n",
       "      <th>WindDirDegrees</th>\n",
       "    </tr>\n",
       "  </thead>\n",
       "  <tbody>\n",
       "    <tr>\n",
       "      <th>0</th>\n",
       "      <td>2013-01-01</td>\n",
       "      <td>12</td>\n",
       "      <td>9</td>\n",
       "      <td>6</td>\n",
       "      <td>8</td>\n",
       "      <td>7</td>\n",
       "      <td>5</td>\n",
       "      <td>93</td>\n",
       "      <td>86</td>\n",
       "      <td>76</td>\n",
       "      <td>...</td>\n",
       "      <td>31</td>\n",
       "      <td>10</td>\n",
       "      <td>5</td>\n",
       "      <td>26</td>\n",
       "      <td>14</td>\n",
       "      <td>NaN</td>\n",
       "      <td>5.08</td>\n",
       "      <td>7.0</td>\n",
       "      <td>Rain</td>\n",
       "      <td>234</td>\n",
       "    </tr>\n",
       "    <tr>\n",
       "      <th>1</th>\n",
       "      <td>2013-01-02</td>\n",
       "      <td>9</td>\n",
       "      <td>7</td>\n",
       "      <td>4</td>\n",
       "      <td>6</td>\n",
       "      <td>4</td>\n",
       "      <td>2</td>\n",
       "      <td>93</td>\n",
       "      <td>86</td>\n",
       "      <td>71</td>\n",
       "      <td>...</td>\n",
       "      <td>31</td>\n",
       "      <td>11</td>\n",
       "      <td>10</td>\n",
       "      <td>23</td>\n",
       "      <td>16</td>\n",
       "      <td>NaN</td>\n",
       "      <td>0.00</td>\n",
       "      <td>5.0</td>\n",
       "      <td>NoEvent</td>\n",
       "      <td>298</td>\n",
       "    </tr>\n",
       "    <tr>\n",
       "      <th>2</th>\n",
       "      <td>2013-01-03</td>\n",
       "      <td>8</td>\n",
       "      <td>4</td>\n",
       "      <td>0</td>\n",
       "      <td>4</td>\n",
       "      <td>2</td>\n",
       "      <td>-1</td>\n",
       "      <td>100</td>\n",
       "      <td>87</td>\n",
       "      <td>69</td>\n",
       "      <td>...</td>\n",
       "      <td>19</td>\n",
       "      <td>10</td>\n",
       "      <td>10</td>\n",
       "      <td>13</td>\n",
       "      <td>5</td>\n",
       "      <td>NaN</td>\n",
       "      <td>0.00</td>\n",
       "      <td>5.0</td>\n",
       "      <td>NoEvent</td>\n",
       "      <td>118</td>\n",
       "    </tr>\n",
       "    <tr>\n",
       "      <th>3</th>\n",
       "      <td>2013-01-04</td>\n",
       "      <td>7</td>\n",
       "      <td>6</td>\n",
       "      <td>5</td>\n",
       "      <td>7</td>\n",
       "      <td>6</td>\n",
       "      <td>4</td>\n",
       "      <td>100</td>\n",
       "      <td>94</td>\n",
       "      <td>83</td>\n",
       "      <td>...</td>\n",
       "      <td>10</td>\n",
       "      <td>6</td>\n",
       "      <td>1</td>\n",
       "      <td>10</td>\n",
       "      <td>5</td>\n",
       "      <td>NaN</td>\n",
       "      <td>0.00</td>\n",
       "      <td>8.0</td>\n",
       "      <td>Fog</td>\n",
       "      <td>292</td>\n",
       "    </tr>\n",
       "    <tr>\n",
       "      <th>4</th>\n",
       "      <td>2013-01-05</td>\n",
       "      <td>7</td>\n",
       "      <td>6</td>\n",
       "      <td>5</td>\n",
       "      <td>6</td>\n",
       "      <td>6</td>\n",
       "      <td>4</td>\n",
       "      <td>100</td>\n",
       "      <td>94</td>\n",
       "      <td>90</td>\n",
       "      <td>...</td>\n",
       "      <td>11</td>\n",
       "      <td>9</td>\n",
       "      <td>2</td>\n",
       "      <td>16</td>\n",
       "      <td>8</td>\n",
       "      <td>NaN</td>\n",
       "      <td>0.00</td>\n",
       "      <td>8.0</td>\n",
       "      <td>NoEvent</td>\n",
       "      <td>306</td>\n",
       "    </tr>\n",
       "    <tr>\n",
       "      <th>...</th>\n",
       "      <td>...</td>\n",
       "      <td>...</td>\n",
       "      <td>...</td>\n",
       "      <td>...</td>\n",
       "      <td>...</td>\n",
       "      <td>...</td>\n",
       "      <td>...</td>\n",
       "      <td>...</td>\n",
       "      <td>...</td>\n",
       "      <td>...</td>\n",
       "      <td>...</td>\n",
       "      <td>...</td>\n",
       "      <td>...</td>\n",
       "      <td>...</td>\n",
       "      <td>...</td>\n",
       "      <td>...</td>\n",
       "      <td>...</td>\n",
       "      <td>...</td>\n",
       "      <td>...</td>\n",
       "      <td>...</td>\n",
       "      <td>...</td>\n",
       "    </tr>\n",
       "    <tr>\n",
       "      <th>360</th>\n",
       "      <td>2013-12-27</td>\n",
       "      <td>15</td>\n",
       "      <td>9</td>\n",
       "      <td>2</td>\n",
       "      <td>8</td>\n",
       "      <td>4</td>\n",
       "      <td>2</td>\n",
       "      <td>93</td>\n",
       "      <td>74</td>\n",
       "      <td>48</td>\n",
       "      <td>...</td>\n",
       "      <td>23</td>\n",
       "      <td>10</td>\n",
       "      <td>10</td>\n",
       "      <td>29</td>\n",
       "      <td>11</td>\n",
       "      <td>NaN</td>\n",
       "      <td>0.00</td>\n",
       "      <td>6.0</td>\n",
       "      <td>NoEvent</td>\n",
       "      <td>145</td>\n",
       "    </tr>\n",
       "    <tr>\n",
       "      <th>361</th>\n",
       "      <td>2013-12-28</td>\n",
       "      <td>11</td>\n",
       "      <td>8</td>\n",
       "      <td>5</td>\n",
       "      <td>10</td>\n",
       "      <td>6</td>\n",
       "      <td>3</td>\n",
       "      <td>100</td>\n",
       "      <td>81</td>\n",
       "      <td>51</td>\n",
       "      <td>...</td>\n",
       "      <td>31</td>\n",
       "      <td>11</td>\n",
       "      <td>8</td>\n",
       "      <td>35</td>\n",
       "      <td>23</td>\n",
       "      <td>55.0</td>\n",
       "      <td>7.87</td>\n",
       "      <td>7.0</td>\n",
       "      <td>Rain</td>\n",
       "      <td>214</td>\n",
       "    </tr>\n",
       "    <tr>\n",
       "      <th>362</th>\n",
       "      <td>2013-12-29</td>\n",
       "      <td>9</td>\n",
       "      <td>7</td>\n",
       "      <td>4</td>\n",
       "      <td>5</td>\n",
       "      <td>4</td>\n",
       "      <td>3</td>\n",
       "      <td>87</td>\n",
       "      <td>78</td>\n",
       "      <td>57</td>\n",
       "      <td>...</td>\n",
       "      <td>26</td>\n",
       "      <td>10</td>\n",
       "      <td>10</td>\n",
       "      <td>27</td>\n",
       "      <td>21</td>\n",
       "      <td>NaN</td>\n",
       "      <td>0.00</td>\n",
       "      <td>6.0</td>\n",
       "      <td>Rain</td>\n",
       "      <td>262</td>\n",
       "    </tr>\n",
       "    <tr>\n",
       "      <th>363</th>\n",
       "      <td>2013-12-30</td>\n",
       "      <td>9</td>\n",
       "      <td>4</td>\n",
       "      <td>0</td>\n",
       "      <td>4</td>\n",
       "      <td>2</td>\n",
       "      <td>0</td>\n",
       "      <td>100</td>\n",
       "      <td>83</td>\n",
       "      <td>51</td>\n",
       "      <td>...</td>\n",
       "      <td>23</td>\n",
       "      <td>8</td>\n",
       "      <td>0</td>\n",
       "      <td>16</td>\n",
       "      <td>6</td>\n",
       "      <td>NaN</td>\n",
       "      <td>0.00</td>\n",
       "      <td>7.0</td>\n",
       "      <td>Fog</td>\n",
       "      <td>135</td>\n",
       "    </tr>\n",
       "    <tr>\n",
       "      <th>364</th>\n",
       "      <td>2013-12-31</td>\n",
       "      <td>11</td>\n",
       "      <td>6</td>\n",
       "      <td>2</td>\n",
       "      <td>5</td>\n",
       "      <td>3</td>\n",
       "      <td>0</td>\n",
       "      <td>88</td>\n",
       "      <td>76</td>\n",
       "      <td>58</td>\n",
       "      <td>...</td>\n",
       "      <td>31</td>\n",
       "      <td>11</td>\n",
       "      <td>10</td>\n",
       "      <td>32</td>\n",
       "      <td>16</td>\n",
       "      <td>NaN</td>\n",
       "      <td>0.00</td>\n",
       "      <td>2.0</td>\n",
       "      <td>NoEvent</td>\n",
       "      <td>153</td>\n",
       "    </tr>\n",
       "  </tbody>\n",
       "</table>\n",
       "<p>365 rows × 23 columns</p>\n",
       "</div>"
      ],
      "text/plain": [
       "            CET  Max TemperatureC  Mean TemperatureC  Min TemperatureC  \\\n",
       "0    2013-01-01                12                  9                 6   \n",
       "1    2013-01-02                 9                  7                 4   \n",
       "2    2013-01-03                 8                  4                 0   \n",
       "3    2013-01-04                 7                  6                 5   \n",
       "4    2013-01-05                 7                  6                 5   \n",
       "..          ...               ...                ...               ...   \n",
       "360  2013-12-27                15                  9                 2   \n",
       "361  2013-12-28                11                  8                 5   \n",
       "362  2013-12-29                 9                  7                 4   \n",
       "363  2013-12-30                 9                  4                 0   \n",
       "364  2013-12-31                11                  6                 2   \n",
       "\n",
       "     Dew PointC  MeanDew PointC  Min DewpointC  Max Humidity  Mean Humidity  \\\n",
       "0             8               7              5            93             86   \n",
       "1             6               4              2            93             86   \n",
       "2             4               2             -1           100             87   \n",
       "3             7               6              4           100             94   \n",
       "4             6               6              4           100             94   \n",
       "..          ...             ...            ...           ...            ...   \n",
       "360           8               4              2            93             74   \n",
       "361          10               6              3           100             81   \n",
       "362           5               4              3            87             78   \n",
       "363           4               2              0           100             83   \n",
       "364           5               3              0            88             76   \n",
       "\n",
       "     Min Humidity  ...  Max VisibilityKm  Mean VisibilityKm  Min VisibilitykM  \\\n",
       "0              76  ...                31                 10                 5   \n",
       "1              71  ...                31                 11                10   \n",
       "2              69  ...                19                 10                10   \n",
       "3              83  ...                10                  6                 1   \n",
       "4              90  ...                11                  9                 2   \n",
       "..            ...  ...               ...                ...               ...   \n",
       "360            48  ...                23                 10                10   \n",
       "361            51  ...                31                 11                 8   \n",
       "362            57  ...                26                 10                10   \n",
       "363            51  ...                23                  8                 0   \n",
       "364            58  ...                31                 11                10   \n",
       "\n",
       "     Max Wind SpeedKm/h  Mean Wind SpeedKm/h  Max Gust SpeedKm/h  \\\n",
       "0                    26                   14                 NaN   \n",
       "1                    23                   16                 NaN   \n",
       "2                    13                    5                 NaN   \n",
       "3                    10                    5                 NaN   \n",
       "4                    16                    8                 NaN   \n",
       "..                  ...                  ...                 ...   \n",
       "360                  29                   11                 NaN   \n",
       "361                  35                   23                55.0   \n",
       "362                  27                   21                 NaN   \n",
       "363                  16                    6                 NaN   \n",
       "364                  32                   16                 NaN   \n",
       "\n",
       "     Precipitationmm  CloudCover   Events  WindDirDegrees  \n",
       "0               5.08         7.0     Rain             234  \n",
       "1               0.00         5.0  NoEvent             298  \n",
       "2               0.00         5.0  NoEvent             118  \n",
       "3               0.00         8.0      Fog             292  \n",
       "4               0.00         8.0  NoEvent             306  \n",
       "..               ...         ...      ...             ...  \n",
       "360             0.00         6.0  NoEvent             145  \n",
       "361             7.87         7.0     Rain             214  \n",
       "362             0.00         6.0     Rain             262  \n",
       "363             0.00         7.0      Fog             135  \n",
       "364             0.00         2.0  NoEvent             153  \n",
       "\n",
       "[365 rows x 23 columns]"
      ]
     },
     "execution_count": 15,
     "metadata": {},
     "output_type": "execute_result"
    }
   ],
   "source": [
    "Weather_df"
   ]
  },
  {
   "cell_type": "code",
   "execution_count": 16,
   "metadata": {
    "id": "gytjsNggOPCI"
   },
   "outputs": [],
   "source": [
    "data = Weather_df[['Mean TemperatureC','MeanDew PointC', 'Mean Humidity', 'Mean Sea Level PressurehPa',\n",
    "                   'Mean VisibilityKm', 'Mean Wind SpeedKm/h', 'Precipitationmm', 'CloudCover']].to_numpy()\n",
    "target = Weather_df['Events'].to_numpy()"
   ]
  },
  {
   "cell_type": "code",
   "execution_count": 17,
   "metadata": {
    "id": "FsFPRS7S1S_9"
   },
   "outputs": [],
   "source": [
    "from sklearn.model_selection import train_test_split\n",
    "train_input, test_input, train_target, test_target = train_test_split(data, target, random_state = 42)"
   ]
  },
  {
   "cell_type": "code",
   "execution_count": 18,
   "metadata": {},
   "outputs": [],
   "source": [
    "from sklearn.preprocessing import StandardScaler\n",
    "ss = StandardScaler()\n",
    "ss.fit(train_input, train_target)\n",
    "train_scaled = ss.transform(train_input)\n",
    "test_scaled = ss.transform(test_input)"
   ]
  },
  {
   "cell_type": "markdown",
   "metadata": {},
   "source": [
    "K최근접 이웃"
   ]
  },
  {
   "cell_type": "code",
   "execution_count": 19,
   "metadata": {},
   "outputs": [
    {
     "name": "stdout",
     "output_type": "stream",
     "text": [
      "0.8021978021978022\n",
      "0.6739130434782609\n"
     ]
    },
    {
     "name": "stderr",
     "output_type": "stream",
     "text": [
      "C:\\ProgramData\\Anaconda3\\lib\\site-packages\\sklearn\\neighbors\\_classification.py:228: FutureWarning: Unlike other reduction functions (e.g. `skew`, `kurtosis`), the default behavior of `mode` typically preserves the axis it acts along. In SciPy 1.11.0, this behavior will change: the default value of `keepdims` will become False, the `axis` over which the statistic is taken will be eliminated, and the value None will no longer be accepted. Set `keepdims` to True or False to avoid this warning.\n",
      "  mode, _ = stats.mode(_y[neigh_ind, k], axis=1)\n",
      "C:\\ProgramData\\Anaconda3\\lib\\site-packages\\sklearn\\neighbors\\_classification.py:228: FutureWarning: Unlike other reduction functions (e.g. `skew`, `kurtosis`), the default behavior of `mode` typically preserves the axis it acts along. In SciPy 1.11.0, this behavior will change: the default value of `keepdims` will become False, the `axis` over which the statistic is taken will be eliminated, and the value None will no longer be accepted. Set `keepdims` to True or False to avoid this warning.\n",
      "  mode, _ = stats.mode(_y[neigh_ind, k], axis=1)\n"
     ]
    }
   ],
   "source": [
    "from sklearn.neighbors import KNeighborsClassifier\n",
    "\n",
    "kn = KNeighborsClassifier(n_neighbors=3)\n",
    "kn.fit(train_scaled, train_target)\n",
    "\n",
    "print(kn.score(train_scaled, train_target))\n",
    "print(kn.score(test_scaled, test_target))"
   ]
  },
  {
   "cell_type": "code",
   "execution_count": 20,
   "metadata": {},
   "outputs": [
    {
     "name": "stdout",
     "output_type": "stream",
     "text": [
      "['Fog' 'Fog-Rain' 'Fog-Rain-Snow' 'Fog-Rain-Thunderstorm' 'NoEvent' 'Rain'\n",
      " 'Rain-Snow' 'Rain-Thunderstorm' 'Snow' 'Thunderstorm']\n"
     ]
    }
   ],
   "source": [
    "print(kn.classes_)"
   ]
  },
  {
   "cell_type": "code",
   "execution_count": 21,
   "metadata": {},
   "outputs": [
    {
     "name": "stdout",
     "output_type": "stream",
     "text": [
      "['NoEvent' 'Rain' 'Rain' 'Rain' 'Fog']\n"
     ]
    },
    {
     "name": "stderr",
     "output_type": "stream",
     "text": [
      "C:\\ProgramData\\Anaconda3\\lib\\site-packages\\sklearn\\neighbors\\_classification.py:228: FutureWarning: Unlike other reduction functions (e.g. `skew`, `kurtosis`), the default behavior of `mode` typically preserves the axis it acts along. In SciPy 1.11.0, this behavior will change: the default value of `keepdims` will become False, the `axis` over which the statistic is taken will be eliminated, and the value None will no longer be accepted. Set `keepdims` to True or False to avoid this warning.\n",
      "  mode, _ = stats.mode(_y[neigh_ind, k], axis=1)\n"
     ]
    }
   ],
   "source": [
    "print(kn.predict(test_scaled[:5]))"
   ]
  },
  {
   "cell_type": "code",
   "execution_count": 22,
   "metadata": {},
   "outputs": [
    {
     "name": "stdout",
     "output_type": "stream",
     "text": [
      "[[0.     0.     0.     0.     0.6667 0.     0.     0.     0.     0.3333]\n",
      " [0.     0.     0.     0.     0.     1.     0.     0.     0.     0.    ]\n",
      " [0.     0.     0.     0.     0.     1.     0.     0.     0.     0.    ]\n",
      " [0.     0.     0.     0.     0.     1.     0.     0.     0.     0.    ]\n",
      " [1.     0.     0.     0.     0.     0.     0.     0.     0.     0.    ]]\n"
     ]
    }
   ],
   "source": [
    "import numpy as np\n",
    "\n",
    "proba = kn.predict_proba(test_scaled[:5])\n",
    "print(np.round(proba, decimals=4))"
   ]
  },
  {
   "cell_type": "code",
   "execution_count": 23,
   "metadata": {},
   "outputs": [
    {
     "name": "stdout",
     "output_type": "stream",
     "text": [
      "[['Rain' 'Rain' 'Rain']]\n"
     ]
    }
   ],
   "source": [
    "distances, indexes = kn.kneighbors(test_scaled[3:4])\n",
    "print(train_target[indexes])"
   ]
  },
  {
   "cell_type": "code",
   "execution_count": 24,
   "metadata": {
    "colab": {
     "base_uri": "https://localhost:8080/"
    },
    "id": "3duuWL6L1rYZ",
    "outputId": "7c2e7f5a-3ac4-418d-84cb-09dc85f7df13"
   },
   "outputs": [
    {
     "name": "stdout",
     "output_type": "stream",
     "text": [
      "(273, 8) (92, 8)\n"
     ]
    }
   ],
   "source": [
    "print(train_input.shape, test_input.shape)"
   ]
  },
  {
   "cell_type": "code",
   "execution_count": 25,
   "metadata": {
    "colab": {
     "base_uri": "https://localhost:8080/"
    },
    "id": "vt-ZGp6n3Dzw",
    "outputId": "600552f6-ac87-40eb-faa3-59a6e61ebe5c"
   },
   "outputs": [
    {
     "name": "stdout",
     "output_type": "stream",
     "text": [
      "(273,) (92,)\n"
     ]
    }
   ],
   "source": [
    "print(train_target.shape, test_target.shape)"
   ]
  },
  {
   "cell_type": "code",
   "execution_count": 26,
   "metadata": {},
   "outputs": [],
   "source": [
    "# 로지스틱 2진 분류"
   ]
  },
  {
   "cell_type": "code",
   "execution_count": 27,
   "metadata": {},
   "outputs": [
    {
     "data": {
      "text/plain": [
       "229"
      ]
     },
     "execution_count": 27,
     "metadata": {},
     "output_type": "execute_result"
    }
   ],
   "source": [
    "rain_sunny_indexes = ((train_target == \"Rain\") | (train_target == \"NoEvent\" ))\n",
    "np.sum(rain_sunny_indexes)"
   ]
  },
  {
   "cell_type": "code",
   "execution_count": 28,
   "metadata": {},
   "outputs": [
    {
     "data": {
      "text/plain": [
       "array([ True,  True,  True,  True,  True, False,  True,  True,  True,\n",
       "        True,  True,  True,  True, False,  True,  True,  True,  True,\n",
       "        True,  True,  True, False,  True,  True,  True,  True,  True,\n",
       "        True,  True,  True,  True, False,  True,  True,  True, False,\n",
       "        True,  True,  True,  True,  True,  True, False,  True,  True,\n",
       "        True, False,  True,  True,  True, False,  True,  True,  True,\n",
       "       False,  True,  True,  True,  True,  True,  True,  True,  True,\n",
       "        True,  True,  True,  True,  True,  True,  True,  True,  True,\n",
       "        True,  True,  True,  True, False,  True,  True,  True, False,\n",
       "        True, False,  True,  True, False,  True,  True,  True,  True,\n",
       "        True,  True,  True,  True,  True,  True,  True, False, False,\n",
       "       False,  True,  True,  True,  True,  True, False,  True,  True,\n",
       "        True,  True,  True,  True, False,  True,  True,  True,  True,\n",
       "        True, False,  True,  True,  True,  True, False, False,  True,\n",
       "        True,  True,  True, False,  True,  True,  True,  True,  True,\n",
       "        True,  True, False, False,  True,  True,  True,  True, False,\n",
       "        True,  True,  True,  True,  True,  True,  True,  True, False,\n",
       "        True,  True,  True,  True,  True,  True, False,  True,  True,\n",
       "        True,  True,  True,  True,  True,  True,  True,  True, False,\n",
       "        True,  True,  True,  True,  True,  True,  True,  True,  True,\n",
       "        True,  True,  True,  True,  True, False, False,  True,  True,\n",
       "        True,  True,  True,  True,  True,  True,  True,  True,  True,\n",
       "        True,  True,  True, False,  True,  True,  True, False,  True,\n",
       "        True,  True,  True,  True, False, False,  True,  True, False,\n",
       "        True,  True,  True,  True,  True,  True,  True,  True,  True,\n",
       "        True,  True,  True, False,  True,  True,  True,  True,  True,\n",
       "        True,  True,  True, False, False,  True,  True,  True,  True,\n",
       "       False,  True,  True,  True,  True,  True,  True,  True, False,\n",
       "        True,  True, False,  True,  True,  True,  True,  True,  True,\n",
       "        True,  True,  True, False,  True,  True,  True, False,  True,\n",
       "        True, False,  True])"
      ]
     },
     "execution_count": 28,
     "metadata": {},
     "output_type": "execute_result"
    }
   ],
   "source": [
    "rain_sunny_indexes"
   ]
  },
  {
   "cell_type": "code",
   "execution_count": 29,
   "metadata": {},
   "outputs": [],
   "source": [
    "train_Rain_Sunny = train_scaled[rain_sunny_indexes]\n",
    "target_Rain_Sunny = train_target[rain_sunny_indexes]"
   ]
  },
  {
   "cell_type": "code",
   "execution_count": 30,
   "metadata": {},
   "outputs": [
    {
     "data": {
      "text/plain": [
       "LogisticRegression()"
      ]
     },
     "execution_count": 30,
     "metadata": {},
     "output_type": "execute_result"
    }
   ],
   "source": [
    "from sklearn.linear_model import LogisticRegression\n",
    "\n",
    "lr = LogisticRegression()\n",
    "lr.fit(train_Rain_Sunny, target_Rain_Sunny)"
   ]
  },
  {
   "cell_type": "code",
   "execution_count": 31,
   "metadata": {},
   "outputs": [
    {
     "name": "stdout",
     "output_type": "stream",
     "text": [
      "['NoEvent' 'Rain' 'NoEvent' 'NoEvent' 'Rain']\n"
     ]
    }
   ],
   "source": [
    "print(lr.predict(train_Rain_Sunny[:5]))"
   ]
  },
  {
   "cell_type": "code",
   "execution_count": 32,
   "metadata": {},
   "outputs": [
    {
     "name": "stdout",
     "output_type": "stream",
     "text": [
      "[[0.84798832 0.15201168]\n",
      " [0.47084431 0.52915569]\n",
      " [0.75071768 0.24928232]\n",
      " [0.9873268  0.0126732 ]\n",
      " [0.02935874 0.97064126]]\n"
     ]
    }
   ],
   "source": [
    "print(lr.predict_proba(train_Rain_Sunny[:5]))"
   ]
  },
  {
   "cell_type": "code",
   "execution_count": 33,
   "metadata": {},
   "outputs": [
    {
     "name": "stdout",
     "output_type": "stream",
     "text": [
      "['NoEvent' 'Rain']\n"
     ]
    }
   ],
   "source": [
    "print(lr.classes_)"
   ]
  },
  {
   "cell_type": "code",
   "execution_count": 34,
   "metadata": {},
   "outputs": [
    {
     "name": "stdout",
     "output_type": "stream",
     "text": [
      "[[ 0.29711925 -0.36773468  0.93913272 -0.61942594 -0.25616237  0.01699261\n",
      "   2.74823228  1.1768347 ]] [0.19490934]\n"
     ]
    }
   ],
   "source": [
    "print(lr.coef_, lr.intercept_)"
   ]
  },
  {
   "cell_type": "code",
   "execution_count": 35,
   "metadata": {},
   "outputs": [
    {
     "name": "stdout",
     "output_type": "stream",
     "text": [
      "[-1.71890947  0.11675522 -1.1024436  -4.35551187  3.49836662]\n"
     ]
    }
   ],
   "source": [
    "decisions = lr.decision_function(train_Rain_Sunny[:5])\n",
    "print(decisions)"
   ]
  },
  {
   "cell_type": "code",
   "execution_count": 36,
   "metadata": {},
   "outputs": [
    {
     "name": "stdout",
     "output_type": "stream",
     "text": [
      "[0.15201168 0.52915569 0.24928232 0.0126732  0.97064126]\n"
     ]
    }
   ],
   "source": [
    "from scipy.special import expit\n",
    "\n",
    "print(expit(decisions))"
   ]
  },
  {
   "cell_type": "markdown",
   "metadata": {
    "id": "uHcKQvNKcFGi"
   },
   "source": [
    "#로지스틱 회귀#"
   ]
  },
  {
   "cell_type": "code",
   "execution_count": 37,
   "metadata": {
    "colab": {
     "base_uri": "https://localhost:8080/"
    },
    "id": "y7NUFuA31flp",
    "outputId": "3d130e2d-67a7-4c54-a79a-81ba4a02333e"
   },
   "outputs": [
    {
     "name": "stdout",
     "output_type": "stream",
     "text": [
      "0.7326007326007326\n",
      "0.6521739130434783\n"
     ]
    },
    {
     "name": "stderr",
     "output_type": "stream",
     "text": [
      "C:\\ProgramData\\Anaconda3\\lib\\site-packages\\sklearn\\linear_model\\_logistic.py:814: ConvergenceWarning: lbfgs failed to converge (status=1):\n",
      "STOP: TOTAL NO. of ITERATIONS REACHED LIMIT.\n",
      "\n",
      "Increase the number of iterations (max_iter) or scale the data as shown in:\n",
      "    https://scikit-learn.org/stable/modules/preprocessing.html\n",
      "Please also refer to the documentation for alternative solver options:\n",
      "    https://scikit-learn.org/stable/modules/linear_model.html#logistic-regression\n",
      "  n_iter_i = _check_optimize_result(\n"
     ]
    }
   ],
   "source": [
    "from sklearn.linear_model import LogisticRegression\n",
    "lr = LogisticRegression()\n",
    "lr.fit(train_input, train_target)\n",
    "print(lr.score(train_input, train_target))\n",
    "print(lr.score(test_input, test_target))"
   ]
  },
  {
   "cell_type": "code",
   "execution_count": 38,
   "metadata": {},
   "outputs": [
    {
     "name": "stdout",
     "output_type": "stream",
     "text": [
      "['NoEvent' 'Rain' 'NoEvent' 'NoEvent' 'Rain']\n"
     ]
    }
   ],
   "source": [
    "print(lr.predict(train_input[:5]))"
   ]
  },
  {
   "cell_type": "code",
   "execution_count": 39,
   "metadata": {},
   "outputs": [
    {
     "name": "stdout",
     "output_type": "stream",
     "text": [
      "[[3.10513218e-04 7.70083882e-04 4.57814535e-04 1.03121057e-03\n",
      "  8.60117822e-01 1.02565891e-01 2.26426980e-04 7.91260233e-03\n",
      "  1.40088545e-03 2.52067507e-02]\n",
      " [2.91947960e-04 4.32660352e-03 2.42678209e-03 3.28306514e-03\n",
      "  4.10413607e-01 5.17900102e-01 1.77653886e-03 4.36813874e-02\n",
      "  3.47439460e-03 1.24255714e-02]\n",
      " [8.95911171e-04 1.32217351e-03 9.81590561e-04 1.24371147e-03\n",
      "  6.99924032e-01 2.79811167e-01 7.77161890e-04 2.77583665e-03\n",
      "  4.22637757e-03 8.04203767e-03]\n",
      " [1.46976071e-04 3.83504217e-04 1.70226783e-04 5.81004937e-04\n",
      "  9.37420490e-01 1.87529963e-02 6.22114440e-05 8.43488937e-03\n",
      "  3.51495253e-04 3.36962054e-02]\n",
      " [2.19220663e-02 3.39160433e-02 1.00958563e-02 7.08245698e-03\n",
      "  9.93118634e-02 7.90281953e-01 1.97721892e-02 7.56356475e-03\n",
      "  8.72464450e-03 1.32936197e-03]]\n"
     ]
    }
   ],
   "source": [
    "print(lr.predict_proba(train_input[:5]))"
   ]
  },
  {
   "cell_type": "code",
   "execution_count": 40,
   "metadata": {},
   "outputs": [
    {
     "name": "stdout",
     "output_type": "stream",
     "text": [
      "['Fog' 'Fog-Rain' 'Fog-Rain-Snow' 'Fog-Rain-Thunderstorm' 'NoEvent' 'Rain'\n",
      " 'Rain-Snow' 'Rain-Thunderstorm' 'Snow' 'Thunderstorm']\n"
     ]
    }
   ],
   "source": [
    "print(lr.classes_)"
   ]
  },
  {
   "cell_type": "code",
   "execution_count": 41,
   "metadata": {},
   "outputs": [
    {
     "name": "stdout",
     "output_type": "stream",
     "text": [
      "[[-1.10584315e-01 -1.00719501e-01  1.31086480e-01 -3.74954423e-03\n",
      "  -1.09455438e-01 -2.68742445e-01 -6.34140548e-02 -4.90536749e-02]\n",
      " [ 3.67843810e-03  1.97593327e-02  1.12317030e-01 -7.91041457e-03\n",
      "  -2.42047363e-02 -6.61590973e-02 -8.68312467e-03  1.14599372e-02]\n",
      " [-3.64582340e-02 -2.14142384e-02  3.59065379e-02 -3.46693598e-03\n",
      "  -6.42591876e-03  2.18025985e-02  1.73983513e-02  5.31018718e-03]\n",
      " [ 2.61208718e-02  3.09461094e-02  2.46667982e-02 -3.56024748e-03\n",
      "   5.76106886e-05 -7.71313280e-03  3.84458218e-02  5.04182623e-03]\n",
      " [-2.74680428e-02 -8.42323825e-03 -1.40513980e-01  1.42126764e-02\n",
      "   7.65896494e-02  4.69611090e-02 -2.25213820e-01 -1.89007414e-01]\n",
      " [-2.32243824e-02 -4.09892963e-02 -2.99439252e-02  3.73292845e-03\n",
      "   7.68688443e-02  6.88265142e-02 -5.07671202e-03  1.81759562e-01]\n",
      " [-8.08188192e-02 -6.23814627e-02  7.61155296e-02 -5.13463547e-03\n",
      "  -1.31899626e-02  3.61121525e-03 -3.75790459e-04  1.34939617e-02]\n",
      " [ 2.00567089e-01  1.86827276e-01 -3.15786634e-02 -4.40461037e-03\n",
      "   4.61876292e-03  1.27615390e-01  2.72976423e-01  3.85055909e-02]\n",
      " [-9.74261543e-02 -1.06321114e-01 -6.26034354e-02  5.29889665e-03\n",
      "  -1.06816453e-02  6.55146210e-02 -8.93755057e-03  1.01570683e-02]\n",
      " [ 1.45613549e-01  1.02716134e-01 -1.15452371e-01  4.98188660e-03\n",
      "   5.82283408e-03  8.28322789e-03 -1.71195437e-02 -2.76670442e-02]] [-3.44669147e-04 -1.40766572e-05  7.64032370e-05  8.46506069e-06\n",
      " -5.88846756e-04  5.85295286e-04  7.67609849e-05  1.59403615e-04\n",
      "  1.89081046e-05  2.23562722e-05]\n"
     ]
    }
   ],
   "source": [
    "print(lr.coef_, lr.intercept_)"
   ]
  },
  {
   "cell_type": "code",
   "execution_count": 42,
   "metadata": {},
   "outputs": [
    {
     "data": {
      "text/plain": [
       "array([[-2.50488609, -1.59661311, -2.1166484 , -1.30462385,  5.4217121 ,\n",
       "         3.29514815, -2.82069005,  0.73309944, -0.99825277,  1.89175457],\n",
       "       [-3.50044576, -0.80448322, -1.38269991, -1.08048857,  3.7478994 ,\n",
       "         3.98051632, -1.69459904,  1.50765605, -1.0238458 ,  0.25049051],\n",
       "       [-1.79479822, -1.40560723, -1.70346521, -1.46678419,  4.86608759,\n",
       "         3.94923076, -1.93699081, -0.66393201, -0.24353895,  0.39979828],\n",
       "       [-2.55868169, -1.59960087, -2.41181992, -1.18419223,  6.20193574,\n",
       "         2.29015734, -3.41841251,  1.4911804 , -1.68675528,  2.87618903],\n",
       "       [ 0.12646848,  0.56286291, -0.64890018, -1.00340437,  1.63723979,\n",
       "         3.71136454,  0.02325112, -0.93768264, -0.79487352, -2.67632614]])"
      ]
     },
     "execution_count": 42,
     "metadata": {},
     "output_type": "execute_result"
    }
   ],
   "source": [
    "decisions = lr.decision_function(train_input[:5])\n",
    "decisions"
   ]
  },
  {
   "cell_type": "markdown",
   "metadata": {},
   "source": [
    "softmax 함수 적용"
   ]
  },
  {
   "cell_type": "code",
   "execution_count": 43,
   "metadata": {},
   "outputs": [
    {
     "name": "stdout",
     "output_type": "stream",
     "text": [
      "[[0.    0.001 0.    0.001 0.86  0.103 0.    0.008 0.001 0.025]\n",
      " [0.    0.004 0.002 0.003 0.41  0.518 0.002 0.044 0.003 0.012]\n",
      " [0.001 0.001 0.001 0.001 0.7   0.28  0.001 0.003 0.004 0.008]\n",
      " [0.    0.    0.    0.001 0.937 0.019 0.    0.008 0.    0.034]\n",
      " [0.022 0.034 0.01  0.007 0.099 0.79  0.02  0.008 0.009 0.001]]\n"
     ]
    }
   ],
   "source": [
    "from scipy.special import softmax\n",
    "\n",
    "proba = softmax(decisions, axis=1)\n",
    "print(np.round(proba, decimals=3))"
   ]
  },
  {
   "cell_type": "markdown",
   "metadata": {},
   "source": [
    "sigmod 함수 적용 -적합하지 않은 결과 ?"
   ]
  },
  {
   "cell_type": "code",
   "execution_count": 44,
   "metadata": {},
   "outputs": [
    {
     "name": "stdout",
     "output_type": "stream",
     "text": [
      "[[0.076 0.168 0.107 0.213 0.996 0.964 0.056 0.675 0.269 0.869]\n",
      " [0.029 0.309 0.201 0.253 0.977 0.982 0.155 0.819 0.264 0.562]\n",
      " [0.142 0.197 0.154 0.187 0.992 0.981 0.126 0.34  0.439 0.599]\n",
      " [0.072 0.168 0.082 0.234 0.998 0.908 0.032 0.816 0.156 0.947]\n",
      " [0.532 0.637 0.343 0.268 0.837 0.976 0.506 0.281 0.311 0.064]]\n"
     ]
    }
   ],
   "source": [
    "from scipy.special import expit\n",
    "\n",
    "proba = expit(decisions)\n",
    "print(np.round(proba, decimals = 3))"
   ]
  },
  {
   "cell_type": "markdown",
   "metadata": {
    "id": "P7LZRnCNcIWM"
   },
   "source": [
    "#결정 트리#"
   ]
  },
  {
   "cell_type": "code",
   "execution_count": 45,
   "metadata": {
    "colab": {
     "base_uri": "https://localhost:8080/"
    },
    "id": "0zwrq5cv2ELV",
    "outputId": "3ebfaa95-a836-46cc-97e2-8ac82190a3c0"
   },
   "outputs": [
    {
     "name": "stdout",
     "output_type": "stream",
     "text": [
      "1.0\n",
      "0.6521739130434783\n"
     ]
    }
   ],
   "source": [
    "from sklearn.tree import DecisionTreeClassifier\n",
    "dt = DecisionTreeClassifier(random_state = 42)\n",
    "dt.fit(train_scaled, train_target)\n",
    "print(dt.score(train_scaled, train_target))\n",
    "print(dt.score(test_scaled, test_target))"
   ]
  },
  {
   "cell_type": "code",
   "execution_count": 46,
   "metadata": {
    "colab": {
     "base_uri": "https://localhost:8080/",
     "height": 303
    },
    "id": "qPZs2d3s23K6",
    "outputId": "3a6076f5-9e70-48c7-e469-322414bd43d6"
   },
   "outputs": [
    {
     "data": {
      "image/png": "[encoded data removed]",
      "text/plain": [
       "<Figure size 900x500 with 1 Axes>"
      ]
     },
     "metadata": {},
     "output_type": "display_data"
    }
   ],
   "source": [
    "from sklearn.tree import plot_tree\n",
    "plt.figure(figsize = (9,5))\n",
    "plot_tree(dt)\n",
    "plt.show()"
   ]
  },
  {
   "cell_type": "code",
   "execution_count": 47,
   "metadata": {
    "colab": {
     "base_uri": "https://localhost:8080/",
     "height": 303
    },
    "id": "_xD-XYb1CyAC",
    "outputId": "88d60491-8536-432d-9717-3168160b1029"
   },
   "outputs": [
    {
     "data": {
      "image/png": "[encoded data removed]",
      "text/plain": [
       "<Figure size 1000x500 with 1 Axes>"
      ]
     },
     "metadata": {},
     "output_type": "display_data"
    }
   ],
   "source": [
    "plt.figure(figsize=(10,5))\n",
    "plot_tree(dt, max_depth = 1, filled = True, feature_names = ['Mean TemperatureC','MeanDew PointC', 'Mean Humidity', 'Mean Sea Level PressurehPa',\n",
    "                   'Mean VisibilityKm', 'Mean Wind SpeedKm/h', 'Precipitationmm', 'CloudCover'])\n",
    "plt.show()"
   ]
  },
  {
   "cell_type": "code",
   "execution_count": 48,
   "metadata": {
    "colab": {
     "base_uri": "https://localhost:8080/"
    },
    "id": "x7ewdUg6DRsE",
    "outputId": "665eeb81-2539-4d3a-bfd4-d8f0890176be"
   },
   "outputs": [
    {
     "name": "stdout",
     "output_type": "stream",
     "text": [
      "0.9267399267399268\n",
      "0.7065217391304348\n"
     ]
    }
   ],
   "source": [
    "dt = DecisionTreeClassifier(max_depth = 8, random_state = 42)\n",
    "dt.fit(train_scaled, train_target)\n",
    "print(dt.score(train_scaled, train_target))\n",
    "print(dt.score(test_scaled, test_target))"
   ]
  },
  {
   "cell_type": "code",
   "execution_count": 49,
   "metadata": {
    "colab": {
     "base_uri": "https://localhost:8080/",
     "height": 846
    },
    "id": "8aFJSSnVD4T4",
    "outputId": "3268e25d-ec68-46f4-8071-314d3c160a3e"
   },
   "outputs": [
    {
     "data": {
      "image/png": "[encoded data removed]",
      "text/plain": [
       "<Figure size 2000x1500 with 1 Axes>"
      ]
     },
     "metadata": {},
     "output_type": "display_data"
    }
   ],
   "source": [
    "plt.figure(figsize=(20,15))\n",
    "plot_tree(dt, filled = True, feature_names = (['Mean TemperatureC','MeanDew PointC', 'Mean Humidity', 'Mean Sea Level PressurehPa',\n",
    "                   'Mean VisibilityKm', 'Mean Wind SpeedKm/h', 'Precipitationmm', 'CloudCover']))\n",
    "plt.show()"
   ]
  },
  {
   "cell_type": "code",
   "execution_count": null,
   "metadata": {},
   "outputs": [],
   "source": []
  }
 ],
 "metadata": {
  "colab": {
   "collapsed_sections": [],
   "name": "평균온도/습도로 이진트리 - 201700851 김진유.ipynb",
   "provenance": [],
   "toc_visible": true
  },
  "kernelspec": {
   "display_name": "Python 3 (ipykernel)",
   "language": "python",
   "name": "python3"
  },
  "language_info": {
   "codemirror_mode": {
    "name": "ipython",
    "version": 3
   },
   "file_extension": ".py",
   "mimetype": "text/x-python",
   "name": "python",
   "nbconvert_exporter": "python",
   "pygments_lexer": "ipython3",
   "version": "3.9.13"
  }
 },
 "nbformat": 4,
 "nbformat_minor": 1
}
